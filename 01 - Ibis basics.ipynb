{
 "cells": [
  {
   "cell_type": "markdown",
   "metadata": {},
   "source": [
    "# Motivation\n",
    "Tools such as pandas assume that you can fit all of your data in RAM on your local machine. But data often lives in data warehouses, so we end up trying to:\n",
    "* Download significant amounts of data onto our local machines and slurp it all up into memory\n",
    "* Experiment with it and develop a proof-of-concept in Python\n",
    "* When we need productionize it, rewrite the code in something more scalable\n",
    "\n",
    "Data warehouses are typically stored on something bigger and more powerful than my laptop, plus the data is already there. They also have SQL backends that are highly optimized/extremely fast. So ideally we'd want to:\n",
    "* Take a small sample of the data and load it using a local database such as DuckDB\n",
    "* Develop in Python, but have it leverage the performance of SQL engines under-the-hood\n",
    "* In production, use the same code to process large amounts of data on the data warehouse where it already lives, avoiding a code rewrite\n",
    "* Get to keep all of your code, from data engineering to machine learning, in Python!\n",
    "\n",
    "Ibis enables this by providing a unified dataframe interface to 20+ backends. The syntax is similar to dplyr in R, or Polars in Python (and Polars is also one of the supported backends). "
   ]
  },
  {
   "cell_type": "code",
   "execution_count": 2,
   "metadata": {},
   "outputs": [],
   "source": [
    "import ibis\n",
    "from ibis import _\n",
    "\n",
    "ibis.options.interactive = False  # This is the default."
   ]
  },
  {
   "cell_type": "markdown",
   "metadata": {},
   "source": [
    "# Explore game-level data"
   ]
  },
  {
   "cell_type": "code",
   "execution_count": 3,
   "metadata": {},
   "outputs": [
    {
     "data": {
      "text/html": [
       "<pre style=\"white-space:pre;overflow-x:auto;line-height:normal;font-family:Menlo,'DejaVu Sans Mono',consolas,'Courier New',monospace\">DatabaseTable: ibis_read_parquet_wywsvl3r3zbvpkb5y7f6s7wkdy\n",
       "  game_id           string\n",
       "  event             string\n",
       "  site              string\n",
       "  date              string\n",
       "  round             string\n",
       "  white             string\n",
       "  black             string\n",
       "  result            string\n",
       "  utc_date          string\n",
       "  utc_time          string\n",
       "  white_elo         string\n",
       "  black_elo         string\n",
       "  white_rating_diff string\n",
       "  black_rating_diff string\n",
       "  eco               string\n",
       "  opening           string\n",
       "  time_control      string\n",
       "  termination       string\n",
       "  white_title       string\n",
       "  black_title       string\n",
       "</pre>\n"
      ],
      "text/plain": [
       "DatabaseTable: ibis_read_parquet_wywsvl3r3zbvpkb5y7f6s7wkdy\n",
       "  game_id           string\n",
       "  event             string\n",
       "  site              string\n",
       "  date              string\n",
       "  round             string\n",
       "  white             string\n",
       "  black             string\n",
       "  result            string\n",
       "  utc_date          string\n",
       "  utc_time          string\n",
       "  white_elo         string\n",
       "  black_elo         string\n",
       "  white_rating_diff string\n",
       "  black_rating_diff string\n",
       "  eco               string\n",
       "  opening           string\n",
       "  time_control      string\n",
       "  termination       string\n",
       "  white_title       string\n",
       "  black_title       string"
      ]
     },
     "execution_count": 3,
     "metadata": {},
     "output_type": "execute_result"
    }
   ],
   "source": [
    "games = ibis.read_parquet(\"data/games.parquet\")\n",
    "games"
   ]
  },
  {
   "cell_type": "markdown",
   "metadata": {},
   "source": [
    "By default, you get a printable representation of the table schema, showing the name and data type of each column."
   ]
  },
  {
   "cell_type": "code",
   "execution_count": 4,
   "metadata": {},
   "outputs": [
    {
     "data": {
      "text/plain": [
       "423270"
      ]
     },
     "execution_count": 4,
     "metadata": {},
     "output_type": "execute_result"
    }
   ],
   "source": [
    "games.count().to_pyarrow().as_py()"
   ]
  },
  {
   "cell_type": "code",
   "execution_count": 5,
   "metadata": {},
   "outputs": [
    {
     "data": {
      "text/plain": [
       "ibis.expr.types.relations.Table"
      ]
     },
     "execution_count": 5,
     "metadata": {},
     "output_type": "execute_result"
    }
   ],
   "source": [
    "type(games)"
   ]
  },
  {
   "cell_type": "code",
   "execution_count": 6,
   "metadata": {},
   "outputs": [
    {
     "data": {
      "text/plain": [
       "ibis.expr.types.strings.StringColumn"
      ]
     },
     "execution_count": 6,
     "metadata": {},
     "output_type": "execute_result"
    }
   ],
   "source": [
    "type(games.game_id)"
   ]
  },
  {
   "cell_type": "markdown",
   "metadata": {},
   "source": [
    "If we call the `head` method to peek at the data, you'll notice that we don't actually see any data (yet)."
   ]
  },
  {
   "cell_type": "code",
   "execution_count": 7,
   "metadata": {},
   "outputs": [
    {
     "data": {
      "text/html": [
       "<pre style=\"white-space:pre;overflow-x:auto;line-height:normal;font-family:Menlo,'DejaVu Sans Mono',consolas,'Courier New',monospace\">r0 := DatabaseTable: ibis_read_parquet_wywsvl3r3zbvpkb5y7f6s7wkdy\n",
       "  game_id           string\n",
       "  event             string\n",
       "  site              string\n",
       "  date              string\n",
       "  round             string\n",
       "  white             string\n",
       "  black             string\n",
       "  result            string\n",
       "  utc_date          string\n",
       "  utc_time          string\n",
       "  white_elo         string\n",
       "  black_elo         string\n",
       "  white_rating_diff string\n",
       "  black_rating_diff string\n",
       "  eco               string\n",
       "  opening           string\n",
       "  time_control      string\n",
       "  termination       string\n",
       "  white_title       string\n",
       "  black_title       string\n",
       "\n",
       "Limit[r0, n=5]\n",
       "</pre>\n"
      ],
      "text/plain": [
       "r0 := DatabaseTable: ibis_read_parquet_wywsvl3r3zbvpkb5y7f6s7wkdy\n",
       "  game_id           string\n",
       "  event             string\n",
       "  site              string\n",
       "  date              string\n",
       "  round             string\n",
       "  white             string\n",
       "  black             string\n",
       "  result            string\n",
       "  utc_date          string\n",
       "  utc_time          string\n",
       "  white_elo         string\n",
       "  black_elo         string\n",
       "  white_rating_diff string\n",
       "  black_rating_diff string\n",
       "  eco               string\n",
       "  opening           string\n",
       "  time_control      string\n",
       "  termination       string\n",
       "  white_title       string\n",
       "  black_title       string\n",
       "\n",
       "Limit[r0, n=5]"
      ]
     },
     "execution_count": 7,
     "metadata": {},
     "output_type": "execute_result"
    }
   ],
   "source": [
    "games.head()"
   ]
  },
  {
   "cell_type": "markdown",
   "metadata": {},
   "source": [
    "So what's going on? Ibis has a deferred execution model. It builds up expressions/queries based on what we ask it to do, and then executes those expressions once actually necessary. It's lazy (or efficient).\n",
    "\n",
    "To just see a few rows of the `games` table, we could ask for the results of `games.head()` as a `pandas.DataFrame`, `pyarrow.Table`, or `polars.DataFrame`:"
   ]
  },
  {
   "cell_type": "code",
   "execution_count": 8,
   "metadata": {},
   "outputs": [
    {
     "data": {
      "text/html": [
       "<div>\n",
       "<style scoped>\n",
       "    .dataframe tbody tr th:only-of-type {\n",
       "        vertical-align: middle;\n",
       "    }\n",
       "\n",
       "    .dataframe tbody tr th {\n",
       "        vertical-align: top;\n",
       "    }\n",
       "\n",
       "    .dataframe thead th {\n",
       "        text-align: right;\n",
       "    }\n",
       "</style>\n",
       "<table border=\"1\" class=\"dataframe\">\n",
       "  <thead>\n",
       "    <tr style=\"text-align: right;\">\n",
       "      <th></th>\n",
       "      <th>game_id</th>\n",
       "      <th>event</th>\n",
       "      <th>site</th>\n",
       "      <th>date</th>\n",
       "      <th>round</th>\n",
       "      <th>white</th>\n",
       "      <th>black</th>\n",
       "      <th>result</th>\n",
       "      <th>utc_date</th>\n",
       "      <th>utc_time</th>\n",
       "      <th>white_elo</th>\n",
       "      <th>black_elo</th>\n",
       "      <th>white_rating_diff</th>\n",
       "      <th>black_rating_diff</th>\n",
       "      <th>eco</th>\n",
       "      <th>opening</th>\n",
       "      <th>time_control</th>\n",
       "      <th>termination</th>\n",
       "      <th>white_title</th>\n",
       "      <th>black_title</th>\n",
       "    </tr>\n",
       "  </thead>\n",
       "  <tbody>\n",
       "    <tr>\n",
       "      <th>0</th>\n",
       "      <td>S3bP7JXA</td>\n",
       "      <td>Rated Blitz game</td>\n",
       "      <td>https://lichess.org/S3bP7JXA</td>\n",
       "      <td>2024.09.01</td>\n",
       "      <td>-</td>\n",
       "      <td>SihelyValahara</td>\n",
       "      <td>modze10</td>\n",
       "      <td>1-0</td>\n",
       "      <td>2024.09.01</td>\n",
       "      <td>09:21:36</td>\n",
       "      <td>2063</td>\n",
       "      <td>2072</td>\n",
       "      <td>+7</td>\n",
       "      <td>-7</td>\n",
       "      <td>C64</td>\n",
       "      <td>Ruy Lopez: Classical Defense, Benelux Variation</td>\n",
       "      <td>180+0</td>\n",
       "      <td>Normal</td>\n",
       "      <td>None</td>\n",
       "      <td>None</td>\n",
       "    </tr>\n",
       "    <tr>\n",
       "      <th>1</th>\n",
       "      <td>X1OtRVZo</td>\n",
       "      <td>Rated Blitz game</td>\n",
       "      <td>https://lichess.org/X1OtRVZo</td>\n",
       "      <td>2024.09.01</td>\n",
       "      <td>-</td>\n",
       "      <td>certified</td>\n",
       "      <td>braquejnr</td>\n",
       "      <td>1-0</td>\n",
       "      <td>2024.09.01</td>\n",
       "      <td>09:21:36</td>\n",
       "      <td>1338</td>\n",
       "      <td>1325</td>\n",
       "      <td>+6</td>\n",
       "      <td>-6</td>\n",
       "      <td>C25</td>\n",
       "      <td>Vienna Game</td>\n",
       "      <td>180+0</td>\n",
       "      <td>Normal</td>\n",
       "      <td>None</td>\n",
       "      <td>None</td>\n",
       "    </tr>\n",
       "    <tr>\n",
       "      <th>2</th>\n",
       "      <td>tqye7Q9W</td>\n",
       "      <td>Rated Blitz game</td>\n",
       "      <td>https://lichess.org/tqye7Q9W</td>\n",
       "      <td>2024.09.01</td>\n",
       "      <td>-</td>\n",
       "      <td>Heavy_Metal</td>\n",
       "      <td>Kayra_16</td>\n",
       "      <td>1-0</td>\n",
       "      <td>2024.09.01</td>\n",
       "      <td>09:21:36</td>\n",
       "      <td>1290</td>\n",
       "      <td>1248</td>\n",
       "      <td>+5</td>\n",
       "      <td>-9</td>\n",
       "      <td>D00</td>\n",
       "      <td>Queen's Pawn Game: Chigorin Variation</td>\n",
       "      <td>180+0</td>\n",
       "      <td>Normal</td>\n",
       "      <td>None</td>\n",
       "      <td>None</td>\n",
       "    </tr>\n",
       "    <tr>\n",
       "      <th>3</th>\n",
       "      <td>841dKoEt</td>\n",
       "      <td>Rated Blitz game</td>\n",
       "      <td>https://lichess.org/841dKoEt</td>\n",
       "      <td>2024.09.01</td>\n",
       "      <td>-</td>\n",
       "      <td>sensorlife77</td>\n",
       "      <td>Superscarso</td>\n",
       "      <td>0-1</td>\n",
       "      <td>2024.09.01</td>\n",
       "      <td>09:21:36</td>\n",
       "      <td>2220</td>\n",
       "      <td>2236</td>\n",
       "      <td>-5</td>\n",
       "      <td>+6</td>\n",
       "      <td>A08</td>\n",
       "      <td>King's Indian Attack: French Variation</td>\n",
       "      <td>180+0</td>\n",
       "      <td>Normal</td>\n",
       "      <td>None</td>\n",
       "      <td>None</td>\n",
       "    </tr>\n",
       "    <tr>\n",
       "      <th>4</th>\n",
       "      <td>4qhCbnwD</td>\n",
       "      <td>Rated Bullet game</td>\n",
       "      <td>https://lichess.org/4qhCbnwD</td>\n",
       "      <td>2024.09.01</td>\n",
       "      <td>-</td>\n",
       "      <td>mesin1021</td>\n",
       "      <td>Sergey1184</td>\n",
       "      <td>1-0</td>\n",
       "      <td>2024.09.01</td>\n",
       "      <td>09:21:38</td>\n",
       "      <td>1526</td>\n",
       "      <td>1516</td>\n",
       "      <td>+6</td>\n",
       "      <td>-6</td>\n",
       "      <td>D06</td>\n",
       "      <td>Queen's Gambit Declined: Baltic Defense</td>\n",
       "      <td>120+1</td>\n",
       "      <td>Normal</td>\n",
       "      <td>None</td>\n",
       "      <td>None</td>\n",
       "    </tr>\n",
       "  </tbody>\n",
       "</table>\n",
       "</div>"
      ],
      "text/plain": [
       "    game_id              event                          site        date  \\\n",
       "0  S3bP7JXA   Rated Blitz game  https://lichess.org/S3bP7JXA  2024.09.01   \n",
       "1  X1OtRVZo   Rated Blitz game  https://lichess.org/X1OtRVZo  2024.09.01   \n",
       "2  tqye7Q9W   Rated Blitz game  https://lichess.org/tqye7Q9W  2024.09.01   \n",
       "3  841dKoEt   Rated Blitz game  https://lichess.org/841dKoEt  2024.09.01   \n",
       "4  4qhCbnwD  Rated Bullet game  https://lichess.org/4qhCbnwD  2024.09.01   \n",
       "\n",
       "  round           white        black result    utc_date  utc_time white_elo  \\\n",
       "0     -  SihelyValahara      modze10    1-0  2024.09.01  09:21:36      2063   \n",
       "1     -       certified    braquejnr    1-0  2024.09.01  09:21:36      1338   \n",
       "2     -     Heavy_Metal     Kayra_16    1-0  2024.09.01  09:21:36      1290   \n",
       "3     -    sensorlife77  Superscarso    0-1  2024.09.01  09:21:36      2220   \n",
       "4     -       mesin1021   Sergey1184    1-0  2024.09.01  09:21:38      1526   \n",
       "\n",
       "  black_elo white_rating_diff black_rating_diff  eco  \\\n",
       "0      2072                +7                -7  C64   \n",
       "1      1325                +6                -6  C25   \n",
       "2      1248                +5                -9  D00   \n",
       "3      2236                -5                +6  A08   \n",
       "4      1516                +6                -6  D06   \n",
       "\n",
       "                                           opening time_control termination  \\\n",
       "0  Ruy Lopez: Classical Defense, Benelux Variation        180+0      Normal   \n",
       "1                                      Vienna Game        180+0      Normal   \n",
       "2            Queen's Pawn Game: Chigorin Variation        180+0      Normal   \n",
       "3           King's Indian Attack: French Variation        180+0      Normal   \n",
       "4          Queen's Gambit Declined: Baltic Defense        120+1      Normal   \n",
       "\n",
       "  white_title black_title  \n",
       "0        None        None  \n",
       "1        None        None  \n",
       "2        None        None  \n",
       "3        None        None  \n",
       "4        None        None  "
      ]
     },
     "execution_count": 8,
     "metadata": {},
     "output_type": "execute_result"
    }
   ],
   "source": [
    "games.head().to_pandas()"
   ]
  },
  {
   "cell_type": "markdown",
   "metadata": {},
   "source": [
    "Ibis also has an interactive mode. In this mode, Ibis will eagerly execute as much of the query as it needs to in order to show us 10 rows of the result.\n",
    "\n",
    "(\"Eager\" = not deferred/lazy)"
   ]
  },
  {
   "cell_type": "code",
   "execution_count": 9,
   "metadata": {},
   "outputs": [
    {
     "data": {
      "text/html": [
       "<pre style=\"white-space:pre;overflow-x:auto;line-height:normal;font-family:Menlo,'DejaVu Sans Mono',consolas,'Courier New',monospace\">┏━━━━━━━━━━┳━━━━━━━━━━━━━━━━━━━┳━━━━━━━━━━━━━━━━━━━━━━━━━━━━━━┳━━━━━━━━━━━━┳━━━━━━━━┳━━━━━━━━━━━━━━━━━┳━━━━━━━━━━━━━━━━━━━━┳━━━━━━━━┳━━━━━━━━━━━━┳━━━━━━━━━━┳━━━━━━━━━━━┳━━━━━━━━━━━┳━━━━━━━━━━━━━━━━━━━┳━━━━━━━━━━━━━━━━━━━┳━━━━━━━━┳━━━━━━━━━━━━━━━━━━━━━━━━━━━━━━━━━━━━━━━━━━━━━━━━━┳━━━━━━━━━━━━━━┳━━━━━━━━━━━━━━┳━━━━━━━━━━━━━┳━━━━━━━━━━━━━┓\n",
       "┃<span style=\"font-weight: bold\"> game_id  </span>┃<span style=\"font-weight: bold\"> event             </span>┃<span style=\"font-weight: bold\"> site                         </span>┃<span style=\"font-weight: bold\"> date       </span>┃<span style=\"font-weight: bold\"> round  </span>┃<span style=\"font-weight: bold\"> white           </span>┃<span style=\"font-weight: bold\"> black              </span>┃<span style=\"font-weight: bold\"> result </span>┃<span style=\"font-weight: bold\"> utc_date   </span>┃<span style=\"font-weight: bold\"> utc_time </span>┃<span style=\"font-weight: bold\"> white_elo </span>┃<span style=\"font-weight: bold\"> black_elo </span>┃<span style=\"font-weight: bold\"> white_rating_diff </span>┃<span style=\"font-weight: bold\"> black_rating_diff </span>┃<span style=\"font-weight: bold\"> eco    </span>┃<span style=\"font-weight: bold\"> opening                                         </span>┃<span style=\"font-weight: bold\"> time_control </span>┃<span style=\"font-weight: bold\"> termination  </span>┃<span style=\"font-weight: bold\"> white_title </span>┃<span style=\"font-weight: bold\"> black_title </span>┃\n",
       "┡━━━━━━━━━━╇━━━━━━━━━━━━━━━━━━━╇━━━━━━━━━━━━━━━━━━━━━━━━━━━━━━╇━━━━━━━━━━━━╇━━━━━━━━╇━━━━━━━━━━━━━━━━━╇━━━━━━━━━━━━━━━━━━━━╇━━━━━━━━╇━━━━━━━━━━━━╇━━━━━━━━━━╇━━━━━━━━━━━╇━━━━━━━━━━━╇━━━━━━━━━━━━━━━━━━━╇━━━━━━━━━━━━━━━━━━━╇━━━━━━━━╇━━━━━━━━━━━━━━━━━━━━━━━━━━━━━━━━━━━━━━━━━━━━━━━━━╇━━━━━━━━━━━━━━╇━━━━━━━━━━━━━━╇━━━━━━━━━━━━━╇━━━━━━━━━━━━━┩\n",
       "│ <span style=\"color: #7f7f7f; text-decoration-color: #7f7f7f\">string</span>   │ <span style=\"color: #7f7f7f; text-decoration-color: #7f7f7f\">string</span>            │ <span style=\"color: #7f7f7f; text-decoration-color: #7f7f7f\">string</span>                       │ <span style=\"color: #7f7f7f; text-decoration-color: #7f7f7f\">string</span>     │ <span style=\"color: #7f7f7f; text-decoration-color: #7f7f7f\">string</span> │ <span style=\"color: #7f7f7f; text-decoration-color: #7f7f7f\">string</span>          │ <span style=\"color: #7f7f7f; text-decoration-color: #7f7f7f\">string</span>             │ <span style=\"color: #7f7f7f; text-decoration-color: #7f7f7f\">string</span> │ <span style=\"color: #7f7f7f; text-decoration-color: #7f7f7f\">string</span>     │ <span style=\"color: #7f7f7f; text-decoration-color: #7f7f7f\">string</span>   │ <span style=\"color: #7f7f7f; text-decoration-color: #7f7f7f\">string</span>    │ <span style=\"color: #7f7f7f; text-decoration-color: #7f7f7f\">string</span>    │ <span style=\"color: #7f7f7f; text-decoration-color: #7f7f7f\">string</span>            │ <span style=\"color: #7f7f7f; text-decoration-color: #7f7f7f\">string</span>            │ <span style=\"color: #7f7f7f; text-decoration-color: #7f7f7f\">string</span> │ <span style=\"color: #7f7f7f; text-decoration-color: #7f7f7f\">string</span>                                          │ <span style=\"color: #7f7f7f; text-decoration-color: #7f7f7f\">string</span>       │ <span style=\"color: #7f7f7f; text-decoration-color: #7f7f7f\">string</span>       │ <span style=\"color: #7f7f7f; text-decoration-color: #7f7f7f\">string</span>      │ <span style=\"color: #7f7f7f; text-decoration-color: #7f7f7f\">string</span>      │\n",
       "├──────────┼───────────────────┼──────────────────────────────┼────────────┼────────┼─────────────────┼────────────────────┼────────┼────────────┼──────────┼───────────┼───────────┼───────────────────┼───────────────────┼────────┼─────────────────────────────────────────────────┼──────────────┼──────────────┼─────────────┼─────────────┤\n",
       "│ <span style=\"color: #008000; text-decoration-color: #008000\">S3bP7JXA</span> │ <span style=\"color: #008000; text-decoration-color: #008000\">Rated Blitz game </span> │ <a href=\"https://lichess.org/S3bP7JXA\" target=\"_blank\"><span style=\"color: #008000; text-decoration-color: #008000\">https://lichess.org/S3bP7JXA</span></a> │ <span style=\"color: #008000; text-decoration-color: #008000\">2024.09.01</span> │ <span style=\"color: #008000; text-decoration-color: #008000\">-     </span> │ <span style=\"color: #008000; text-decoration-color: #008000\">SihelyValahara </span> │ <span style=\"color: #008000; text-decoration-color: #008000\">modze10           </span> │ <span style=\"color: #008000; text-decoration-color: #008000\">1-0   </span> │ <span style=\"color: #008000; text-decoration-color: #008000\">2024.09.01</span> │ <span style=\"color: #008000; text-decoration-color: #008000\">09:21:36</span> │ <span style=\"color: #008000; text-decoration-color: #008000\">2063     </span> │ <span style=\"color: #008000; text-decoration-color: #008000\">2072     </span> │ <span style=\"color: #008000; text-decoration-color: #008000\">+7               </span> │ <span style=\"color: #008000; text-decoration-color: #008000\">-7               </span> │ <span style=\"color: #008000; text-decoration-color: #008000\">C64   </span> │ <span style=\"color: #008000; text-decoration-color: #008000\">Ruy Lopez: Classical Defense, Benelux Variation</span> │ <span style=\"color: #008000; text-decoration-color: #008000\">180+0       </span> │ <span style=\"color: #008000; text-decoration-color: #008000\">Normal      </span> │ <span style=\"color: #7f7f7f; text-decoration-color: #7f7f7f\">NULL</span>        │ <span style=\"color: #7f7f7f; text-decoration-color: #7f7f7f\">NULL</span>        │\n",
       "│ <span style=\"color: #008000; text-decoration-color: #008000\">X1OtRVZo</span> │ <span style=\"color: #008000; text-decoration-color: #008000\">Rated Blitz game </span> │ <a href=\"https://lichess.org/X1OtRVZo\" target=\"_blank\"><span style=\"color: #008000; text-decoration-color: #008000\">https://lichess.org/X1OtRVZo</span></a> │ <span style=\"color: #008000; text-decoration-color: #008000\">2024.09.01</span> │ <span style=\"color: #008000; text-decoration-color: #008000\">-     </span> │ <span style=\"color: #008000; text-decoration-color: #008000\">certified      </span> │ <span style=\"color: #008000; text-decoration-color: #008000\">braquejnr         </span> │ <span style=\"color: #008000; text-decoration-color: #008000\">1-0   </span> │ <span style=\"color: #008000; text-decoration-color: #008000\">2024.09.01</span> │ <span style=\"color: #008000; text-decoration-color: #008000\">09:21:36</span> │ <span style=\"color: #008000; text-decoration-color: #008000\">1338     </span> │ <span style=\"color: #008000; text-decoration-color: #008000\">1325     </span> │ <span style=\"color: #008000; text-decoration-color: #008000\">+6               </span> │ <span style=\"color: #008000; text-decoration-color: #008000\">-6               </span> │ <span style=\"color: #008000; text-decoration-color: #008000\">C25   </span> │ <span style=\"color: #008000; text-decoration-color: #008000\">Vienna Game                                    </span> │ <span style=\"color: #008000; text-decoration-color: #008000\">180+0       </span> │ <span style=\"color: #008000; text-decoration-color: #008000\">Normal      </span> │ <span style=\"color: #7f7f7f; text-decoration-color: #7f7f7f\">NULL</span>        │ <span style=\"color: #7f7f7f; text-decoration-color: #7f7f7f\">NULL</span>        │\n",
       "│ <span style=\"color: #008000; text-decoration-color: #008000\">tqye7Q9W</span> │ <span style=\"color: #008000; text-decoration-color: #008000\">Rated Blitz game </span> │ <a href=\"https://lichess.org/tqye7Q9W\" target=\"_blank\"><span style=\"color: #008000; text-decoration-color: #008000\">https://lichess.org/tqye7Q9W</span></a> │ <span style=\"color: #008000; text-decoration-color: #008000\">2024.09.01</span> │ <span style=\"color: #008000; text-decoration-color: #008000\">-     </span> │ <span style=\"color: #008000; text-decoration-color: #008000\">Heavy_Metal    </span> │ <span style=\"color: #008000; text-decoration-color: #008000\">Kayra_16          </span> │ <span style=\"color: #008000; text-decoration-color: #008000\">1-0   </span> │ <span style=\"color: #008000; text-decoration-color: #008000\">2024.09.01</span> │ <span style=\"color: #008000; text-decoration-color: #008000\">09:21:36</span> │ <span style=\"color: #008000; text-decoration-color: #008000\">1290     </span> │ <span style=\"color: #008000; text-decoration-color: #008000\">1248     </span> │ <span style=\"color: #008000; text-decoration-color: #008000\">+5               </span> │ <span style=\"color: #008000; text-decoration-color: #008000\">-9               </span> │ <span style=\"color: #008000; text-decoration-color: #008000\">D00   </span> │ <span style=\"color: #008000; text-decoration-color: #008000\">Queen's Pawn Game: Chigorin Variation          </span> │ <span style=\"color: #008000; text-decoration-color: #008000\">180+0       </span> │ <span style=\"color: #008000; text-decoration-color: #008000\">Normal      </span> │ <span style=\"color: #7f7f7f; text-decoration-color: #7f7f7f\">NULL</span>        │ <span style=\"color: #7f7f7f; text-decoration-color: #7f7f7f\">NULL</span>        │\n",
       "│ <span style=\"color: #008000; text-decoration-color: #008000\">841dKoEt</span> │ <span style=\"color: #008000; text-decoration-color: #008000\">Rated Blitz game </span> │ <a href=\"https://lichess.org/841dKoEt\" target=\"_blank\"><span style=\"color: #008000; text-decoration-color: #008000\">https://lichess.org/841dKoEt</span></a> │ <span style=\"color: #008000; text-decoration-color: #008000\">2024.09.01</span> │ <span style=\"color: #008000; text-decoration-color: #008000\">-     </span> │ <span style=\"color: #008000; text-decoration-color: #008000\">sensorlife77   </span> │ <span style=\"color: #008000; text-decoration-color: #008000\">Superscarso       </span> │ <span style=\"color: #008000; text-decoration-color: #008000\">0-1   </span> │ <span style=\"color: #008000; text-decoration-color: #008000\">2024.09.01</span> │ <span style=\"color: #008000; text-decoration-color: #008000\">09:21:36</span> │ <span style=\"color: #008000; text-decoration-color: #008000\">2220     </span> │ <span style=\"color: #008000; text-decoration-color: #008000\">2236     </span> │ <span style=\"color: #008000; text-decoration-color: #008000\">-5               </span> │ <span style=\"color: #008000; text-decoration-color: #008000\">+6               </span> │ <span style=\"color: #008000; text-decoration-color: #008000\">A08   </span> │ <span style=\"color: #008000; text-decoration-color: #008000\">King's Indian Attack: French Variation         </span> │ <span style=\"color: #008000; text-decoration-color: #008000\">180+0       </span> │ <span style=\"color: #008000; text-decoration-color: #008000\">Normal      </span> │ <span style=\"color: #7f7f7f; text-decoration-color: #7f7f7f\">NULL</span>        │ <span style=\"color: #7f7f7f; text-decoration-color: #7f7f7f\">NULL</span>        │\n",
       "│ <span style=\"color: #008000; text-decoration-color: #008000\">4qhCbnwD</span> │ <span style=\"color: #008000; text-decoration-color: #008000\">Rated Bullet game</span> │ <a href=\"https://lichess.org/4qhCbnwD\" target=\"_blank\"><span style=\"color: #008000; text-decoration-color: #008000\">https://lichess.org/4qhCbnwD</span></a> │ <span style=\"color: #008000; text-decoration-color: #008000\">2024.09.01</span> │ <span style=\"color: #008000; text-decoration-color: #008000\">-     </span> │ <span style=\"color: #008000; text-decoration-color: #008000\">mesin1021      </span> │ <span style=\"color: #008000; text-decoration-color: #008000\">Sergey1184        </span> │ <span style=\"color: #008000; text-decoration-color: #008000\">1-0   </span> │ <span style=\"color: #008000; text-decoration-color: #008000\">2024.09.01</span> │ <span style=\"color: #008000; text-decoration-color: #008000\">09:21:38</span> │ <span style=\"color: #008000; text-decoration-color: #008000\">1526     </span> │ <span style=\"color: #008000; text-decoration-color: #008000\">1516     </span> │ <span style=\"color: #008000; text-decoration-color: #008000\">+6               </span> │ <span style=\"color: #008000; text-decoration-color: #008000\">-6               </span> │ <span style=\"color: #008000; text-decoration-color: #008000\">D06   </span> │ <span style=\"color: #008000; text-decoration-color: #008000\">Queen's Gambit Declined: Baltic Defense        </span> │ <span style=\"color: #008000; text-decoration-color: #008000\">120+1       </span> │ <span style=\"color: #008000; text-decoration-color: #008000\">Normal      </span> │ <span style=\"color: #7f7f7f; text-decoration-color: #7f7f7f\">NULL</span>        │ <span style=\"color: #7f7f7f; text-decoration-color: #7f7f7f\">NULL</span>        │\n",
       "│ <span style=\"color: #008000; text-decoration-color: #008000\">KqBjz4jF</span> │ <span style=\"color: #008000; text-decoration-color: #008000\">Rated Rapid game </span> │ <a href=\"https://lichess.org/KqBjz4jF\" target=\"_blank\"><span style=\"color: #008000; text-decoration-color: #008000\">https://lichess.org/KqBjz4jF</span></a> │ <span style=\"color: #008000; text-decoration-color: #008000\">2024.09.01</span> │ <span style=\"color: #008000; text-decoration-color: #008000\">-     </span> │ <span style=\"color: #008000; text-decoration-color: #008000\">htfy           </span> │ <span style=\"color: #008000; text-decoration-color: #008000\">koorushfakharzadeh</span> │ <span style=\"color: #008000; text-decoration-color: #008000\">0-1   </span> │ <span style=\"color: #008000; text-decoration-color: #008000\">2024.09.01</span> │ <span style=\"color: #008000; text-decoration-color: #008000\">09:21:39</span> │ <span style=\"color: #008000; text-decoration-color: #008000\">1327     </span> │ <span style=\"color: #008000; text-decoration-color: #008000\">1723     </span> │ <span style=\"color: #008000; text-decoration-color: #008000\">-2               </span> │ <span style=\"color: #008000; text-decoration-color: #008000\">+1               </span> │ <span style=\"color: #008000; text-decoration-color: #008000\">C50   </span> │ <span style=\"color: #008000; text-decoration-color: #008000\">Italian Game: Giuoco Pianissimo, Normal        </span> │ <span style=\"color: #008000; text-decoration-color: #008000\">600+1       </span> │ <span style=\"color: #008000; text-decoration-color: #008000\">Normal      </span> │ <span style=\"color: #7f7f7f; text-decoration-color: #7f7f7f\">NULL</span>        │ <span style=\"color: #7f7f7f; text-decoration-color: #7f7f7f\">NULL</span>        │\n",
       "│ <span style=\"color: #008000; text-decoration-color: #008000\">1uB4YHHH</span> │ <span style=\"color: #008000; text-decoration-color: #008000\">Rated Blitz game </span> │ <a href=\"https://lichess.org/1uB4YHHH\" target=\"_blank\"><span style=\"color: #008000; text-decoration-color: #008000\">https://lichess.org/1uB4YHHH</span></a> │ <span style=\"color: #008000; text-decoration-color: #008000\">2024.09.01</span> │ <span style=\"color: #008000; text-decoration-color: #008000\">-     </span> │ <span style=\"color: #008000; text-decoration-color: #008000\">samotos        </span> │ <span style=\"color: #008000; text-decoration-color: #008000\">tamir71           </span> │ <span style=\"color: #008000; text-decoration-color: #008000\">1-0   </span> │ <span style=\"color: #008000; text-decoration-color: #008000\">2024.09.01</span> │ <span style=\"color: #008000; text-decoration-color: #008000\">09:21:39</span> │ <span style=\"color: #008000; text-decoration-color: #008000\">1552     </span> │ <span style=\"color: #008000; text-decoration-color: #008000\">1650     </span> │ <span style=\"color: #008000; text-decoration-color: #008000\">+7               </span> │ <span style=\"color: #008000; text-decoration-color: #008000\">-8               </span> │ <span style=\"color: #008000; text-decoration-color: #008000\">D30   </span> │ <span style=\"color: #008000; text-decoration-color: #008000\">Queen's Gambit Declined                        </span> │ <span style=\"color: #008000; text-decoration-color: #008000\">180+2       </span> │ <span style=\"color: #008000; text-decoration-color: #008000\">Normal      </span> │ <span style=\"color: #7f7f7f; text-decoration-color: #7f7f7f\">NULL</span>        │ <span style=\"color: #7f7f7f; text-decoration-color: #7f7f7f\">NULL</span>        │\n",
       "│ <span style=\"color: #008000; text-decoration-color: #008000\">81WWusNZ</span> │ <span style=\"color: #008000; text-decoration-color: #008000\">Rated Blitz game </span> │ <a href=\"https://lichess.org/81WWusNZ\" target=\"_blank\"><span style=\"color: #008000; text-decoration-color: #008000\">https://lichess.org/81WWusNZ</span></a> │ <span style=\"color: #008000; text-decoration-color: #008000\">2024.09.01</span> │ <span style=\"color: #008000; text-decoration-color: #008000\">-     </span> │ <span style=\"color: #008000; text-decoration-color: #008000\">ZiguratZenMelle</span> │ <span style=\"color: #008000; text-decoration-color: #008000\">BT21PJM           </span> │ <span style=\"color: #008000; text-decoration-color: #008000\">0-1   </span> │ <span style=\"color: #008000; text-decoration-color: #008000\">2024.09.01</span> │ <span style=\"color: #008000; text-decoration-color: #008000\">09:21:39</span> │ <span style=\"color: #008000; text-decoration-color: #008000\">2158     </span> │ <span style=\"color: #008000; text-decoration-color: #008000\">2042     </span> │ <span style=\"color: #008000; text-decoration-color: #008000\">-8               </span> │ <span style=\"color: #008000; text-decoration-color: #008000\">+8               </span> │ <span style=\"color: #008000; text-decoration-color: #008000\">D17   </span> │ <span style=\"color: #008000; text-decoration-color: #008000\">Slav Defense: Czech Variation, Krause Attack   </span> │ <span style=\"color: #008000; text-decoration-color: #008000\">180+2       </span> │ <span style=\"color: #008000; text-decoration-color: #008000\">Time forfeit</span> │ <span style=\"color: #7f7f7f; text-decoration-color: #7f7f7f\">NULL</span>        │ <span style=\"color: #008000; text-decoration-color: #008000\">WFM        </span> │\n",
       "│ <span style=\"color: #008000; text-decoration-color: #008000\">RGz9ttRa</span> │ <span style=\"color: #008000; text-decoration-color: #008000\">Rated Bullet game</span> │ <a href=\"https://lichess.org/RGz9ttRa\" target=\"_blank\"><span style=\"color: #008000; text-decoration-color: #008000\">https://lichess.org/RGz9ttRa</span></a> │ <span style=\"color: #008000; text-decoration-color: #008000\">2024.09.01</span> │ <span style=\"color: #008000; text-decoration-color: #008000\">-     </span> │ <span style=\"color: #008000; text-decoration-color: #008000\">ASowilem       </span> │ <span style=\"color: #008000; text-decoration-color: #008000\">Egorwin           </span> │ <span style=\"color: #008000; text-decoration-color: #008000\">0-1   </span> │ <span style=\"color: #008000; text-decoration-color: #008000\">2024.09.01</span> │ <span style=\"color: #008000; text-decoration-color: #008000\">09:21:41</span> │ <span style=\"color: #008000; text-decoration-color: #008000\">1176     </span> │ <span style=\"color: #008000; text-decoration-color: #008000\">1179     </span> │ <span style=\"color: #008000; text-decoration-color: #008000\">-10              </span> │ <span style=\"color: #008000; text-decoration-color: #008000\">+5               </span> │ <span style=\"color: #008000; text-decoration-color: #008000\">A40   </span> │ <span style=\"color: #008000; text-decoration-color: #008000\">Mikenas Defense                                </span> │ <span style=\"color: #008000; text-decoration-color: #008000\">60+0        </span> │ <span style=\"color: #008000; text-decoration-color: #008000\">Normal      </span> │ <span style=\"color: #7f7f7f; text-decoration-color: #7f7f7f\">NULL</span>        │ <span style=\"color: #7f7f7f; text-decoration-color: #7f7f7f\">NULL</span>        │\n",
       "│ <span style=\"color: #008000; text-decoration-color: #008000\">DGxmILo9</span> │ <span style=\"color: #008000; text-decoration-color: #008000\">Rated Blitz game </span> │ <a href=\"https://lichess.org/DGxmILo9\" target=\"_blank\"><span style=\"color: #008000; text-decoration-color: #008000\">https://lichess.org/DGxmILo9</span></a> │ <span style=\"color: #008000; text-decoration-color: #008000\">2024.09.01</span> │ <span style=\"color: #008000; text-decoration-color: #008000\">-     </span> │ <span style=\"color: #008000; text-decoration-color: #008000\">Amerekov-Chess </span> │ <span style=\"color: #008000; text-decoration-color: #008000\">Dmitry_Shubin     </span> │ <span style=\"color: #008000; text-decoration-color: #008000\">0-1   </span> │ <span style=\"color: #008000; text-decoration-color: #008000\">2024.09.01</span> │ <span style=\"color: #008000; text-decoration-color: #008000\">09:21:42</span> │ <span style=\"color: #008000; text-decoration-color: #008000\">2154     </span> │ <span style=\"color: #008000; text-decoration-color: #008000\">2166     </span> │ <span style=\"color: #008000; text-decoration-color: #008000\">-5               </span> │ <span style=\"color: #008000; text-decoration-color: #008000\">+5               </span> │ <span style=\"color: #008000; text-decoration-color: #008000\">C21   </span> │ <span style=\"color: #008000; text-decoration-color: #008000\">Center Game                                    </span> │ <span style=\"color: #008000; text-decoration-color: #008000\">180+0       </span> │ <span style=\"color: #008000; text-decoration-color: #008000\">Time forfeit</span> │ <span style=\"color: #7f7f7f; text-decoration-color: #7f7f7f\">NULL</span>        │ <span style=\"color: #7f7f7f; text-decoration-color: #7f7f7f\">NULL</span>        │\n",
       "│ <span style=\"color: #7f7f7f; text-decoration-color: #7f7f7f\">…</span>        │ <span style=\"color: #7f7f7f; text-decoration-color: #7f7f7f\">…</span>                 │ <span style=\"color: #7f7f7f; text-decoration-color: #7f7f7f\">…</span>                            │ <span style=\"color: #7f7f7f; text-decoration-color: #7f7f7f\">…</span>          │ <span style=\"color: #7f7f7f; text-decoration-color: #7f7f7f\">…</span>      │ <span style=\"color: #7f7f7f; text-decoration-color: #7f7f7f\">…</span>               │ <span style=\"color: #7f7f7f; text-decoration-color: #7f7f7f\">…</span>                  │ <span style=\"color: #7f7f7f; text-decoration-color: #7f7f7f\">…</span>      │ <span style=\"color: #7f7f7f; text-decoration-color: #7f7f7f\">…</span>          │ <span style=\"color: #7f7f7f; text-decoration-color: #7f7f7f\">…</span>        │ <span style=\"color: #7f7f7f; text-decoration-color: #7f7f7f\">…</span>         │ <span style=\"color: #7f7f7f; text-decoration-color: #7f7f7f\">…</span>         │ <span style=\"color: #7f7f7f; text-decoration-color: #7f7f7f\">…</span>                 │ <span style=\"color: #7f7f7f; text-decoration-color: #7f7f7f\">…</span>                 │ <span style=\"color: #7f7f7f; text-decoration-color: #7f7f7f\">…</span>      │ <span style=\"color: #7f7f7f; text-decoration-color: #7f7f7f\">…</span>                                               │ <span style=\"color: #7f7f7f; text-decoration-color: #7f7f7f\">…</span>            │ <span style=\"color: #7f7f7f; text-decoration-color: #7f7f7f\">…</span>            │ <span style=\"color: #7f7f7f; text-decoration-color: #7f7f7f\">…</span>           │ <span style=\"color: #7f7f7f; text-decoration-color: #7f7f7f\">…</span>           │\n",
       "└──────────┴───────────────────┴──────────────────────────────┴────────────┴────────┴─────────────────┴────────────────────┴────────┴────────────┴──────────┴───────────┴───────────┴───────────────────┴───────────────────┴────────┴─────────────────────────────────────────────────┴──────────────┴──────────────┴─────────────┴─────────────┘\n",
       "</pre>\n"
      ],
      "text/plain": [
       "┏━━━━━━━━━━┳━━━━━━━━━━━━━━━━━━━┳━━━━━━━━━━━━━━━━━━━━━━━━━━━━━━┳━━━━━━━━━━━━┳━━━━━━━━┳━━━━━━━━━━━━━━━━━┳━━━━━━━━━━━━━━━━━━━━┳━━━━━━━━┳━━━━━━━━━━━━┳━━━━━━━━━━┳━━━━━━━━━━━┳━━━━━━━━━━━┳━━━━━━━━━━━━━━━━━━━┳━━━━━━━━━━━━━━━━━━━┳━━━━━━━━┳━━━━━━━━━━━━━━━━━━━━━━━━━━━━━━━━━━━━━━━━━━━━━━━━━┳━━━━━━━━━━━━━━┳━━━━━━━━━━━━━━┳━━━━━━━━━━━━━┳━━━━━━━━━━━━━┓\n",
       "┃\u001b[1m \u001b[0m\u001b[1mgame_id\u001b[0m\u001b[1m \u001b[0m\u001b[1m \u001b[0m┃\u001b[1m \u001b[0m\u001b[1mevent\u001b[0m\u001b[1m            \u001b[0m\u001b[1m \u001b[0m┃\u001b[1m \u001b[0m\u001b[1msite\u001b[0m\u001b[1m                        \u001b[0m\u001b[1m \u001b[0m┃\u001b[1m \u001b[0m\u001b[1mdate\u001b[0m\u001b[1m      \u001b[0m\u001b[1m \u001b[0m┃\u001b[1m \u001b[0m\u001b[1mround\u001b[0m\u001b[1m \u001b[0m\u001b[1m \u001b[0m┃\u001b[1m \u001b[0m\u001b[1mwhite\u001b[0m\u001b[1m          \u001b[0m\u001b[1m \u001b[0m┃\u001b[1m \u001b[0m\u001b[1mblack\u001b[0m\u001b[1m             \u001b[0m\u001b[1m \u001b[0m┃\u001b[1m \u001b[0m\u001b[1mresult\u001b[0m\u001b[1m \u001b[0m┃\u001b[1m \u001b[0m\u001b[1mutc_date\u001b[0m\u001b[1m  \u001b[0m\u001b[1m \u001b[0m┃\u001b[1m \u001b[0m\u001b[1mutc_time\u001b[0m\u001b[1m \u001b[0m┃\u001b[1m \u001b[0m\u001b[1mwhite_elo\u001b[0m\u001b[1m \u001b[0m┃\u001b[1m \u001b[0m\u001b[1mblack_elo\u001b[0m\u001b[1m \u001b[0m┃\u001b[1m \u001b[0m\u001b[1mwhite_rating_diff\u001b[0m\u001b[1m \u001b[0m┃\u001b[1m \u001b[0m\u001b[1mblack_rating_diff\u001b[0m\u001b[1m \u001b[0m┃\u001b[1m \u001b[0m\u001b[1meco\u001b[0m\u001b[1m   \u001b[0m\u001b[1m \u001b[0m┃\u001b[1m \u001b[0m\u001b[1mopening\u001b[0m\u001b[1m                                        \u001b[0m\u001b[1m \u001b[0m┃\u001b[1m \u001b[0m\u001b[1mtime_control\u001b[0m\u001b[1m \u001b[0m┃\u001b[1m \u001b[0m\u001b[1mtermination\u001b[0m\u001b[1m \u001b[0m\u001b[1m \u001b[0m┃\u001b[1m \u001b[0m\u001b[1mwhite_title\u001b[0m\u001b[1m \u001b[0m┃\u001b[1m \u001b[0m\u001b[1mblack_title\u001b[0m\u001b[1m \u001b[0m┃\n",
       "┡━━━━━━━━━━╇━━━━━━━━━━━━━━━━━━━╇━━━━━━━━━━━━━━━━━━━━━━━━━━━━━━╇━━━━━━━━━━━━╇━━━━━━━━╇━━━━━━━━━━━━━━━━━╇━━━━━━━━━━━━━━━━━━━━╇━━━━━━━━╇━━━━━━━━━━━━╇━━━━━━━━━━╇━━━━━━━━━━━╇━━━━━━━━━━━╇━━━━━━━━━━━━━━━━━━━╇━━━━━━━━━━━━━━━━━━━╇━━━━━━━━╇━━━━━━━━━━━━━━━━━━━━━━━━━━━━━━━━━━━━━━━━━━━━━━━━━╇━━━━━━━━━━━━━━╇━━━━━━━━━━━━━━╇━━━━━━━━━━━━━╇━━━━━━━━━━━━━┩\n",
       "│ \u001b[2mstring\u001b[0m   │ \u001b[2mstring\u001b[0m            │ \u001b[2mstring\u001b[0m                       │ \u001b[2mstring\u001b[0m     │ \u001b[2mstring\u001b[0m │ \u001b[2mstring\u001b[0m          │ \u001b[2mstring\u001b[0m             │ \u001b[2mstring\u001b[0m │ \u001b[2mstring\u001b[0m     │ \u001b[2mstring\u001b[0m   │ \u001b[2mstring\u001b[0m    │ \u001b[2mstring\u001b[0m    │ \u001b[2mstring\u001b[0m            │ \u001b[2mstring\u001b[0m            │ \u001b[2mstring\u001b[0m │ \u001b[2mstring\u001b[0m                                          │ \u001b[2mstring\u001b[0m       │ \u001b[2mstring\u001b[0m       │ \u001b[2mstring\u001b[0m      │ \u001b[2mstring\u001b[0m      │\n",
       "├──────────┼───────────────────┼──────────────────────────────┼────────────┼────────┼─────────────────┼────────────────────┼────────┼────────────┼──────────┼───────────┼───────────┼───────────────────┼───────────────────┼────────┼─────────────────────────────────────────────────┼──────────────┼──────────────┼─────────────┼─────────────┤\n",
       "│ \u001b[32mS3bP7JXA\u001b[0m │ \u001b[32mRated Blitz game \u001b[0m │ \u001b]8;id=562811;https://lichess.org/S3bP7JXA\u001b\\\u001b[32mhttps://lichess.org/S3bP7JXA\u001b[0m\u001b]8;;\u001b\\ │ \u001b[32m2024.09.01\u001b[0m │ \u001b[32m-     \u001b[0m │ \u001b[32mSihelyValahara \u001b[0m │ \u001b[32mmodze10           \u001b[0m │ \u001b[32m1-0   \u001b[0m │ \u001b[32m2024.09.01\u001b[0m │ \u001b[32m09:21:36\u001b[0m │ \u001b[32m2063     \u001b[0m │ \u001b[32m2072     \u001b[0m │ \u001b[32m+7               \u001b[0m │ \u001b[32m-7               \u001b[0m │ \u001b[32mC64   \u001b[0m │ \u001b[32mRuy Lopez: Classical Defense, Benelux Variation\u001b[0m │ \u001b[32m180+0       \u001b[0m │ \u001b[32mNormal      \u001b[0m │ \u001b[2mNULL\u001b[0m        │ \u001b[2mNULL\u001b[0m        │\n",
       "│ \u001b[32mX1OtRVZo\u001b[0m │ \u001b[32mRated Blitz game \u001b[0m │ \u001b]8;id=167241;https://lichess.org/X1OtRVZo\u001b\\\u001b[32mhttps://lichess.org/X1OtRVZo\u001b[0m\u001b]8;;\u001b\\ │ \u001b[32m2024.09.01\u001b[0m │ \u001b[32m-     \u001b[0m │ \u001b[32mcertified      \u001b[0m │ \u001b[32mbraquejnr         \u001b[0m │ \u001b[32m1-0   \u001b[0m │ \u001b[32m2024.09.01\u001b[0m │ \u001b[32m09:21:36\u001b[0m │ \u001b[32m1338     \u001b[0m │ \u001b[32m1325     \u001b[0m │ \u001b[32m+6               \u001b[0m │ \u001b[32m-6               \u001b[0m │ \u001b[32mC25   \u001b[0m │ \u001b[32mVienna Game                                    \u001b[0m │ \u001b[32m180+0       \u001b[0m │ \u001b[32mNormal      \u001b[0m │ \u001b[2mNULL\u001b[0m        │ \u001b[2mNULL\u001b[0m        │\n",
       "│ \u001b[32mtqye7Q9W\u001b[0m │ \u001b[32mRated Blitz game \u001b[0m │ \u001b]8;id=843016;https://lichess.org/tqye7Q9W\u001b\\\u001b[32mhttps://lichess.org/tqye7Q9W\u001b[0m\u001b]8;;\u001b\\ │ \u001b[32m2024.09.01\u001b[0m │ \u001b[32m-     \u001b[0m │ \u001b[32mHeavy_Metal    \u001b[0m │ \u001b[32mKayra_16          \u001b[0m │ \u001b[32m1-0   \u001b[0m │ \u001b[32m2024.09.01\u001b[0m │ \u001b[32m09:21:36\u001b[0m │ \u001b[32m1290     \u001b[0m │ \u001b[32m1248     \u001b[0m │ \u001b[32m+5               \u001b[0m │ \u001b[32m-9               \u001b[0m │ \u001b[32mD00   \u001b[0m │ \u001b[32mQueen's Pawn Game: Chigorin Variation          \u001b[0m │ \u001b[32m180+0       \u001b[0m │ \u001b[32mNormal      \u001b[0m │ \u001b[2mNULL\u001b[0m        │ \u001b[2mNULL\u001b[0m        │\n",
       "│ \u001b[32m841dKoEt\u001b[0m │ \u001b[32mRated Blitz game \u001b[0m │ \u001b]8;id=268356;https://lichess.org/841dKoEt\u001b\\\u001b[32mhttps://lichess.org/841dKoEt\u001b[0m\u001b]8;;\u001b\\ │ \u001b[32m2024.09.01\u001b[0m │ \u001b[32m-     \u001b[0m │ \u001b[32msensorlife77   \u001b[0m │ \u001b[32mSuperscarso       \u001b[0m │ \u001b[32m0-1   \u001b[0m │ \u001b[32m2024.09.01\u001b[0m │ \u001b[32m09:21:36\u001b[0m │ \u001b[32m2220     \u001b[0m │ \u001b[32m2236     \u001b[0m │ \u001b[32m-5               \u001b[0m │ \u001b[32m+6               \u001b[0m │ \u001b[32mA08   \u001b[0m │ \u001b[32mKing's Indian Attack: French Variation         \u001b[0m │ \u001b[32m180+0       \u001b[0m │ \u001b[32mNormal      \u001b[0m │ \u001b[2mNULL\u001b[0m        │ \u001b[2mNULL\u001b[0m        │\n",
       "│ \u001b[32m4qhCbnwD\u001b[0m │ \u001b[32mRated Bullet game\u001b[0m │ \u001b]8;id=23072;https://lichess.org/4qhCbnwD\u001b\\\u001b[32mhttps://lichess.org/4qhCbnwD\u001b[0m\u001b]8;;\u001b\\ │ \u001b[32m2024.09.01\u001b[0m │ \u001b[32m-     \u001b[0m │ \u001b[32mmesin1021      \u001b[0m │ \u001b[32mSergey1184        \u001b[0m │ \u001b[32m1-0   \u001b[0m │ \u001b[32m2024.09.01\u001b[0m │ \u001b[32m09:21:38\u001b[0m │ \u001b[32m1526     \u001b[0m │ \u001b[32m1516     \u001b[0m │ \u001b[32m+6               \u001b[0m │ \u001b[32m-6               \u001b[0m │ \u001b[32mD06   \u001b[0m │ \u001b[32mQueen's Gambit Declined: Baltic Defense        \u001b[0m │ \u001b[32m120+1       \u001b[0m │ \u001b[32mNormal      \u001b[0m │ \u001b[2mNULL\u001b[0m        │ \u001b[2mNULL\u001b[0m        │\n",
       "│ \u001b[32mKqBjz4jF\u001b[0m │ \u001b[32mRated Rapid game \u001b[0m │ \u001b]8;id=485190;https://lichess.org/KqBjz4jF\u001b\\\u001b[32mhttps://lichess.org/KqBjz4jF\u001b[0m\u001b]8;;\u001b\\ │ \u001b[32m2024.09.01\u001b[0m │ \u001b[32m-     \u001b[0m │ \u001b[32mhtfy           \u001b[0m │ \u001b[32mkoorushfakharzadeh\u001b[0m │ \u001b[32m0-1   \u001b[0m │ \u001b[32m2024.09.01\u001b[0m │ \u001b[32m09:21:39\u001b[0m │ \u001b[32m1327     \u001b[0m │ \u001b[32m1723     \u001b[0m │ \u001b[32m-2               \u001b[0m │ \u001b[32m+1               \u001b[0m │ \u001b[32mC50   \u001b[0m │ \u001b[32mItalian Game: Giuoco Pianissimo, Normal        \u001b[0m │ \u001b[32m600+1       \u001b[0m │ \u001b[32mNormal      \u001b[0m │ \u001b[2mNULL\u001b[0m        │ \u001b[2mNULL\u001b[0m        │\n",
       "│ \u001b[32m1uB4YHHH\u001b[0m │ \u001b[32mRated Blitz game \u001b[0m │ \u001b]8;id=622962;https://lichess.org/1uB4YHHH\u001b\\\u001b[32mhttps://lichess.org/1uB4YHHH\u001b[0m\u001b]8;;\u001b\\ │ \u001b[32m2024.09.01\u001b[0m │ \u001b[32m-     \u001b[0m │ \u001b[32msamotos        \u001b[0m │ \u001b[32mtamir71           \u001b[0m │ \u001b[32m1-0   \u001b[0m │ \u001b[32m2024.09.01\u001b[0m │ \u001b[32m09:21:39\u001b[0m │ \u001b[32m1552     \u001b[0m │ \u001b[32m1650     \u001b[0m │ \u001b[32m+7               \u001b[0m │ \u001b[32m-8               \u001b[0m │ \u001b[32mD30   \u001b[0m │ \u001b[32mQueen's Gambit Declined                        \u001b[0m │ \u001b[32m180+2       \u001b[0m │ \u001b[32mNormal      \u001b[0m │ \u001b[2mNULL\u001b[0m        │ \u001b[2mNULL\u001b[0m        │\n",
       "│ \u001b[32m81WWusNZ\u001b[0m │ \u001b[32mRated Blitz game \u001b[0m │ \u001b]8;id=938028;https://lichess.org/81WWusNZ\u001b\\\u001b[32mhttps://lichess.org/81WWusNZ\u001b[0m\u001b]8;;\u001b\\ │ \u001b[32m2024.09.01\u001b[0m │ \u001b[32m-     \u001b[0m │ \u001b[32mZiguratZenMelle\u001b[0m │ \u001b[32mBT21PJM           \u001b[0m │ \u001b[32m0-1   \u001b[0m │ \u001b[32m2024.09.01\u001b[0m │ \u001b[32m09:21:39\u001b[0m │ \u001b[32m2158     \u001b[0m │ \u001b[32m2042     \u001b[0m │ \u001b[32m-8               \u001b[0m │ \u001b[32m+8               \u001b[0m │ \u001b[32mD17   \u001b[0m │ \u001b[32mSlav Defense: Czech Variation, Krause Attack   \u001b[0m │ \u001b[32m180+2       \u001b[0m │ \u001b[32mTime forfeit\u001b[0m │ \u001b[2mNULL\u001b[0m        │ \u001b[32mWFM        \u001b[0m │\n",
       "│ \u001b[32mRGz9ttRa\u001b[0m │ \u001b[32mRated Bullet game\u001b[0m │ \u001b]8;id=978471;https://lichess.org/RGz9ttRa\u001b\\\u001b[32mhttps://lichess.org/RGz9ttRa\u001b[0m\u001b]8;;\u001b\\ │ \u001b[32m2024.09.01\u001b[0m │ \u001b[32m-     \u001b[0m │ \u001b[32mASowilem       \u001b[0m │ \u001b[32mEgorwin           \u001b[0m │ \u001b[32m0-1   \u001b[0m │ \u001b[32m2024.09.01\u001b[0m │ \u001b[32m09:21:41\u001b[0m │ \u001b[32m1176     \u001b[0m │ \u001b[32m1179     \u001b[0m │ \u001b[32m-10              \u001b[0m │ \u001b[32m+5               \u001b[0m │ \u001b[32mA40   \u001b[0m │ \u001b[32mMikenas Defense                                \u001b[0m │ \u001b[32m60+0        \u001b[0m │ \u001b[32mNormal      \u001b[0m │ \u001b[2mNULL\u001b[0m        │ \u001b[2mNULL\u001b[0m        │\n",
       "│ \u001b[32mDGxmILo9\u001b[0m │ \u001b[32mRated Blitz game \u001b[0m │ \u001b]8;id=799234;https://lichess.org/DGxmILo9\u001b\\\u001b[32mhttps://lichess.org/DGxmILo9\u001b[0m\u001b]8;;\u001b\\ │ \u001b[32m2024.09.01\u001b[0m │ \u001b[32m-     \u001b[0m │ \u001b[32mAmerekov-Chess \u001b[0m │ \u001b[32mDmitry_Shubin     \u001b[0m │ \u001b[32m0-1   \u001b[0m │ \u001b[32m2024.09.01\u001b[0m │ \u001b[32m09:21:42\u001b[0m │ \u001b[32m2154     \u001b[0m │ \u001b[32m2166     \u001b[0m │ \u001b[32m-5               \u001b[0m │ \u001b[32m+5               \u001b[0m │ \u001b[32mC21   \u001b[0m │ \u001b[32mCenter Game                                    \u001b[0m │ \u001b[32m180+0       \u001b[0m │ \u001b[32mTime forfeit\u001b[0m │ \u001b[2mNULL\u001b[0m        │ \u001b[2mNULL\u001b[0m        │\n",
       "│ \u001b[2m…\u001b[0m        │ \u001b[2m…\u001b[0m                 │ \u001b[2m…\u001b[0m                            │ \u001b[2m…\u001b[0m          │ \u001b[2m…\u001b[0m      │ \u001b[2m…\u001b[0m               │ \u001b[2m…\u001b[0m                  │ \u001b[2m…\u001b[0m      │ \u001b[2m…\u001b[0m          │ \u001b[2m…\u001b[0m        │ \u001b[2m…\u001b[0m         │ \u001b[2m…\u001b[0m         │ \u001b[2m…\u001b[0m                 │ \u001b[2m…\u001b[0m                 │ \u001b[2m…\u001b[0m      │ \u001b[2m…\u001b[0m                                               │ \u001b[2m…\u001b[0m            │ \u001b[2m…\u001b[0m            │ \u001b[2m…\u001b[0m           │ \u001b[2m…\u001b[0m           │\n",
       "└──────────┴───────────────────┴──────────────────────────────┴────────────┴────────┴─────────────────┴────────────────────┴────────┴────────────┴──────────┴───────────┴───────────┴───────────────────┴───────────────────┴────────┴─────────────────────────────────────────────────┴──────────────┴──────────────┴─────────────┴─────────────┘"
      ]
     },
     "execution_count": 9,
     "metadata": {},
     "output_type": "execute_result"
    }
   ],
   "source": [
    "ibis.options.interactive = True\n",
    "games"
   ]
  },
  {
   "cell_type": "markdown",
   "metadata": {},
   "source": [
    "So now we see a bit of the table itself, instead of a table schema or a query plan.\n",
    "\n",
    "Note that, unlike pandas, databases/Parquet don't necessarily maintain a particular ordering of the rows (they don't have an index). "
   ]
  },
  {
   "cell_type": "markdown",
   "metadata": {},
   "source": [
    "# Ibis \"verbs\"—actions you can do to a table\n",
    "We'll cover `select`, `drop`, `mutate`, `filter`, `order_by`, `aggregate`, and `group_by`. Time to dive in!\n",
    "## Select and drop\n",
    "`select` selects a subset of the columns in the original table. We can use strings of the column names:"
   ]
  },
  {
   "cell_type": "code",
   "execution_count": 10,
   "metadata": {},
   "outputs": [
    {
     "data": {
      "text/html": [
       "<pre style=\"white-space:pre;overflow-x:auto;line-height:normal;font-family:Menlo,'DejaVu Sans Mono',consolas,'Courier New',monospace\">┏━━━━━━━━━━━━━━━━━━━┳━━━━━━━━┳━━━━━━━━━━━┳━━━━━━━━━━━┳━━━━━━━━━━━━━━┳━━━━━━━━━━━━━━┳━━━━━━━━━━━━━┳━━━━━━━━━━━━━┓\n",
       "┃<span style=\"font-weight: bold\"> event             </span>┃<span style=\"font-weight: bold\"> result </span>┃<span style=\"font-weight: bold\"> white_elo </span>┃<span style=\"font-weight: bold\"> black_elo </span>┃<span style=\"font-weight: bold\"> time_control </span>┃<span style=\"font-weight: bold\"> termination  </span>┃<span style=\"font-weight: bold\"> white_title </span>┃<span style=\"font-weight: bold\"> black_title </span>┃\n",
       "┡━━━━━━━━━━━━━━━━━━━╇━━━━━━━━╇━━━━━━━━━━━╇━━━━━━━━━━━╇━━━━━━━━━━━━━━╇━━━━━━━━━━━━━━╇━━━━━━━━━━━━━╇━━━━━━━━━━━━━┩\n",
       "│ <span style=\"color: #7f7f7f; text-decoration-color: #7f7f7f\">string</span>            │ <span style=\"color: #7f7f7f; text-decoration-color: #7f7f7f\">string</span> │ <span style=\"color: #7f7f7f; text-decoration-color: #7f7f7f\">string</span>    │ <span style=\"color: #7f7f7f; text-decoration-color: #7f7f7f\">string</span>    │ <span style=\"color: #7f7f7f; text-decoration-color: #7f7f7f\">string</span>       │ <span style=\"color: #7f7f7f; text-decoration-color: #7f7f7f\">string</span>       │ <span style=\"color: #7f7f7f; text-decoration-color: #7f7f7f\">string</span>      │ <span style=\"color: #7f7f7f; text-decoration-color: #7f7f7f\">string</span>      │\n",
       "├───────────────────┼────────┼───────────┼───────────┼──────────────┼──────────────┼─────────────┼─────────────┤\n",
       "│ <span style=\"color: #008000; text-decoration-color: #008000\">Rated Blitz game </span> │ <span style=\"color: #008000; text-decoration-color: #008000\">1-0   </span> │ <span style=\"color: #008000; text-decoration-color: #008000\">2063     </span> │ <span style=\"color: #008000; text-decoration-color: #008000\">2072     </span> │ <span style=\"color: #008000; text-decoration-color: #008000\">180+0       </span> │ <span style=\"color: #008000; text-decoration-color: #008000\">Normal      </span> │ <span style=\"color: #7f7f7f; text-decoration-color: #7f7f7f\">NULL</span>        │ <span style=\"color: #7f7f7f; text-decoration-color: #7f7f7f\">NULL</span>        │\n",
       "│ <span style=\"color: #008000; text-decoration-color: #008000\">Rated Blitz game </span> │ <span style=\"color: #008000; text-decoration-color: #008000\">1-0   </span> │ <span style=\"color: #008000; text-decoration-color: #008000\">1338     </span> │ <span style=\"color: #008000; text-decoration-color: #008000\">1325     </span> │ <span style=\"color: #008000; text-decoration-color: #008000\">180+0       </span> │ <span style=\"color: #008000; text-decoration-color: #008000\">Normal      </span> │ <span style=\"color: #7f7f7f; text-decoration-color: #7f7f7f\">NULL</span>        │ <span style=\"color: #7f7f7f; text-decoration-color: #7f7f7f\">NULL</span>        │\n",
       "│ <span style=\"color: #008000; text-decoration-color: #008000\">Rated Blitz game </span> │ <span style=\"color: #008000; text-decoration-color: #008000\">1-0   </span> │ <span style=\"color: #008000; text-decoration-color: #008000\">1290     </span> │ <span style=\"color: #008000; text-decoration-color: #008000\">1248     </span> │ <span style=\"color: #008000; text-decoration-color: #008000\">180+0       </span> │ <span style=\"color: #008000; text-decoration-color: #008000\">Normal      </span> │ <span style=\"color: #7f7f7f; text-decoration-color: #7f7f7f\">NULL</span>        │ <span style=\"color: #7f7f7f; text-decoration-color: #7f7f7f\">NULL</span>        │\n",
       "│ <span style=\"color: #008000; text-decoration-color: #008000\">Rated Blitz game </span> │ <span style=\"color: #008000; text-decoration-color: #008000\">0-1   </span> │ <span style=\"color: #008000; text-decoration-color: #008000\">2220     </span> │ <span style=\"color: #008000; text-decoration-color: #008000\">2236     </span> │ <span style=\"color: #008000; text-decoration-color: #008000\">180+0       </span> │ <span style=\"color: #008000; text-decoration-color: #008000\">Normal      </span> │ <span style=\"color: #7f7f7f; text-decoration-color: #7f7f7f\">NULL</span>        │ <span style=\"color: #7f7f7f; text-decoration-color: #7f7f7f\">NULL</span>        │\n",
       "│ <span style=\"color: #008000; text-decoration-color: #008000\">Rated Bullet game</span> │ <span style=\"color: #008000; text-decoration-color: #008000\">1-0   </span> │ <span style=\"color: #008000; text-decoration-color: #008000\">1526     </span> │ <span style=\"color: #008000; text-decoration-color: #008000\">1516     </span> │ <span style=\"color: #008000; text-decoration-color: #008000\">120+1       </span> │ <span style=\"color: #008000; text-decoration-color: #008000\">Normal      </span> │ <span style=\"color: #7f7f7f; text-decoration-color: #7f7f7f\">NULL</span>        │ <span style=\"color: #7f7f7f; text-decoration-color: #7f7f7f\">NULL</span>        │\n",
       "│ <span style=\"color: #008000; text-decoration-color: #008000\">Rated Rapid game </span> │ <span style=\"color: #008000; text-decoration-color: #008000\">0-1   </span> │ <span style=\"color: #008000; text-decoration-color: #008000\">1327     </span> │ <span style=\"color: #008000; text-decoration-color: #008000\">1723     </span> │ <span style=\"color: #008000; text-decoration-color: #008000\">600+1       </span> │ <span style=\"color: #008000; text-decoration-color: #008000\">Normal      </span> │ <span style=\"color: #7f7f7f; text-decoration-color: #7f7f7f\">NULL</span>        │ <span style=\"color: #7f7f7f; text-decoration-color: #7f7f7f\">NULL</span>        │\n",
       "│ <span style=\"color: #008000; text-decoration-color: #008000\">Rated Blitz game </span> │ <span style=\"color: #008000; text-decoration-color: #008000\">1-0   </span> │ <span style=\"color: #008000; text-decoration-color: #008000\">1552     </span> │ <span style=\"color: #008000; text-decoration-color: #008000\">1650     </span> │ <span style=\"color: #008000; text-decoration-color: #008000\">180+2       </span> │ <span style=\"color: #008000; text-decoration-color: #008000\">Normal      </span> │ <span style=\"color: #7f7f7f; text-decoration-color: #7f7f7f\">NULL</span>        │ <span style=\"color: #7f7f7f; text-decoration-color: #7f7f7f\">NULL</span>        │\n",
       "│ <span style=\"color: #008000; text-decoration-color: #008000\">Rated Blitz game </span> │ <span style=\"color: #008000; text-decoration-color: #008000\">0-1   </span> │ <span style=\"color: #008000; text-decoration-color: #008000\">2158     </span> │ <span style=\"color: #008000; text-decoration-color: #008000\">2042     </span> │ <span style=\"color: #008000; text-decoration-color: #008000\">180+2       </span> │ <span style=\"color: #008000; text-decoration-color: #008000\">Time forfeit</span> │ <span style=\"color: #7f7f7f; text-decoration-color: #7f7f7f\">NULL</span>        │ <span style=\"color: #008000; text-decoration-color: #008000\">WFM        </span> │\n",
       "│ <span style=\"color: #008000; text-decoration-color: #008000\">Rated Bullet game</span> │ <span style=\"color: #008000; text-decoration-color: #008000\">0-1   </span> │ <span style=\"color: #008000; text-decoration-color: #008000\">1176     </span> │ <span style=\"color: #008000; text-decoration-color: #008000\">1179     </span> │ <span style=\"color: #008000; text-decoration-color: #008000\">60+0        </span> │ <span style=\"color: #008000; text-decoration-color: #008000\">Normal      </span> │ <span style=\"color: #7f7f7f; text-decoration-color: #7f7f7f\">NULL</span>        │ <span style=\"color: #7f7f7f; text-decoration-color: #7f7f7f\">NULL</span>        │\n",
       "│ <span style=\"color: #008000; text-decoration-color: #008000\">Rated Blitz game </span> │ <span style=\"color: #008000; text-decoration-color: #008000\">0-1   </span> │ <span style=\"color: #008000; text-decoration-color: #008000\">2154     </span> │ <span style=\"color: #008000; text-decoration-color: #008000\">2166     </span> │ <span style=\"color: #008000; text-decoration-color: #008000\">180+0       </span> │ <span style=\"color: #008000; text-decoration-color: #008000\">Time forfeit</span> │ <span style=\"color: #7f7f7f; text-decoration-color: #7f7f7f\">NULL</span>        │ <span style=\"color: #7f7f7f; text-decoration-color: #7f7f7f\">NULL</span>        │\n",
       "│ <span style=\"color: #7f7f7f; text-decoration-color: #7f7f7f\">…</span>                 │ <span style=\"color: #7f7f7f; text-decoration-color: #7f7f7f\">…</span>      │ <span style=\"color: #7f7f7f; text-decoration-color: #7f7f7f\">…</span>         │ <span style=\"color: #7f7f7f; text-decoration-color: #7f7f7f\">…</span>         │ <span style=\"color: #7f7f7f; text-decoration-color: #7f7f7f\">…</span>            │ <span style=\"color: #7f7f7f; text-decoration-color: #7f7f7f\">…</span>            │ <span style=\"color: #7f7f7f; text-decoration-color: #7f7f7f\">…</span>           │ <span style=\"color: #7f7f7f; text-decoration-color: #7f7f7f\">…</span>           │\n",
       "└───────────────────┴────────┴───────────┴───────────┴──────────────┴──────────────┴─────────────┴─────────────┘\n",
       "</pre>\n"
      ],
      "text/plain": [
       "┏━━━━━━━━━━━━━━━━━━━┳━━━━━━━━┳━━━━━━━━━━━┳━━━━━━━━━━━┳━━━━━━━━━━━━━━┳━━━━━━━━━━━━━━┳━━━━━━━━━━━━━┳━━━━━━━━━━━━━┓\n",
       "┃\u001b[1m \u001b[0m\u001b[1mevent\u001b[0m\u001b[1m            \u001b[0m\u001b[1m \u001b[0m┃\u001b[1m \u001b[0m\u001b[1mresult\u001b[0m\u001b[1m \u001b[0m┃\u001b[1m \u001b[0m\u001b[1mwhite_elo\u001b[0m\u001b[1m \u001b[0m┃\u001b[1m \u001b[0m\u001b[1mblack_elo\u001b[0m\u001b[1m \u001b[0m┃\u001b[1m \u001b[0m\u001b[1mtime_control\u001b[0m\u001b[1m \u001b[0m┃\u001b[1m \u001b[0m\u001b[1mtermination\u001b[0m\u001b[1m \u001b[0m\u001b[1m \u001b[0m┃\u001b[1m \u001b[0m\u001b[1mwhite_title\u001b[0m\u001b[1m \u001b[0m┃\u001b[1m \u001b[0m\u001b[1mblack_title\u001b[0m\u001b[1m \u001b[0m┃\n",
       "┡━━━━━━━━━━━━━━━━━━━╇━━━━━━━━╇━━━━━━━━━━━╇━━━━━━━━━━━╇━━━━━━━━━━━━━━╇━━━━━━━━━━━━━━╇━━━━━━━━━━━━━╇━━━━━━━━━━━━━┩\n",
       "│ \u001b[2mstring\u001b[0m            │ \u001b[2mstring\u001b[0m │ \u001b[2mstring\u001b[0m    │ \u001b[2mstring\u001b[0m    │ \u001b[2mstring\u001b[0m       │ \u001b[2mstring\u001b[0m       │ \u001b[2mstring\u001b[0m      │ \u001b[2mstring\u001b[0m      │\n",
       "├───────────────────┼────────┼───────────┼───────────┼──────────────┼──────────────┼─────────────┼─────────────┤\n",
       "│ \u001b[32mRated Blitz game \u001b[0m │ \u001b[32m1-0   \u001b[0m │ \u001b[32m2063     \u001b[0m │ \u001b[32m2072     \u001b[0m │ \u001b[32m180+0       \u001b[0m │ \u001b[32mNormal      \u001b[0m │ \u001b[2mNULL\u001b[0m        │ \u001b[2mNULL\u001b[0m        │\n",
       "│ \u001b[32mRated Blitz game \u001b[0m │ \u001b[32m1-0   \u001b[0m │ \u001b[32m1338     \u001b[0m │ \u001b[32m1325     \u001b[0m │ \u001b[32m180+0       \u001b[0m │ \u001b[32mNormal      \u001b[0m │ \u001b[2mNULL\u001b[0m        │ \u001b[2mNULL\u001b[0m        │\n",
       "│ \u001b[32mRated Blitz game \u001b[0m │ \u001b[32m1-0   \u001b[0m │ \u001b[32m1290     \u001b[0m │ \u001b[32m1248     \u001b[0m │ \u001b[32m180+0       \u001b[0m │ \u001b[32mNormal      \u001b[0m │ \u001b[2mNULL\u001b[0m        │ \u001b[2mNULL\u001b[0m        │\n",
       "│ \u001b[32mRated Blitz game \u001b[0m │ \u001b[32m0-1   \u001b[0m │ \u001b[32m2220     \u001b[0m │ \u001b[32m2236     \u001b[0m │ \u001b[32m180+0       \u001b[0m │ \u001b[32mNormal      \u001b[0m │ \u001b[2mNULL\u001b[0m        │ \u001b[2mNULL\u001b[0m        │\n",
       "│ \u001b[32mRated Bullet game\u001b[0m │ \u001b[32m1-0   \u001b[0m │ \u001b[32m1526     \u001b[0m │ \u001b[32m1516     \u001b[0m │ \u001b[32m120+1       \u001b[0m │ \u001b[32mNormal      \u001b[0m │ \u001b[2mNULL\u001b[0m        │ \u001b[2mNULL\u001b[0m        │\n",
       "│ \u001b[32mRated Rapid game \u001b[0m │ \u001b[32m0-1   \u001b[0m │ \u001b[32m1327     \u001b[0m │ \u001b[32m1723     \u001b[0m │ \u001b[32m600+1       \u001b[0m │ \u001b[32mNormal      \u001b[0m │ \u001b[2mNULL\u001b[0m        │ \u001b[2mNULL\u001b[0m        │\n",
       "│ \u001b[32mRated Blitz game \u001b[0m │ \u001b[32m1-0   \u001b[0m │ \u001b[32m1552     \u001b[0m │ \u001b[32m1650     \u001b[0m │ \u001b[32m180+2       \u001b[0m │ \u001b[32mNormal      \u001b[0m │ \u001b[2mNULL\u001b[0m        │ \u001b[2mNULL\u001b[0m        │\n",
       "│ \u001b[32mRated Blitz game \u001b[0m │ \u001b[32m0-1   \u001b[0m │ \u001b[32m2158     \u001b[0m │ \u001b[32m2042     \u001b[0m │ \u001b[32m180+2       \u001b[0m │ \u001b[32mTime forfeit\u001b[0m │ \u001b[2mNULL\u001b[0m        │ \u001b[32mWFM        \u001b[0m │\n",
       "│ \u001b[32mRated Bullet game\u001b[0m │ \u001b[32m0-1   \u001b[0m │ \u001b[32m1176     \u001b[0m │ \u001b[32m1179     \u001b[0m │ \u001b[32m60+0        \u001b[0m │ \u001b[32mNormal      \u001b[0m │ \u001b[2mNULL\u001b[0m        │ \u001b[2mNULL\u001b[0m        │\n",
       "│ \u001b[32mRated Blitz game \u001b[0m │ \u001b[32m0-1   \u001b[0m │ \u001b[32m2154     \u001b[0m │ \u001b[32m2166     \u001b[0m │ \u001b[32m180+0       \u001b[0m │ \u001b[32mTime forfeit\u001b[0m │ \u001b[2mNULL\u001b[0m        │ \u001b[2mNULL\u001b[0m        │\n",
       "│ \u001b[2m…\u001b[0m                 │ \u001b[2m…\u001b[0m      │ \u001b[2m…\u001b[0m         │ \u001b[2m…\u001b[0m         │ \u001b[2m…\u001b[0m            │ \u001b[2m…\u001b[0m            │ \u001b[2m…\u001b[0m           │ \u001b[2m…\u001b[0m           │\n",
       "└───────────────────┴────────┴───────────┴───────────┴──────────────┴──────────────┴─────────────┴─────────────┘"
      ]
     },
     "execution_count": 10,
     "metadata": {},
     "output_type": "execute_result"
    }
   ],
   "source": [
    "games_selected_columns = games.select(\n",
    "    \"event\",\n",
    "    \"result\",\n",
    "    \"white_elo\",\n",
    "    \"black_elo\",\n",
    "    \"time_control\",\n",
    "    \"termination\",\n",
    "    \"white_title\",\n",
    "    \"black_title\",\n",
    ")\n",
    "games_selected_columns"
   ]
  },
  {
   "cell_type": "markdown",
   "metadata": {},
   "source": [
    "Or explicit references to the `Column` objects:"
   ]
  },
  {
   "cell_type": "code",
   "execution_count": 11,
   "metadata": {},
   "outputs": [
    {
     "data": {
      "text/html": [
       "<pre style=\"white-space:pre;overflow-x:auto;line-height:normal;font-family:Menlo,'DejaVu Sans Mono',consolas,'Courier New',monospace\">┏━━━━━━━━┳━━━━━━━━━━━┳━━━━━━━━━━━┓\n",
       "┃<span style=\"font-weight: bold\"> result </span>┃<span style=\"font-weight: bold\"> white_elo </span>┃<span style=\"font-weight: bold\"> black_elo </span>┃\n",
       "┡━━━━━━━━╇━━━━━━━━━━━╇━━━━━━━━━━━┩\n",
       "│ <span style=\"color: #7f7f7f; text-decoration-color: #7f7f7f\">string</span> │ <span style=\"color: #7f7f7f; text-decoration-color: #7f7f7f\">string</span>    │ <span style=\"color: #7f7f7f; text-decoration-color: #7f7f7f\">string</span>    │\n",
       "├────────┼───────────┼───────────┤\n",
       "│ <span style=\"color: #008000; text-decoration-color: #008000\">1-0   </span> │ <span style=\"color: #008000; text-decoration-color: #008000\">2063     </span> │ <span style=\"color: #008000; text-decoration-color: #008000\">2072     </span> │\n",
       "│ <span style=\"color: #008000; text-decoration-color: #008000\">1-0   </span> │ <span style=\"color: #008000; text-decoration-color: #008000\">1338     </span> │ <span style=\"color: #008000; text-decoration-color: #008000\">1325     </span> │\n",
       "│ <span style=\"color: #008000; text-decoration-color: #008000\">1-0   </span> │ <span style=\"color: #008000; text-decoration-color: #008000\">1290     </span> │ <span style=\"color: #008000; text-decoration-color: #008000\">1248     </span> │\n",
       "│ <span style=\"color: #008000; text-decoration-color: #008000\">0-1   </span> │ <span style=\"color: #008000; text-decoration-color: #008000\">2220     </span> │ <span style=\"color: #008000; text-decoration-color: #008000\">2236     </span> │\n",
       "│ <span style=\"color: #008000; text-decoration-color: #008000\">1-0   </span> │ <span style=\"color: #008000; text-decoration-color: #008000\">1526     </span> │ <span style=\"color: #008000; text-decoration-color: #008000\">1516     </span> │\n",
       "│ <span style=\"color: #008000; text-decoration-color: #008000\">0-1   </span> │ <span style=\"color: #008000; text-decoration-color: #008000\">1327     </span> │ <span style=\"color: #008000; text-decoration-color: #008000\">1723     </span> │\n",
       "│ <span style=\"color: #008000; text-decoration-color: #008000\">1-0   </span> │ <span style=\"color: #008000; text-decoration-color: #008000\">1552     </span> │ <span style=\"color: #008000; text-decoration-color: #008000\">1650     </span> │\n",
       "│ <span style=\"color: #008000; text-decoration-color: #008000\">0-1   </span> │ <span style=\"color: #008000; text-decoration-color: #008000\">2158     </span> │ <span style=\"color: #008000; text-decoration-color: #008000\">2042     </span> │\n",
       "│ <span style=\"color: #008000; text-decoration-color: #008000\">0-1   </span> │ <span style=\"color: #008000; text-decoration-color: #008000\">1176     </span> │ <span style=\"color: #008000; text-decoration-color: #008000\">1179     </span> │\n",
       "│ <span style=\"color: #008000; text-decoration-color: #008000\">0-1   </span> │ <span style=\"color: #008000; text-decoration-color: #008000\">2154     </span> │ <span style=\"color: #008000; text-decoration-color: #008000\">2166     </span> │\n",
       "│ <span style=\"color: #7f7f7f; text-decoration-color: #7f7f7f\">…</span>      │ <span style=\"color: #7f7f7f; text-decoration-color: #7f7f7f\">…</span>         │ <span style=\"color: #7f7f7f; text-decoration-color: #7f7f7f\">…</span>         │\n",
       "└────────┴───────────┴───────────┘\n",
       "</pre>\n"
      ],
      "text/plain": [
       "┏━━━━━━━━┳━━━━━━━━━━━┳━━━━━━━━━━━┓\n",
       "┃\u001b[1m \u001b[0m\u001b[1mresult\u001b[0m\u001b[1m \u001b[0m┃\u001b[1m \u001b[0m\u001b[1mwhite_elo\u001b[0m\u001b[1m \u001b[0m┃\u001b[1m \u001b[0m\u001b[1mblack_elo\u001b[0m\u001b[1m \u001b[0m┃\n",
       "┡━━━━━━━━╇━━━━━━━━━━━╇━━━━━━━━━━━┩\n",
       "│ \u001b[2mstring\u001b[0m │ \u001b[2mstring\u001b[0m    │ \u001b[2mstring\u001b[0m    │\n",
       "├────────┼───────────┼───────────┤\n",
       "│ \u001b[32m1-0   \u001b[0m │ \u001b[32m2063     \u001b[0m │ \u001b[32m2072     \u001b[0m │\n",
       "│ \u001b[32m1-0   \u001b[0m │ \u001b[32m1338     \u001b[0m │ \u001b[32m1325     \u001b[0m │\n",
       "│ \u001b[32m1-0   \u001b[0m │ \u001b[32m1290     \u001b[0m │ \u001b[32m1248     \u001b[0m │\n",
       "│ \u001b[32m0-1   \u001b[0m │ \u001b[32m2220     \u001b[0m │ \u001b[32m2236     \u001b[0m │\n",
       "│ \u001b[32m1-0   \u001b[0m │ \u001b[32m1526     \u001b[0m │ \u001b[32m1516     \u001b[0m │\n",
       "│ \u001b[32m0-1   \u001b[0m │ \u001b[32m1327     \u001b[0m │ \u001b[32m1723     \u001b[0m │\n",
       "│ \u001b[32m1-0   \u001b[0m │ \u001b[32m1552     \u001b[0m │ \u001b[32m1650     \u001b[0m │\n",
       "│ \u001b[32m0-1   \u001b[0m │ \u001b[32m2158     \u001b[0m │ \u001b[32m2042     \u001b[0m │\n",
       "│ \u001b[32m0-1   \u001b[0m │ \u001b[32m1176     \u001b[0m │ \u001b[32m1179     \u001b[0m │\n",
       "│ \u001b[32m0-1   \u001b[0m │ \u001b[32m2154     \u001b[0m │ \u001b[32m2166     \u001b[0m │\n",
       "│ \u001b[2m…\u001b[0m      │ \u001b[2m…\u001b[0m         │ \u001b[2m…\u001b[0m         │\n",
       "└────────┴───────────┴───────────┘"
      ]
     },
     "execution_count": 11,
     "metadata": {},
     "output_type": "execute_result"
    }
   ],
   "source": [
    "games_selected_columns.select(\n",
    "    games_selected_columns.result,\n",
    "    games_selected_columns.white_elo,\n",
    "    games_selected_columns.black_elo,\n",
    ")"
   ]
  },
  {
   "cell_type": "markdown",
   "metadata": {},
   "source": [
    "In this case, tab completion works to save typing \"games_selected_columns\" repeatedly. But Ibis also has a deferred operator `_`, which stands for the last table to the left of the current function call."
   ]
  },
  {
   "cell_type": "code",
   "execution_count": 12,
   "metadata": {},
   "outputs": [
    {
     "data": {
      "text/html": [
       "<pre style=\"white-space:pre;overflow-x:auto;line-height:normal;font-family:Menlo,'DejaVu Sans Mono',consolas,'Courier New',monospace\">┏━━━━━━━━┳━━━━━━━━━━━┳━━━━━━━━━━━┓\n",
       "┃<span style=\"font-weight: bold\"> result </span>┃<span style=\"font-weight: bold\"> white_elo </span>┃<span style=\"font-weight: bold\"> black_elo </span>┃\n",
       "┡━━━━━━━━╇━━━━━━━━━━━╇━━━━━━━━━━━┩\n",
       "│ <span style=\"color: #7f7f7f; text-decoration-color: #7f7f7f\">string</span> │ <span style=\"color: #7f7f7f; text-decoration-color: #7f7f7f\">string</span>    │ <span style=\"color: #7f7f7f; text-decoration-color: #7f7f7f\">string</span>    │\n",
       "├────────┼───────────┼───────────┤\n",
       "│ <span style=\"color: #008000; text-decoration-color: #008000\">1-0   </span> │ <span style=\"color: #008000; text-decoration-color: #008000\">2063     </span> │ <span style=\"color: #008000; text-decoration-color: #008000\">2072     </span> │\n",
       "│ <span style=\"color: #008000; text-decoration-color: #008000\">1-0   </span> │ <span style=\"color: #008000; text-decoration-color: #008000\">1338     </span> │ <span style=\"color: #008000; text-decoration-color: #008000\">1325     </span> │\n",
       "│ <span style=\"color: #008000; text-decoration-color: #008000\">1-0   </span> │ <span style=\"color: #008000; text-decoration-color: #008000\">1290     </span> │ <span style=\"color: #008000; text-decoration-color: #008000\">1248     </span> │\n",
       "│ <span style=\"color: #008000; text-decoration-color: #008000\">0-1   </span> │ <span style=\"color: #008000; text-decoration-color: #008000\">2220     </span> │ <span style=\"color: #008000; text-decoration-color: #008000\">2236     </span> │\n",
       "│ <span style=\"color: #008000; text-decoration-color: #008000\">1-0   </span> │ <span style=\"color: #008000; text-decoration-color: #008000\">1526     </span> │ <span style=\"color: #008000; text-decoration-color: #008000\">1516     </span> │\n",
       "│ <span style=\"color: #008000; text-decoration-color: #008000\">0-1   </span> │ <span style=\"color: #008000; text-decoration-color: #008000\">1327     </span> │ <span style=\"color: #008000; text-decoration-color: #008000\">1723     </span> │\n",
       "│ <span style=\"color: #008000; text-decoration-color: #008000\">1-0   </span> │ <span style=\"color: #008000; text-decoration-color: #008000\">1552     </span> │ <span style=\"color: #008000; text-decoration-color: #008000\">1650     </span> │\n",
       "│ <span style=\"color: #008000; text-decoration-color: #008000\">0-1   </span> │ <span style=\"color: #008000; text-decoration-color: #008000\">2158     </span> │ <span style=\"color: #008000; text-decoration-color: #008000\">2042     </span> │\n",
       "│ <span style=\"color: #008000; text-decoration-color: #008000\">0-1   </span> │ <span style=\"color: #008000; text-decoration-color: #008000\">1176     </span> │ <span style=\"color: #008000; text-decoration-color: #008000\">1179     </span> │\n",
       "│ <span style=\"color: #008000; text-decoration-color: #008000\">0-1   </span> │ <span style=\"color: #008000; text-decoration-color: #008000\">2154     </span> │ <span style=\"color: #008000; text-decoration-color: #008000\">2166     </span> │\n",
       "│ <span style=\"color: #7f7f7f; text-decoration-color: #7f7f7f\">…</span>      │ <span style=\"color: #7f7f7f; text-decoration-color: #7f7f7f\">…</span>         │ <span style=\"color: #7f7f7f; text-decoration-color: #7f7f7f\">…</span>         │\n",
       "└────────┴───────────┴───────────┘\n",
       "</pre>\n"
      ],
      "text/plain": [
       "┏━━━━━━━━┳━━━━━━━━━━━┳━━━━━━━━━━━┓\n",
       "┃\u001b[1m \u001b[0m\u001b[1mresult\u001b[0m\u001b[1m \u001b[0m┃\u001b[1m \u001b[0m\u001b[1mwhite_elo\u001b[0m\u001b[1m \u001b[0m┃\u001b[1m \u001b[0m\u001b[1mblack_elo\u001b[0m\u001b[1m \u001b[0m┃\n",
       "┡━━━━━━━━╇━━━━━━━━━━━╇━━━━━━━━━━━┩\n",
       "│ \u001b[2mstring\u001b[0m │ \u001b[2mstring\u001b[0m    │ \u001b[2mstring\u001b[0m    │\n",
       "├────────┼───────────┼───────────┤\n",
       "│ \u001b[32m1-0   \u001b[0m │ \u001b[32m2063     \u001b[0m │ \u001b[32m2072     \u001b[0m │\n",
       "│ \u001b[32m1-0   \u001b[0m │ \u001b[32m1338     \u001b[0m │ \u001b[32m1325     \u001b[0m │\n",
       "│ \u001b[32m1-0   \u001b[0m │ \u001b[32m1290     \u001b[0m │ \u001b[32m1248     \u001b[0m │\n",
       "│ \u001b[32m0-1   \u001b[0m │ \u001b[32m2220     \u001b[0m │ \u001b[32m2236     \u001b[0m │\n",
       "│ \u001b[32m1-0   \u001b[0m │ \u001b[32m1526     \u001b[0m │ \u001b[32m1516     \u001b[0m │\n",
       "│ \u001b[32m0-1   \u001b[0m │ \u001b[32m1327     \u001b[0m │ \u001b[32m1723     \u001b[0m │\n",
       "│ \u001b[32m1-0   \u001b[0m │ \u001b[32m1552     \u001b[0m │ \u001b[32m1650     \u001b[0m │\n",
       "│ \u001b[32m0-1   \u001b[0m │ \u001b[32m2158     \u001b[0m │ \u001b[32m2042     \u001b[0m │\n",
       "│ \u001b[32m0-1   \u001b[0m │ \u001b[32m1176     \u001b[0m │ \u001b[32m1179     \u001b[0m │\n",
       "│ \u001b[32m0-1   \u001b[0m │ \u001b[32m2154     \u001b[0m │ \u001b[32m2166     \u001b[0m │\n",
       "│ \u001b[2m…\u001b[0m      │ \u001b[2m…\u001b[0m         │ \u001b[2m…\u001b[0m         │\n",
       "└────────┴───────────┴───────────┘"
      ]
     },
     "execution_count": 12,
     "metadata": {},
     "output_type": "execute_result"
    }
   ],
   "source": [
    "games_selected_columns.select(_.result, _.white_elo, _.black_elo)"
   ]
  },
  {
   "cell_type": "code",
   "execution_count": 13,
   "metadata": {},
   "outputs": [
    {
     "data": {
      "text/markdown": [
       "```sql\n",
       "SELECT\n",
       "  \"t0\".\"event\",\n",
       "  \"t0\".\"result\",\n",
       "  \"t0\".\"white_elo\",\n",
       "  \"t0\".\"black_elo\",\n",
       "  \"t0\".\"time_control\",\n",
       "  \"t0\".\"termination\",\n",
       "  \"t0\".\"white_title\",\n",
       "  \"t0\".\"black_title\"\n",
       "FROM \"ibis_read_parquet_wywsvl3r3zbvpkb5y7f6s7wkdy\" AS \"t0\"\n",
       "```"
      ],
      "text/plain": [
       "\u001b[34mSELECT\u001b[39;49;00m\u001b[37m\u001b[39;49;00m\n",
       "\u001b[37m  \u001b[39;49;00m\u001b[33m\"t0\"\u001b[39;49;00m.\u001b[33m\"event\"\u001b[39;49;00m,\u001b[37m\u001b[39;49;00m\n",
       "\u001b[37m  \u001b[39;49;00m\u001b[33m\"t0\"\u001b[39;49;00m.\u001b[33m\"result\"\u001b[39;49;00m,\u001b[37m\u001b[39;49;00m\n",
       "\u001b[37m  \u001b[39;49;00m\u001b[33m\"t0\"\u001b[39;49;00m.\u001b[33m\"white_elo\"\u001b[39;49;00m,\u001b[37m\u001b[39;49;00m\n",
       "\u001b[37m  \u001b[39;49;00m\u001b[33m\"t0\"\u001b[39;49;00m.\u001b[33m\"black_elo\"\u001b[39;49;00m,\u001b[37m\u001b[39;49;00m\n",
       "\u001b[37m  \u001b[39;49;00m\u001b[33m\"t0\"\u001b[39;49;00m.\u001b[33m\"time_control\"\u001b[39;49;00m,\u001b[37m\u001b[39;49;00m\n",
       "\u001b[37m  \u001b[39;49;00m\u001b[33m\"t0\"\u001b[39;49;00m.\u001b[33m\"termination\"\u001b[39;49;00m,\u001b[37m\u001b[39;49;00m\n",
       "\u001b[37m  \u001b[39;49;00m\u001b[33m\"t0\"\u001b[39;49;00m.\u001b[33m\"white_title\"\u001b[39;49;00m,\u001b[37m\u001b[39;49;00m\n",
       "\u001b[37m  \u001b[39;49;00m\u001b[33m\"t0\"\u001b[39;49;00m.\u001b[33m\"black_title\"\u001b[39;49;00m\u001b[37m\u001b[39;49;00m\n",
       "\u001b[34mFROM\u001b[39;49;00m\u001b[37m \u001b[39;49;00m\u001b[33m\"ibis_read_parquet_wywsvl3r3zbvpkb5y7f6s7wkdy\"\u001b[39;49;00m\u001b[37m \u001b[39;49;00m\u001b[34mAS\u001b[39;49;00m\u001b[37m \u001b[39;49;00m\u001b[33m\"t0\"\u001b[39;49;00m\u001b[37m\u001b[39;49;00m"
      ]
     },
     "execution_count": 13,
     "metadata": {},
     "output_type": "execute_result"
    }
   ],
   "source": [
    "ibis.to_sql(games_selected_columns)"
   ]
  },
  {
   "cell_type": "markdown",
   "metadata": {},
   "source": [
    "Currently, we're using a DuckDB backend, but there's also a `dialect` keyword parameter to get the same query in other SQL dialects."
   ]
  },
  {
   "cell_type": "code",
   "execution_count": 14,
   "metadata": {},
   "outputs": [
    {
     "data": {
      "text/html": [
       "<pre style=\"white-space:pre;overflow-x:auto;line-height:normal;font-family:Menlo,'DejaVu Sans Mono',consolas,'Courier New',monospace\">┏━━━━━━━━━━━━━━━━━┳━━━━━━━━━━━┳━━━━━━━━━━━━━━━━━━━┳━━━━━━━━━━━━━┓\n",
       "┃<span style=\"font-weight: bold\"> white           </span>┃<span style=\"font-weight: bold\"> white_elo </span>┃<span style=\"font-weight: bold\"> white_rating_diff </span>┃<span style=\"font-weight: bold\"> white_title </span>┃\n",
       "┡━━━━━━━━━━━━━━━━━╇━━━━━━━━━━━╇━━━━━━━━━━━━━━━━━━━╇━━━━━━━━━━━━━┩\n",
       "│ <span style=\"color: #7f7f7f; text-decoration-color: #7f7f7f\">string</span>          │ <span style=\"color: #7f7f7f; text-decoration-color: #7f7f7f\">string</span>    │ <span style=\"color: #7f7f7f; text-decoration-color: #7f7f7f\">string</span>            │ <span style=\"color: #7f7f7f; text-decoration-color: #7f7f7f\">string</span>      │\n",
       "├─────────────────┼───────────┼───────────────────┼─────────────┤\n",
       "│ <span style=\"color: #008000; text-decoration-color: #008000\">SihelyValahara </span> │ <span style=\"color: #008000; text-decoration-color: #008000\">2063     </span> │ <span style=\"color: #008000; text-decoration-color: #008000\">+7               </span> │ <span style=\"color: #7f7f7f; text-decoration-color: #7f7f7f\">NULL</span>        │\n",
       "│ <span style=\"color: #008000; text-decoration-color: #008000\">certified      </span> │ <span style=\"color: #008000; text-decoration-color: #008000\">1338     </span> │ <span style=\"color: #008000; text-decoration-color: #008000\">+6               </span> │ <span style=\"color: #7f7f7f; text-decoration-color: #7f7f7f\">NULL</span>        │\n",
       "│ <span style=\"color: #008000; text-decoration-color: #008000\">Heavy_Metal    </span> │ <span style=\"color: #008000; text-decoration-color: #008000\">1290     </span> │ <span style=\"color: #008000; text-decoration-color: #008000\">+5               </span> │ <span style=\"color: #7f7f7f; text-decoration-color: #7f7f7f\">NULL</span>        │\n",
       "│ <span style=\"color: #008000; text-decoration-color: #008000\">sensorlife77   </span> │ <span style=\"color: #008000; text-decoration-color: #008000\">2220     </span> │ <span style=\"color: #008000; text-decoration-color: #008000\">-5               </span> │ <span style=\"color: #7f7f7f; text-decoration-color: #7f7f7f\">NULL</span>        │\n",
       "│ <span style=\"color: #008000; text-decoration-color: #008000\">mesin1021      </span> │ <span style=\"color: #008000; text-decoration-color: #008000\">1526     </span> │ <span style=\"color: #008000; text-decoration-color: #008000\">+6               </span> │ <span style=\"color: #7f7f7f; text-decoration-color: #7f7f7f\">NULL</span>        │\n",
       "│ <span style=\"color: #008000; text-decoration-color: #008000\">htfy           </span> │ <span style=\"color: #008000; text-decoration-color: #008000\">1327     </span> │ <span style=\"color: #008000; text-decoration-color: #008000\">-2               </span> │ <span style=\"color: #7f7f7f; text-decoration-color: #7f7f7f\">NULL</span>        │\n",
       "│ <span style=\"color: #008000; text-decoration-color: #008000\">samotos        </span> │ <span style=\"color: #008000; text-decoration-color: #008000\">1552     </span> │ <span style=\"color: #008000; text-decoration-color: #008000\">+7               </span> │ <span style=\"color: #7f7f7f; text-decoration-color: #7f7f7f\">NULL</span>        │\n",
       "│ <span style=\"color: #008000; text-decoration-color: #008000\">ZiguratZenMelle</span> │ <span style=\"color: #008000; text-decoration-color: #008000\">2158     </span> │ <span style=\"color: #008000; text-decoration-color: #008000\">-8               </span> │ <span style=\"color: #7f7f7f; text-decoration-color: #7f7f7f\">NULL</span>        │\n",
       "│ <span style=\"color: #008000; text-decoration-color: #008000\">ASowilem       </span> │ <span style=\"color: #008000; text-decoration-color: #008000\">1176     </span> │ <span style=\"color: #008000; text-decoration-color: #008000\">-10              </span> │ <span style=\"color: #7f7f7f; text-decoration-color: #7f7f7f\">NULL</span>        │\n",
       "│ <span style=\"color: #008000; text-decoration-color: #008000\">Amerekov-Chess </span> │ <span style=\"color: #008000; text-decoration-color: #008000\">2154     </span> │ <span style=\"color: #008000; text-decoration-color: #008000\">-5               </span> │ <span style=\"color: #7f7f7f; text-decoration-color: #7f7f7f\">NULL</span>        │\n",
       "│ <span style=\"color: #7f7f7f; text-decoration-color: #7f7f7f\">…</span>               │ <span style=\"color: #7f7f7f; text-decoration-color: #7f7f7f\">…</span>         │ <span style=\"color: #7f7f7f; text-decoration-color: #7f7f7f\">…</span>                 │ <span style=\"color: #7f7f7f; text-decoration-color: #7f7f7f\">…</span>           │\n",
       "└─────────────────┴───────────┴───────────────────┴─────────────┘\n",
       "</pre>\n"
      ],
      "text/plain": [
       "┏━━━━━━━━━━━━━━━━━┳━━━━━━━━━━━┳━━━━━━━━━━━━━━━━━━━┳━━━━━━━━━━━━━┓\n",
       "┃\u001b[1m \u001b[0m\u001b[1mwhite\u001b[0m\u001b[1m          \u001b[0m\u001b[1m \u001b[0m┃\u001b[1m \u001b[0m\u001b[1mwhite_elo\u001b[0m\u001b[1m \u001b[0m┃\u001b[1m \u001b[0m\u001b[1mwhite_rating_diff\u001b[0m\u001b[1m \u001b[0m┃\u001b[1m \u001b[0m\u001b[1mwhite_title\u001b[0m\u001b[1m \u001b[0m┃\n",
       "┡━━━━━━━━━━━━━━━━━╇━━━━━━━━━━━╇━━━━━━━━━━━━━━━━━━━╇━━━━━━━━━━━━━┩\n",
       "│ \u001b[2mstring\u001b[0m          │ \u001b[2mstring\u001b[0m    │ \u001b[2mstring\u001b[0m            │ \u001b[2mstring\u001b[0m      │\n",
       "├─────────────────┼───────────┼───────────────────┼─────────────┤\n",
       "│ \u001b[32mSihelyValahara \u001b[0m │ \u001b[32m2063     \u001b[0m │ \u001b[32m+7               \u001b[0m │ \u001b[2mNULL\u001b[0m        │\n",
       "│ \u001b[32mcertified      \u001b[0m │ \u001b[32m1338     \u001b[0m │ \u001b[32m+6               \u001b[0m │ \u001b[2mNULL\u001b[0m        │\n",
       "│ \u001b[32mHeavy_Metal    \u001b[0m │ \u001b[32m1290     \u001b[0m │ \u001b[32m+5               \u001b[0m │ \u001b[2mNULL\u001b[0m        │\n",
       "│ \u001b[32msensorlife77   \u001b[0m │ \u001b[32m2220     \u001b[0m │ \u001b[32m-5               \u001b[0m │ \u001b[2mNULL\u001b[0m        │\n",
       "│ \u001b[32mmesin1021      \u001b[0m │ \u001b[32m1526     \u001b[0m │ \u001b[32m+6               \u001b[0m │ \u001b[2mNULL\u001b[0m        │\n",
       "│ \u001b[32mhtfy           \u001b[0m │ \u001b[32m1327     \u001b[0m │ \u001b[32m-2               \u001b[0m │ \u001b[2mNULL\u001b[0m        │\n",
       "│ \u001b[32msamotos        \u001b[0m │ \u001b[32m1552     \u001b[0m │ \u001b[32m+7               \u001b[0m │ \u001b[2mNULL\u001b[0m        │\n",
       "│ \u001b[32mZiguratZenMelle\u001b[0m │ \u001b[32m2158     \u001b[0m │ \u001b[32m-8               \u001b[0m │ \u001b[2mNULL\u001b[0m        │\n",
       "│ \u001b[32mASowilem       \u001b[0m │ \u001b[32m1176     \u001b[0m │ \u001b[32m-10              \u001b[0m │ \u001b[2mNULL\u001b[0m        │\n",
       "│ \u001b[32mAmerekov-Chess \u001b[0m │ \u001b[32m2154     \u001b[0m │ \u001b[32m-5               \u001b[0m │ \u001b[2mNULL\u001b[0m        │\n",
       "│ \u001b[2m…\u001b[0m               │ \u001b[2m…\u001b[0m         │ \u001b[2m…\u001b[0m                 │ \u001b[2m…\u001b[0m           │\n",
       "└─────────────────┴───────────┴───────────────────┴─────────────┘"
      ]
     },
     "execution_count": 14,
     "metadata": {},
     "output_type": "execute_result"
    }
   ],
   "source": [
    "import ibis.selectors as s\n",
    "\n",
    "games.select(s.contains(\"white\"))"
   ]
  },
  {
   "cell_type": "markdown",
   "metadata": {},
   "source": [
    "`drop` is similar to `select`, but we specify which columns to _not_ include. \n",
    "\n",
    "### Exercise 1\n",
    "How would you show all of the columns except the day (since this dataset only spans a couple of days) and the site (which seems redundant with `game_id`)?"
   ]
  },
  {
   "cell_type": "code",
   "execution_count": null,
   "metadata": {},
   "outputs": [],
   "source": [
    "# Write your solution here\n"
   ]
  },
  {
   "cell_type": "markdown",
   "metadata": {},
   "source": [
    "#### Solution"
   ]
  },
  {
   "cell_type": "code",
   "execution_count": 16,
   "metadata": {},
   "outputs": [
    {
     "data": {
      "text/html": [
       "<pre style=\"white-space:pre;overflow-x:auto;line-height:normal;font-family:Menlo,'DejaVu Sans Mono',consolas,'Courier New',monospace\">┏━━━━━━━━━━┳━━━━━━━━━━━━━━━━━━━┳━━━━━━━━━━━━┳━━━━━━━━┳━━━━━━━━━━━━━━━━━┳━━━━━━━━━━━━━━━━━━━━┳━━━━━━━━┳━━━━━━━━━━┳━━━━━━━━━━━┳━━━━━━━━━━━┳━━━━━━━━━━━━━━━━━━━┳━━━━━━━━━━━━━━━━━━━┳━━━━━━━━┳━━━━━━━━━━━━━━━━━━━━━━━━━━━━━━━━━━━━━━━━━━━━━━━━━┳━━━━━━━━━━━━━━┳━━━━━━━━━━━━━━┳━━━━━━━━━━━━━┳━━━━━━━━━━━━━┓\n",
       "┃<span style=\"font-weight: bold\"> game_id  </span>┃<span style=\"font-weight: bold\"> event             </span>┃<span style=\"font-weight: bold\"> date       </span>┃<span style=\"font-weight: bold\"> round  </span>┃<span style=\"font-weight: bold\"> white           </span>┃<span style=\"font-weight: bold\"> black              </span>┃<span style=\"font-weight: bold\"> result </span>┃<span style=\"font-weight: bold\"> utc_time </span>┃<span style=\"font-weight: bold\"> white_elo </span>┃<span style=\"font-weight: bold\"> black_elo </span>┃<span style=\"font-weight: bold\"> white_rating_diff </span>┃<span style=\"font-weight: bold\"> black_rating_diff </span>┃<span style=\"font-weight: bold\"> eco    </span>┃<span style=\"font-weight: bold\"> opening                                         </span>┃<span style=\"font-weight: bold\"> time_control </span>┃<span style=\"font-weight: bold\"> termination  </span>┃<span style=\"font-weight: bold\"> white_title </span>┃<span style=\"font-weight: bold\"> black_title </span>┃\n",
       "┡━━━━━━━━━━╇━━━━━━━━━━━━━━━━━━━╇━━━━━━━━━━━━╇━━━━━━━━╇━━━━━━━━━━━━━━━━━╇━━━━━━━━━━━━━━━━━━━━╇━━━━━━━━╇━━━━━━━━━━╇━━━━━━━━━━━╇━━━━━━━━━━━╇━━━━━━━━━━━━━━━━━━━╇━━━━━━━━━━━━━━━━━━━╇━━━━━━━━╇━━━━━━━━━━━━━━━━━━━━━━━━━━━━━━━━━━━━━━━━━━━━━━━━━╇━━━━━━━━━━━━━━╇━━━━━━━━━━━━━━╇━━━━━━━━━━━━━╇━━━━━━━━━━━━━┩\n",
       "│ <span style=\"color: #7f7f7f; text-decoration-color: #7f7f7f\">string</span>   │ <span style=\"color: #7f7f7f; text-decoration-color: #7f7f7f\">string</span>            │ <span style=\"color: #7f7f7f; text-decoration-color: #7f7f7f\">string</span>     │ <span style=\"color: #7f7f7f; text-decoration-color: #7f7f7f\">string</span> │ <span style=\"color: #7f7f7f; text-decoration-color: #7f7f7f\">string</span>          │ <span style=\"color: #7f7f7f; text-decoration-color: #7f7f7f\">string</span>             │ <span style=\"color: #7f7f7f; text-decoration-color: #7f7f7f\">string</span> │ <span style=\"color: #7f7f7f; text-decoration-color: #7f7f7f\">string</span>   │ <span style=\"color: #7f7f7f; text-decoration-color: #7f7f7f\">string</span>    │ <span style=\"color: #7f7f7f; text-decoration-color: #7f7f7f\">string</span>    │ <span style=\"color: #7f7f7f; text-decoration-color: #7f7f7f\">string</span>            │ <span style=\"color: #7f7f7f; text-decoration-color: #7f7f7f\">string</span>            │ <span style=\"color: #7f7f7f; text-decoration-color: #7f7f7f\">string</span> │ <span style=\"color: #7f7f7f; text-decoration-color: #7f7f7f\">string</span>                                          │ <span style=\"color: #7f7f7f; text-decoration-color: #7f7f7f\">string</span>       │ <span style=\"color: #7f7f7f; text-decoration-color: #7f7f7f\">string</span>       │ <span style=\"color: #7f7f7f; text-decoration-color: #7f7f7f\">string</span>      │ <span style=\"color: #7f7f7f; text-decoration-color: #7f7f7f\">string</span>      │\n",
       "├──────────┼───────────────────┼────────────┼────────┼─────────────────┼────────────────────┼────────┼──────────┼───────────┼───────────┼───────────────────┼───────────────────┼────────┼─────────────────────────────────────────────────┼──────────────┼──────────────┼─────────────┼─────────────┤\n",
       "│ <span style=\"color: #008000; text-decoration-color: #008000\">S3bP7JXA</span> │ <span style=\"color: #008000; text-decoration-color: #008000\">Rated Blitz game </span> │ <span style=\"color: #008000; text-decoration-color: #008000\">2024.09.01</span> │ <span style=\"color: #008000; text-decoration-color: #008000\">-     </span> │ <span style=\"color: #008000; text-decoration-color: #008000\">SihelyValahara </span> │ <span style=\"color: #008000; text-decoration-color: #008000\">modze10           </span> │ <span style=\"color: #008000; text-decoration-color: #008000\">1-0   </span> │ <span style=\"color: #008000; text-decoration-color: #008000\">09:21:36</span> │ <span style=\"color: #008000; text-decoration-color: #008000\">2063     </span> │ <span style=\"color: #008000; text-decoration-color: #008000\">2072     </span> │ <span style=\"color: #008000; text-decoration-color: #008000\">+7               </span> │ <span style=\"color: #008000; text-decoration-color: #008000\">-7               </span> │ <span style=\"color: #008000; text-decoration-color: #008000\">C64   </span> │ <span style=\"color: #008000; text-decoration-color: #008000\">Ruy Lopez: Classical Defense, Benelux Variation</span> │ <span style=\"color: #008000; text-decoration-color: #008000\">180+0       </span> │ <span style=\"color: #008000; text-decoration-color: #008000\">Normal      </span> │ <span style=\"color: #7f7f7f; text-decoration-color: #7f7f7f\">NULL</span>        │ <span style=\"color: #7f7f7f; text-decoration-color: #7f7f7f\">NULL</span>        │\n",
       "│ <span style=\"color: #008000; text-decoration-color: #008000\">X1OtRVZo</span> │ <span style=\"color: #008000; text-decoration-color: #008000\">Rated Blitz game </span> │ <span style=\"color: #008000; text-decoration-color: #008000\">2024.09.01</span> │ <span style=\"color: #008000; text-decoration-color: #008000\">-     </span> │ <span style=\"color: #008000; text-decoration-color: #008000\">certified      </span> │ <span style=\"color: #008000; text-decoration-color: #008000\">braquejnr         </span> │ <span style=\"color: #008000; text-decoration-color: #008000\">1-0   </span> │ <span style=\"color: #008000; text-decoration-color: #008000\">09:21:36</span> │ <span style=\"color: #008000; text-decoration-color: #008000\">1338     </span> │ <span style=\"color: #008000; text-decoration-color: #008000\">1325     </span> │ <span style=\"color: #008000; text-decoration-color: #008000\">+6               </span> │ <span style=\"color: #008000; text-decoration-color: #008000\">-6               </span> │ <span style=\"color: #008000; text-decoration-color: #008000\">C25   </span> │ <span style=\"color: #008000; text-decoration-color: #008000\">Vienna Game                                    </span> │ <span style=\"color: #008000; text-decoration-color: #008000\">180+0       </span> │ <span style=\"color: #008000; text-decoration-color: #008000\">Normal      </span> │ <span style=\"color: #7f7f7f; text-decoration-color: #7f7f7f\">NULL</span>        │ <span style=\"color: #7f7f7f; text-decoration-color: #7f7f7f\">NULL</span>        │\n",
       "│ <span style=\"color: #008000; text-decoration-color: #008000\">tqye7Q9W</span> │ <span style=\"color: #008000; text-decoration-color: #008000\">Rated Blitz game </span> │ <span style=\"color: #008000; text-decoration-color: #008000\">2024.09.01</span> │ <span style=\"color: #008000; text-decoration-color: #008000\">-     </span> │ <span style=\"color: #008000; text-decoration-color: #008000\">Heavy_Metal    </span> │ <span style=\"color: #008000; text-decoration-color: #008000\">Kayra_16          </span> │ <span style=\"color: #008000; text-decoration-color: #008000\">1-0   </span> │ <span style=\"color: #008000; text-decoration-color: #008000\">09:21:36</span> │ <span style=\"color: #008000; text-decoration-color: #008000\">1290     </span> │ <span style=\"color: #008000; text-decoration-color: #008000\">1248     </span> │ <span style=\"color: #008000; text-decoration-color: #008000\">+5               </span> │ <span style=\"color: #008000; text-decoration-color: #008000\">-9               </span> │ <span style=\"color: #008000; text-decoration-color: #008000\">D00   </span> │ <span style=\"color: #008000; text-decoration-color: #008000\">Queen's Pawn Game: Chigorin Variation          </span> │ <span style=\"color: #008000; text-decoration-color: #008000\">180+0       </span> │ <span style=\"color: #008000; text-decoration-color: #008000\">Normal      </span> │ <span style=\"color: #7f7f7f; text-decoration-color: #7f7f7f\">NULL</span>        │ <span style=\"color: #7f7f7f; text-decoration-color: #7f7f7f\">NULL</span>        │\n",
       "│ <span style=\"color: #008000; text-decoration-color: #008000\">841dKoEt</span> │ <span style=\"color: #008000; text-decoration-color: #008000\">Rated Blitz game </span> │ <span style=\"color: #008000; text-decoration-color: #008000\">2024.09.01</span> │ <span style=\"color: #008000; text-decoration-color: #008000\">-     </span> │ <span style=\"color: #008000; text-decoration-color: #008000\">sensorlife77   </span> │ <span style=\"color: #008000; text-decoration-color: #008000\">Superscarso       </span> │ <span style=\"color: #008000; text-decoration-color: #008000\">0-1   </span> │ <span style=\"color: #008000; text-decoration-color: #008000\">09:21:36</span> │ <span style=\"color: #008000; text-decoration-color: #008000\">2220     </span> │ <span style=\"color: #008000; text-decoration-color: #008000\">2236     </span> │ <span style=\"color: #008000; text-decoration-color: #008000\">-5               </span> │ <span style=\"color: #008000; text-decoration-color: #008000\">+6               </span> │ <span style=\"color: #008000; text-decoration-color: #008000\">A08   </span> │ <span style=\"color: #008000; text-decoration-color: #008000\">King's Indian Attack: French Variation         </span> │ <span style=\"color: #008000; text-decoration-color: #008000\">180+0       </span> │ <span style=\"color: #008000; text-decoration-color: #008000\">Normal      </span> │ <span style=\"color: #7f7f7f; text-decoration-color: #7f7f7f\">NULL</span>        │ <span style=\"color: #7f7f7f; text-decoration-color: #7f7f7f\">NULL</span>        │\n",
       "│ <span style=\"color: #008000; text-decoration-color: #008000\">4qhCbnwD</span> │ <span style=\"color: #008000; text-decoration-color: #008000\">Rated Bullet game</span> │ <span style=\"color: #008000; text-decoration-color: #008000\">2024.09.01</span> │ <span style=\"color: #008000; text-decoration-color: #008000\">-     </span> │ <span style=\"color: #008000; text-decoration-color: #008000\">mesin1021      </span> │ <span style=\"color: #008000; text-decoration-color: #008000\">Sergey1184        </span> │ <span style=\"color: #008000; text-decoration-color: #008000\">1-0   </span> │ <span style=\"color: #008000; text-decoration-color: #008000\">09:21:38</span> │ <span style=\"color: #008000; text-decoration-color: #008000\">1526     </span> │ <span style=\"color: #008000; text-decoration-color: #008000\">1516     </span> │ <span style=\"color: #008000; text-decoration-color: #008000\">+6               </span> │ <span style=\"color: #008000; text-decoration-color: #008000\">-6               </span> │ <span style=\"color: #008000; text-decoration-color: #008000\">D06   </span> │ <span style=\"color: #008000; text-decoration-color: #008000\">Queen's Gambit Declined: Baltic Defense        </span> │ <span style=\"color: #008000; text-decoration-color: #008000\">120+1       </span> │ <span style=\"color: #008000; text-decoration-color: #008000\">Normal      </span> │ <span style=\"color: #7f7f7f; text-decoration-color: #7f7f7f\">NULL</span>        │ <span style=\"color: #7f7f7f; text-decoration-color: #7f7f7f\">NULL</span>        │\n",
       "│ <span style=\"color: #008000; text-decoration-color: #008000\">KqBjz4jF</span> │ <span style=\"color: #008000; text-decoration-color: #008000\">Rated Rapid game </span> │ <span style=\"color: #008000; text-decoration-color: #008000\">2024.09.01</span> │ <span style=\"color: #008000; text-decoration-color: #008000\">-     </span> │ <span style=\"color: #008000; text-decoration-color: #008000\">htfy           </span> │ <span style=\"color: #008000; text-decoration-color: #008000\">koorushfakharzadeh</span> │ <span style=\"color: #008000; text-decoration-color: #008000\">0-1   </span> │ <span style=\"color: #008000; text-decoration-color: #008000\">09:21:39</span> │ <span style=\"color: #008000; text-decoration-color: #008000\">1327     </span> │ <span style=\"color: #008000; text-decoration-color: #008000\">1723     </span> │ <span style=\"color: #008000; text-decoration-color: #008000\">-2               </span> │ <span style=\"color: #008000; text-decoration-color: #008000\">+1               </span> │ <span style=\"color: #008000; text-decoration-color: #008000\">C50   </span> │ <span style=\"color: #008000; text-decoration-color: #008000\">Italian Game: Giuoco Pianissimo, Normal        </span> │ <span style=\"color: #008000; text-decoration-color: #008000\">600+1       </span> │ <span style=\"color: #008000; text-decoration-color: #008000\">Normal      </span> │ <span style=\"color: #7f7f7f; text-decoration-color: #7f7f7f\">NULL</span>        │ <span style=\"color: #7f7f7f; text-decoration-color: #7f7f7f\">NULL</span>        │\n",
       "│ <span style=\"color: #008000; text-decoration-color: #008000\">1uB4YHHH</span> │ <span style=\"color: #008000; text-decoration-color: #008000\">Rated Blitz game </span> │ <span style=\"color: #008000; text-decoration-color: #008000\">2024.09.01</span> │ <span style=\"color: #008000; text-decoration-color: #008000\">-     </span> │ <span style=\"color: #008000; text-decoration-color: #008000\">samotos        </span> │ <span style=\"color: #008000; text-decoration-color: #008000\">tamir71           </span> │ <span style=\"color: #008000; text-decoration-color: #008000\">1-0   </span> │ <span style=\"color: #008000; text-decoration-color: #008000\">09:21:39</span> │ <span style=\"color: #008000; text-decoration-color: #008000\">1552     </span> │ <span style=\"color: #008000; text-decoration-color: #008000\">1650     </span> │ <span style=\"color: #008000; text-decoration-color: #008000\">+7               </span> │ <span style=\"color: #008000; text-decoration-color: #008000\">-8               </span> │ <span style=\"color: #008000; text-decoration-color: #008000\">D30   </span> │ <span style=\"color: #008000; text-decoration-color: #008000\">Queen's Gambit Declined                        </span> │ <span style=\"color: #008000; text-decoration-color: #008000\">180+2       </span> │ <span style=\"color: #008000; text-decoration-color: #008000\">Normal      </span> │ <span style=\"color: #7f7f7f; text-decoration-color: #7f7f7f\">NULL</span>        │ <span style=\"color: #7f7f7f; text-decoration-color: #7f7f7f\">NULL</span>        │\n",
       "│ <span style=\"color: #008000; text-decoration-color: #008000\">81WWusNZ</span> │ <span style=\"color: #008000; text-decoration-color: #008000\">Rated Blitz game </span> │ <span style=\"color: #008000; text-decoration-color: #008000\">2024.09.01</span> │ <span style=\"color: #008000; text-decoration-color: #008000\">-     </span> │ <span style=\"color: #008000; text-decoration-color: #008000\">ZiguratZenMelle</span> │ <span style=\"color: #008000; text-decoration-color: #008000\">BT21PJM           </span> │ <span style=\"color: #008000; text-decoration-color: #008000\">0-1   </span> │ <span style=\"color: #008000; text-decoration-color: #008000\">09:21:39</span> │ <span style=\"color: #008000; text-decoration-color: #008000\">2158     </span> │ <span style=\"color: #008000; text-decoration-color: #008000\">2042     </span> │ <span style=\"color: #008000; text-decoration-color: #008000\">-8               </span> │ <span style=\"color: #008000; text-decoration-color: #008000\">+8               </span> │ <span style=\"color: #008000; text-decoration-color: #008000\">D17   </span> │ <span style=\"color: #008000; text-decoration-color: #008000\">Slav Defense: Czech Variation, Krause Attack   </span> │ <span style=\"color: #008000; text-decoration-color: #008000\">180+2       </span> │ <span style=\"color: #008000; text-decoration-color: #008000\">Time forfeit</span> │ <span style=\"color: #7f7f7f; text-decoration-color: #7f7f7f\">NULL</span>        │ <span style=\"color: #008000; text-decoration-color: #008000\">WFM        </span> │\n",
       "│ <span style=\"color: #008000; text-decoration-color: #008000\">RGz9ttRa</span> │ <span style=\"color: #008000; text-decoration-color: #008000\">Rated Bullet game</span> │ <span style=\"color: #008000; text-decoration-color: #008000\">2024.09.01</span> │ <span style=\"color: #008000; text-decoration-color: #008000\">-     </span> │ <span style=\"color: #008000; text-decoration-color: #008000\">ASowilem       </span> │ <span style=\"color: #008000; text-decoration-color: #008000\">Egorwin           </span> │ <span style=\"color: #008000; text-decoration-color: #008000\">0-1   </span> │ <span style=\"color: #008000; text-decoration-color: #008000\">09:21:41</span> │ <span style=\"color: #008000; text-decoration-color: #008000\">1176     </span> │ <span style=\"color: #008000; text-decoration-color: #008000\">1179     </span> │ <span style=\"color: #008000; text-decoration-color: #008000\">-10              </span> │ <span style=\"color: #008000; text-decoration-color: #008000\">+5               </span> │ <span style=\"color: #008000; text-decoration-color: #008000\">A40   </span> │ <span style=\"color: #008000; text-decoration-color: #008000\">Mikenas Defense                                </span> │ <span style=\"color: #008000; text-decoration-color: #008000\">60+0        </span> │ <span style=\"color: #008000; text-decoration-color: #008000\">Normal      </span> │ <span style=\"color: #7f7f7f; text-decoration-color: #7f7f7f\">NULL</span>        │ <span style=\"color: #7f7f7f; text-decoration-color: #7f7f7f\">NULL</span>        │\n",
       "│ <span style=\"color: #008000; text-decoration-color: #008000\">DGxmILo9</span> │ <span style=\"color: #008000; text-decoration-color: #008000\">Rated Blitz game </span> │ <span style=\"color: #008000; text-decoration-color: #008000\">2024.09.01</span> │ <span style=\"color: #008000; text-decoration-color: #008000\">-     </span> │ <span style=\"color: #008000; text-decoration-color: #008000\">Amerekov-Chess </span> │ <span style=\"color: #008000; text-decoration-color: #008000\">Dmitry_Shubin     </span> │ <span style=\"color: #008000; text-decoration-color: #008000\">0-1   </span> │ <span style=\"color: #008000; text-decoration-color: #008000\">09:21:42</span> │ <span style=\"color: #008000; text-decoration-color: #008000\">2154     </span> │ <span style=\"color: #008000; text-decoration-color: #008000\">2166     </span> │ <span style=\"color: #008000; text-decoration-color: #008000\">-5               </span> │ <span style=\"color: #008000; text-decoration-color: #008000\">+5               </span> │ <span style=\"color: #008000; text-decoration-color: #008000\">C21   </span> │ <span style=\"color: #008000; text-decoration-color: #008000\">Center Game                                    </span> │ <span style=\"color: #008000; text-decoration-color: #008000\">180+0       </span> │ <span style=\"color: #008000; text-decoration-color: #008000\">Time forfeit</span> │ <span style=\"color: #7f7f7f; text-decoration-color: #7f7f7f\">NULL</span>        │ <span style=\"color: #7f7f7f; text-decoration-color: #7f7f7f\">NULL</span>        │\n",
       "│ <span style=\"color: #7f7f7f; text-decoration-color: #7f7f7f\">…</span>        │ <span style=\"color: #7f7f7f; text-decoration-color: #7f7f7f\">…</span>                 │ <span style=\"color: #7f7f7f; text-decoration-color: #7f7f7f\">…</span>          │ <span style=\"color: #7f7f7f; text-decoration-color: #7f7f7f\">…</span>      │ <span style=\"color: #7f7f7f; text-decoration-color: #7f7f7f\">…</span>               │ <span style=\"color: #7f7f7f; text-decoration-color: #7f7f7f\">…</span>                  │ <span style=\"color: #7f7f7f; text-decoration-color: #7f7f7f\">…</span>      │ <span style=\"color: #7f7f7f; text-decoration-color: #7f7f7f\">…</span>        │ <span style=\"color: #7f7f7f; text-decoration-color: #7f7f7f\">…</span>         │ <span style=\"color: #7f7f7f; text-decoration-color: #7f7f7f\">…</span>         │ <span style=\"color: #7f7f7f; text-decoration-color: #7f7f7f\">…</span>                 │ <span style=\"color: #7f7f7f; text-decoration-color: #7f7f7f\">…</span>                 │ <span style=\"color: #7f7f7f; text-decoration-color: #7f7f7f\">…</span>      │ <span style=\"color: #7f7f7f; text-decoration-color: #7f7f7f\">…</span>                                               │ <span style=\"color: #7f7f7f; text-decoration-color: #7f7f7f\">…</span>            │ <span style=\"color: #7f7f7f; text-decoration-color: #7f7f7f\">…</span>            │ <span style=\"color: #7f7f7f; text-decoration-color: #7f7f7f\">…</span>           │ <span style=\"color: #7f7f7f; text-decoration-color: #7f7f7f\">…</span>           │\n",
       "└──────────┴───────────────────┴────────────┴────────┴─────────────────┴────────────────────┴────────┴──────────┴───────────┴───────────┴───────────────────┴───────────────────┴────────┴─────────────────────────────────────────────────┴──────────────┴──────────────┴─────────────┴─────────────┘\n",
       "</pre>\n"
      ],
      "text/plain": [
       "┏━━━━━━━━━━┳━━━━━━━━━━━━━━━━━━━┳━━━━━━━━━━━━┳━━━━━━━━┳━━━━━━━━━━━━━━━━━┳━━━━━━━━━━━━━━━━━━━━┳━━━━━━━━┳━━━━━━━━━━┳━━━━━━━━━━━┳━━━━━━━━━━━┳━━━━━━━━━━━━━━━━━━━┳━━━━━━━━━━━━━━━━━━━┳━━━━━━━━┳━━━━━━━━━━━━━━━━━━━━━━━━━━━━━━━━━━━━━━━━━━━━━━━━━┳━━━━━━━━━━━━━━┳━━━━━━━━━━━━━━┳━━━━━━━━━━━━━┳━━━━━━━━━━━━━┓\n",
       "┃\u001b[1m \u001b[0m\u001b[1mgame_id\u001b[0m\u001b[1m \u001b[0m\u001b[1m \u001b[0m┃\u001b[1m \u001b[0m\u001b[1mevent\u001b[0m\u001b[1m            \u001b[0m\u001b[1m \u001b[0m┃\u001b[1m \u001b[0m\u001b[1mdate\u001b[0m\u001b[1m      \u001b[0m\u001b[1m \u001b[0m┃\u001b[1m \u001b[0m\u001b[1mround\u001b[0m\u001b[1m \u001b[0m\u001b[1m \u001b[0m┃\u001b[1m \u001b[0m\u001b[1mwhite\u001b[0m\u001b[1m          \u001b[0m\u001b[1m \u001b[0m┃\u001b[1m \u001b[0m\u001b[1mblack\u001b[0m\u001b[1m             \u001b[0m\u001b[1m \u001b[0m┃\u001b[1m \u001b[0m\u001b[1mresult\u001b[0m\u001b[1m \u001b[0m┃\u001b[1m \u001b[0m\u001b[1mutc_time\u001b[0m\u001b[1m \u001b[0m┃\u001b[1m \u001b[0m\u001b[1mwhite_elo\u001b[0m\u001b[1m \u001b[0m┃\u001b[1m \u001b[0m\u001b[1mblack_elo\u001b[0m\u001b[1m \u001b[0m┃\u001b[1m \u001b[0m\u001b[1mwhite_rating_diff\u001b[0m\u001b[1m \u001b[0m┃\u001b[1m \u001b[0m\u001b[1mblack_rating_diff\u001b[0m\u001b[1m \u001b[0m┃\u001b[1m \u001b[0m\u001b[1meco\u001b[0m\u001b[1m   \u001b[0m\u001b[1m \u001b[0m┃\u001b[1m \u001b[0m\u001b[1mopening\u001b[0m\u001b[1m                                        \u001b[0m\u001b[1m \u001b[0m┃\u001b[1m \u001b[0m\u001b[1mtime_control\u001b[0m\u001b[1m \u001b[0m┃\u001b[1m \u001b[0m\u001b[1mtermination\u001b[0m\u001b[1m \u001b[0m\u001b[1m \u001b[0m┃\u001b[1m \u001b[0m\u001b[1mwhite_title\u001b[0m\u001b[1m \u001b[0m┃\u001b[1m \u001b[0m\u001b[1mblack_title\u001b[0m\u001b[1m \u001b[0m┃\n",
       "┡━━━━━━━━━━╇━━━━━━━━━━━━━━━━━━━╇━━━━━━━━━━━━╇━━━━━━━━╇━━━━━━━━━━━━━━━━━╇━━━━━━━━━━━━━━━━━━━━╇━━━━━━━━╇━━━━━━━━━━╇━━━━━━━━━━━╇━━━━━━━━━━━╇━━━━━━━━━━━━━━━━━━━╇━━━━━━━━━━━━━━━━━━━╇━━━━━━━━╇━━━━━━━━━━━━━━━━━━━━━━━━━━━━━━━━━━━━━━━━━━━━━━━━━╇━━━━━━━━━━━━━━╇━━━━━━━━━━━━━━╇━━━━━━━━━━━━━╇━━━━━━━━━━━━━┩\n",
       "│ \u001b[2mstring\u001b[0m   │ \u001b[2mstring\u001b[0m            │ \u001b[2mstring\u001b[0m     │ \u001b[2mstring\u001b[0m │ \u001b[2mstring\u001b[0m          │ \u001b[2mstring\u001b[0m             │ \u001b[2mstring\u001b[0m │ \u001b[2mstring\u001b[0m   │ \u001b[2mstring\u001b[0m    │ \u001b[2mstring\u001b[0m    │ \u001b[2mstring\u001b[0m            │ \u001b[2mstring\u001b[0m            │ \u001b[2mstring\u001b[0m │ \u001b[2mstring\u001b[0m                                          │ \u001b[2mstring\u001b[0m       │ \u001b[2mstring\u001b[0m       │ \u001b[2mstring\u001b[0m      │ \u001b[2mstring\u001b[0m      │\n",
       "├──────────┼───────────────────┼────────────┼────────┼─────────────────┼────────────────────┼────────┼──────────┼───────────┼───────────┼───────────────────┼───────────────────┼────────┼─────────────────────────────────────────────────┼──────────────┼──────────────┼─────────────┼─────────────┤\n",
       "│ \u001b[32mS3bP7JXA\u001b[0m │ \u001b[32mRated Blitz game \u001b[0m │ \u001b[32m2024.09.01\u001b[0m │ \u001b[32m-     \u001b[0m │ \u001b[32mSihelyValahara \u001b[0m │ \u001b[32mmodze10           \u001b[0m │ \u001b[32m1-0   \u001b[0m │ \u001b[32m09:21:36\u001b[0m │ \u001b[32m2063     \u001b[0m │ \u001b[32m2072     \u001b[0m │ \u001b[32m+7               \u001b[0m │ \u001b[32m-7               \u001b[0m │ \u001b[32mC64   \u001b[0m │ \u001b[32mRuy Lopez: Classical Defense, Benelux Variation\u001b[0m │ \u001b[32m180+0       \u001b[0m │ \u001b[32mNormal      \u001b[0m │ \u001b[2mNULL\u001b[0m        │ \u001b[2mNULL\u001b[0m        │\n",
       "│ \u001b[32mX1OtRVZo\u001b[0m │ \u001b[32mRated Blitz game \u001b[0m │ \u001b[32m2024.09.01\u001b[0m │ \u001b[32m-     \u001b[0m │ \u001b[32mcertified      \u001b[0m │ \u001b[32mbraquejnr         \u001b[0m │ \u001b[32m1-0   \u001b[0m │ \u001b[32m09:21:36\u001b[0m │ \u001b[32m1338     \u001b[0m │ \u001b[32m1325     \u001b[0m │ \u001b[32m+6               \u001b[0m │ \u001b[32m-6               \u001b[0m │ \u001b[32mC25   \u001b[0m │ \u001b[32mVienna Game                                    \u001b[0m │ \u001b[32m180+0       \u001b[0m │ \u001b[32mNormal      \u001b[0m │ \u001b[2mNULL\u001b[0m        │ \u001b[2mNULL\u001b[0m        │\n",
       "│ \u001b[32mtqye7Q9W\u001b[0m │ \u001b[32mRated Blitz game \u001b[0m │ \u001b[32m2024.09.01\u001b[0m │ \u001b[32m-     \u001b[0m │ \u001b[32mHeavy_Metal    \u001b[0m │ \u001b[32mKayra_16          \u001b[0m │ \u001b[32m1-0   \u001b[0m │ \u001b[32m09:21:36\u001b[0m │ \u001b[32m1290     \u001b[0m │ \u001b[32m1248     \u001b[0m │ \u001b[32m+5               \u001b[0m │ \u001b[32m-9               \u001b[0m │ \u001b[32mD00   \u001b[0m │ \u001b[32mQueen's Pawn Game: Chigorin Variation          \u001b[0m │ \u001b[32m180+0       \u001b[0m │ \u001b[32mNormal      \u001b[0m │ \u001b[2mNULL\u001b[0m        │ \u001b[2mNULL\u001b[0m        │\n",
       "│ \u001b[32m841dKoEt\u001b[0m │ \u001b[32mRated Blitz game \u001b[0m │ \u001b[32m2024.09.01\u001b[0m │ \u001b[32m-     \u001b[0m │ \u001b[32msensorlife77   \u001b[0m │ \u001b[32mSuperscarso       \u001b[0m │ \u001b[32m0-1   \u001b[0m │ \u001b[32m09:21:36\u001b[0m │ \u001b[32m2220     \u001b[0m │ \u001b[32m2236     \u001b[0m │ \u001b[32m-5               \u001b[0m │ \u001b[32m+6               \u001b[0m │ \u001b[32mA08   \u001b[0m │ \u001b[32mKing's Indian Attack: French Variation         \u001b[0m │ \u001b[32m180+0       \u001b[0m │ \u001b[32mNormal      \u001b[0m │ \u001b[2mNULL\u001b[0m        │ \u001b[2mNULL\u001b[0m        │\n",
       "│ \u001b[32m4qhCbnwD\u001b[0m │ \u001b[32mRated Bullet game\u001b[0m │ \u001b[32m2024.09.01\u001b[0m │ \u001b[32m-     \u001b[0m │ \u001b[32mmesin1021      \u001b[0m │ \u001b[32mSergey1184        \u001b[0m │ \u001b[32m1-0   \u001b[0m │ \u001b[32m09:21:38\u001b[0m │ \u001b[32m1526     \u001b[0m │ \u001b[32m1516     \u001b[0m │ \u001b[32m+6               \u001b[0m │ \u001b[32m-6               \u001b[0m │ \u001b[32mD06   \u001b[0m │ \u001b[32mQueen's Gambit Declined: Baltic Defense        \u001b[0m │ \u001b[32m120+1       \u001b[0m │ \u001b[32mNormal      \u001b[0m │ \u001b[2mNULL\u001b[0m        │ \u001b[2mNULL\u001b[0m        │\n",
       "│ \u001b[32mKqBjz4jF\u001b[0m │ \u001b[32mRated Rapid game \u001b[0m │ \u001b[32m2024.09.01\u001b[0m │ \u001b[32m-     \u001b[0m │ \u001b[32mhtfy           \u001b[0m │ \u001b[32mkoorushfakharzadeh\u001b[0m │ \u001b[32m0-1   \u001b[0m │ \u001b[32m09:21:39\u001b[0m │ \u001b[32m1327     \u001b[0m │ \u001b[32m1723     \u001b[0m │ \u001b[32m-2               \u001b[0m │ \u001b[32m+1               \u001b[0m │ \u001b[32mC50   \u001b[0m │ \u001b[32mItalian Game: Giuoco Pianissimo, Normal        \u001b[0m │ \u001b[32m600+1       \u001b[0m │ \u001b[32mNormal      \u001b[0m │ \u001b[2mNULL\u001b[0m        │ \u001b[2mNULL\u001b[0m        │\n",
       "│ \u001b[32m1uB4YHHH\u001b[0m │ \u001b[32mRated Blitz game \u001b[0m │ \u001b[32m2024.09.01\u001b[0m │ \u001b[32m-     \u001b[0m │ \u001b[32msamotos        \u001b[0m │ \u001b[32mtamir71           \u001b[0m │ \u001b[32m1-0   \u001b[0m │ \u001b[32m09:21:39\u001b[0m │ \u001b[32m1552     \u001b[0m │ \u001b[32m1650     \u001b[0m │ \u001b[32m+7               \u001b[0m │ \u001b[32m-8               \u001b[0m │ \u001b[32mD30   \u001b[0m │ \u001b[32mQueen's Gambit Declined                        \u001b[0m │ \u001b[32m180+2       \u001b[0m │ \u001b[32mNormal      \u001b[0m │ \u001b[2mNULL\u001b[0m        │ \u001b[2mNULL\u001b[0m        │\n",
       "│ \u001b[32m81WWusNZ\u001b[0m │ \u001b[32mRated Blitz game \u001b[0m │ \u001b[32m2024.09.01\u001b[0m │ \u001b[32m-     \u001b[0m │ \u001b[32mZiguratZenMelle\u001b[0m │ \u001b[32mBT21PJM           \u001b[0m │ \u001b[32m0-1   \u001b[0m │ \u001b[32m09:21:39\u001b[0m │ \u001b[32m2158     \u001b[0m │ \u001b[32m2042     \u001b[0m │ \u001b[32m-8               \u001b[0m │ \u001b[32m+8               \u001b[0m │ \u001b[32mD17   \u001b[0m │ \u001b[32mSlav Defense: Czech Variation, Krause Attack   \u001b[0m │ \u001b[32m180+2       \u001b[0m │ \u001b[32mTime forfeit\u001b[0m │ \u001b[2mNULL\u001b[0m        │ \u001b[32mWFM        \u001b[0m │\n",
       "│ \u001b[32mRGz9ttRa\u001b[0m │ \u001b[32mRated Bullet game\u001b[0m │ \u001b[32m2024.09.01\u001b[0m │ \u001b[32m-     \u001b[0m │ \u001b[32mASowilem       \u001b[0m │ \u001b[32mEgorwin           \u001b[0m │ \u001b[32m0-1   \u001b[0m │ \u001b[32m09:21:41\u001b[0m │ \u001b[32m1176     \u001b[0m │ \u001b[32m1179     \u001b[0m │ \u001b[32m-10              \u001b[0m │ \u001b[32m+5               \u001b[0m │ \u001b[32mA40   \u001b[0m │ \u001b[32mMikenas Defense                                \u001b[0m │ \u001b[32m60+0        \u001b[0m │ \u001b[32mNormal      \u001b[0m │ \u001b[2mNULL\u001b[0m        │ \u001b[2mNULL\u001b[0m        │\n",
       "│ \u001b[32mDGxmILo9\u001b[0m │ \u001b[32mRated Blitz game \u001b[0m │ \u001b[32m2024.09.01\u001b[0m │ \u001b[32m-     \u001b[0m │ \u001b[32mAmerekov-Chess \u001b[0m │ \u001b[32mDmitry_Shubin     \u001b[0m │ \u001b[32m0-1   \u001b[0m │ \u001b[32m09:21:42\u001b[0m │ \u001b[32m2154     \u001b[0m │ \u001b[32m2166     \u001b[0m │ \u001b[32m-5               \u001b[0m │ \u001b[32m+5               \u001b[0m │ \u001b[32mC21   \u001b[0m │ \u001b[32mCenter Game                                    \u001b[0m │ \u001b[32m180+0       \u001b[0m │ \u001b[32mTime forfeit\u001b[0m │ \u001b[2mNULL\u001b[0m        │ \u001b[2mNULL\u001b[0m        │\n",
       "│ \u001b[2m…\u001b[0m        │ \u001b[2m…\u001b[0m                 │ \u001b[2m…\u001b[0m          │ \u001b[2m…\u001b[0m      │ \u001b[2m…\u001b[0m               │ \u001b[2m…\u001b[0m                  │ \u001b[2m…\u001b[0m      │ \u001b[2m…\u001b[0m        │ \u001b[2m…\u001b[0m         │ \u001b[2m…\u001b[0m         │ \u001b[2m…\u001b[0m                 │ \u001b[2m…\u001b[0m                 │ \u001b[2m…\u001b[0m      │ \u001b[2m…\u001b[0m                                               │ \u001b[2m…\u001b[0m            │ \u001b[2m…\u001b[0m            │ \u001b[2m…\u001b[0m           │ \u001b[2m…\u001b[0m           │\n",
       "└──────────┴───────────────────┴────────────┴────────┴─────────────────┴────────────────────┴────────┴──────────┴───────────┴───────────┴───────────────────┴───────────────────┴────────┴─────────────────────────────────────────────────┴──────────────┴──────────────┴─────────────┴─────────────┘"
      ]
     },
     "execution_count": 16,
     "metadata": {},
     "output_type": "execute_result"
    }
   ],
   "source": [
    "# %load solutions/nb01_ex01.py\n",
    "games.drop(\"utc_date\", \"site\")\n"
   ]
  },
  {
   "cell_type": "markdown",
   "metadata": {},
   "source": [
    "## Mutate\n",
    "While `select` and `drop` subtract columns, `mutate` can add them! We can create a new column as a function of existing column(s).\n",
    "\n",
    "Elo ratings in chess are a metric of the strength of a player, with higher ratings signifying stronger players. For the sake of an example, let's assume that rating is more widely understood than Elo, so we want new columns labelled white/black_rating. And we definitely want it to be of data type int, not string. (`try_cast` is like `cast`, but doesn't fail on NULLs or other bad apples.)"
   ]
  },
  {
   "cell_type": "code",
   "execution_count": 17,
   "metadata": {},
   "outputs": [
    {
     "data": {
      "text/html": [
       "<pre style=\"white-space:pre;overflow-x:auto;line-height:normal;font-family:Menlo,'DejaVu Sans Mono',consolas,'Courier New',monospace\">┏━━━━━━━━━━━━━━━━━━━┳━━━━━━━━┳━━━━━━━━━━━┳━━━━━━━━━━━┳━━━━━━━━━━━━━━┳━━━━━━━━━━━━━━┳━━━━━━━━━━━━━┳━━━━━━━━━━━━━┳━━━━━━━━━━━━━━┓\n",
       "┃<span style=\"font-weight: bold\"> event             </span>┃<span style=\"font-weight: bold\"> result </span>┃<span style=\"font-weight: bold\"> white_elo </span>┃<span style=\"font-weight: bold\"> black_elo </span>┃<span style=\"font-weight: bold\"> time_control </span>┃<span style=\"font-weight: bold\"> termination  </span>┃<span style=\"font-weight: bold\"> white_title </span>┃<span style=\"font-weight: bold\"> black_title </span>┃<span style=\"font-weight: bold\"> white_rating </span>┃\n",
       "┡━━━━━━━━━━━━━━━━━━━╇━━━━━━━━╇━━━━━━━━━━━╇━━━━━━━━━━━╇━━━━━━━━━━━━━━╇━━━━━━━━━━━━━━╇━━━━━━━━━━━━━╇━━━━━━━━━━━━━╇━━━━━━━━━━━━━━┩\n",
       "│ <span style=\"color: #7f7f7f; text-decoration-color: #7f7f7f\">string</span>            │ <span style=\"color: #7f7f7f; text-decoration-color: #7f7f7f\">string</span> │ <span style=\"color: #7f7f7f; text-decoration-color: #7f7f7f\">string</span>    │ <span style=\"color: #7f7f7f; text-decoration-color: #7f7f7f\">string</span>    │ <span style=\"color: #7f7f7f; text-decoration-color: #7f7f7f\">string</span>       │ <span style=\"color: #7f7f7f; text-decoration-color: #7f7f7f\">string</span>       │ <span style=\"color: #7f7f7f; text-decoration-color: #7f7f7f\">string</span>      │ <span style=\"color: #7f7f7f; text-decoration-color: #7f7f7f\">string</span>      │ <span style=\"color: #7f7f7f; text-decoration-color: #7f7f7f\">int64</span>        │\n",
       "├───────────────────┼────────┼───────────┼───────────┼──────────────┼──────────────┼─────────────┼─────────────┼──────────────┤\n",
       "│ <span style=\"color: #008000; text-decoration-color: #008000\">Rated Blitz game </span> │ <span style=\"color: #008000; text-decoration-color: #008000\">1-0   </span> │ <span style=\"color: #008000; text-decoration-color: #008000\">2063     </span> │ <span style=\"color: #008000; text-decoration-color: #008000\">2072     </span> │ <span style=\"color: #008000; text-decoration-color: #008000\">180+0       </span> │ <span style=\"color: #008000; text-decoration-color: #008000\">Normal      </span> │ <span style=\"color: #7f7f7f; text-decoration-color: #7f7f7f\">NULL</span>        │ <span style=\"color: #7f7f7f; text-decoration-color: #7f7f7f\">NULL</span>        │         <span style=\"color: #008080; text-decoration-color: #008080; font-weight: bold\">2063</span> │\n",
       "│ <span style=\"color: #008000; text-decoration-color: #008000\">Rated Blitz game </span> │ <span style=\"color: #008000; text-decoration-color: #008000\">1-0   </span> │ <span style=\"color: #008000; text-decoration-color: #008000\">1338     </span> │ <span style=\"color: #008000; text-decoration-color: #008000\">1325     </span> │ <span style=\"color: #008000; text-decoration-color: #008000\">180+0       </span> │ <span style=\"color: #008000; text-decoration-color: #008000\">Normal      </span> │ <span style=\"color: #7f7f7f; text-decoration-color: #7f7f7f\">NULL</span>        │ <span style=\"color: #7f7f7f; text-decoration-color: #7f7f7f\">NULL</span>        │         <span style=\"color: #008080; text-decoration-color: #008080; font-weight: bold\">1338</span> │\n",
       "│ <span style=\"color: #008000; text-decoration-color: #008000\">Rated Blitz game </span> │ <span style=\"color: #008000; text-decoration-color: #008000\">1-0   </span> │ <span style=\"color: #008000; text-decoration-color: #008000\">1290     </span> │ <span style=\"color: #008000; text-decoration-color: #008000\">1248     </span> │ <span style=\"color: #008000; text-decoration-color: #008000\">180+0       </span> │ <span style=\"color: #008000; text-decoration-color: #008000\">Normal      </span> │ <span style=\"color: #7f7f7f; text-decoration-color: #7f7f7f\">NULL</span>        │ <span style=\"color: #7f7f7f; text-decoration-color: #7f7f7f\">NULL</span>        │         <span style=\"color: #008080; text-decoration-color: #008080; font-weight: bold\">1290</span> │\n",
       "│ <span style=\"color: #008000; text-decoration-color: #008000\">Rated Blitz game </span> │ <span style=\"color: #008000; text-decoration-color: #008000\">0-1   </span> │ <span style=\"color: #008000; text-decoration-color: #008000\">2220     </span> │ <span style=\"color: #008000; text-decoration-color: #008000\">2236     </span> │ <span style=\"color: #008000; text-decoration-color: #008000\">180+0       </span> │ <span style=\"color: #008000; text-decoration-color: #008000\">Normal      </span> │ <span style=\"color: #7f7f7f; text-decoration-color: #7f7f7f\">NULL</span>        │ <span style=\"color: #7f7f7f; text-decoration-color: #7f7f7f\">NULL</span>        │         <span style=\"color: #008080; text-decoration-color: #008080; font-weight: bold\">2220</span> │\n",
       "│ <span style=\"color: #008000; text-decoration-color: #008000\">Rated Bullet game</span> │ <span style=\"color: #008000; text-decoration-color: #008000\">1-0   </span> │ <span style=\"color: #008000; text-decoration-color: #008000\">1526     </span> │ <span style=\"color: #008000; text-decoration-color: #008000\">1516     </span> │ <span style=\"color: #008000; text-decoration-color: #008000\">120+1       </span> │ <span style=\"color: #008000; text-decoration-color: #008000\">Normal      </span> │ <span style=\"color: #7f7f7f; text-decoration-color: #7f7f7f\">NULL</span>        │ <span style=\"color: #7f7f7f; text-decoration-color: #7f7f7f\">NULL</span>        │         <span style=\"color: #008080; text-decoration-color: #008080; font-weight: bold\">1526</span> │\n",
       "│ <span style=\"color: #008000; text-decoration-color: #008000\">Rated Rapid game </span> │ <span style=\"color: #008000; text-decoration-color: #008000\">0-1   </span> │ <span style=\"color: #008000; text-decoration-color: #008000\">1327     </span> │ <span style=\"color: #008000; text-decoration-color: #008000\">1723     </span> │ <span style=\"color: #008000; text-decoration-color: #008000\">600+1       </span> │ <span style=\"color: #008000; text-decoration-color: #008000\">Normal      </span> │ <span style=\"color: #7f7f7f; text-decoration-color: #7f7f7f\">NULL</span>        │ <span style=\"color: #7f7f7f; text-decoration-color: #7f7f7f\">NULL</span>        │         <span style=\"color: #008080; text-decoration-color: #008080; font-weight: bold\">1327</span> │\n",
       "│ <span style=\"color: #008000; text-decoration-color: #008000\">Rated Blitz game </span> │ <span style=\"color: #008000; text-decoration-color: #008000\">1-0   </span> │ <span style=\"color: #008000; text-decoration-color: #008000\">1552     </span> │ <span style=\"color: #008000; text-decoration-color: #008000\">1650     </span> │ <span style=\"color: #008000; text-decoration-color: #008000\">180+2       </span> │ <span style=\"color: #008000; text-decoration-color: #008000\">Normal      </span> │ <span style=\"color: #7f7f7f; text-decoration-color: #7f7f7f\">NULL</span>        │ <span style=\"color: #7f7f7f; text-decoration-color: #7f7f7f\">NULL</span>        │         <span style=\"color: #008080; text-decoration-color: #008080; font-weight: bold\">1552</span> │\n",
       "│ <span style=\"color: #008000; text-decoration-color: #008000\">Rated Blitz game </span> │ <span style=\"color: #008000; text-decoration-color: #008000\">0-1   </span> │ <span style=\"color: #008000; text-decoration-color: #008000\">2158     </span> │ <span style=\"color: #008000; text-decoration-color: #008000\">2042     </span> │ <span style=\"color: #008000; text-decoration-color: #008000\">180+2       </span> │ <span style=\"color: #008000; text-decoration-color: #008000\">Time forfeit</span> │ <span style=\"color: #7f7f7f; text-decoration-color: #7f7f7f\">NULL</span>        │ <span style=\"color: #008000; text-decoration-color: #008000\">WFM        </span> │         <span style=\"color: #008080; text-decoration-color: #008080; font-weight: bold\">2158</span> │\n",
       "│ <span style=\"color: #008000; text-decoration-color: #008000\">Rated Bullet game</span> │ <span style=\"color: #008000; text-decoration-color: #008000\">0-1   </span> │ <span style=\"color: #008000; text-decoration-color: #008000\">1176     </span> │ <span style=\"color: #008000; text-decoration-color: #008000\">1179     </span> │ <span style=\"color: #008000; text-decoration-color: #008000\">60+0        </span> │ <span style=\"color: #008000; text-decoration-color: #008000\">Normal      </span> │ <span style=\"color: #7f7f7f; text-decoration-color: #7f7f7f\">NULL</span>        │ <span style=\"color: #7f7f7f; text-decoration-color: #7f7f7f\">NULL</span>        │         <span style=\"color: #008080; text-decoration-color: #008080; font-weight: bold\">1176</span> │\n",
       "│ <span style=\"color: #008000; text-decoration-color: #008000\">Rated Blitz game </span> │ <span style=\"color: #008000; text-decoration-color: #008000\">0-1   </span> │ <span style=\"color: #008000; text-decoration-color: #008000\">2154     </span> │ <span style=\"color: #008000; text-decoration-color: #008000\">2166     </span> │ <span style=\"color: #008000; text-decoration-color: #008000\">180+0       </span> │ <span style=\"color: #008000; text-decoration-color: #008000\">Time forfeit</span> │ <span style=\"color: #7f7f7f; text-decoration-color: #7f7f7f\">NULL</span>        │ <span style=\"color: #7f7f7f; text-decoration-color: #7f7f7f\">NULL</span>        │         <span style=\"color: #008080; text-decoration-color: #008080; font-weight: bold\">2154</span> │\n",
       "│ <span style=\"color: #7f7f7f; text-decoration-color: #7f7f7f\">…</span>                 │ <span style=\"color: #7f7f7f; text-decoration-color: #7f7f7f\">…</span>      │ <span style=\"color: #7f7f7f; text-decoration-color: #7f7f7f\">…</span>         │ <span style=\"color: #7f7f7f; text-decoration-color: #7f7f7f\">…</span>         │ <span style=\"color: #7f7f7f; text-decoration-color: #7f7f7f\">…</span>            │ <span style=\"color: #7f7f7f; text-decoration-color: #7f7f7f\">…</span>            │ <span style=\"color: #7f7f7f; text-decoration-color: #7f7f7f\">…</span>           │ <span style=\"color: #7f7f7f; text-decoration-color: #7f7f7f\">…</span>           │            <span style=\"color: #7f7f7f; text-decoration-color: #7f7f7f\">…</span> │\n",
       "└───────────────────┴────────┴───────────┴───────────┴──────────────┴──────────────┴─────────────┴─────────────┴──────────────┘\n",
       "</pre>\n"
      ],
      "text/plain": [
       "┏━━━━━━━━━━━━━━━━━━━┳━━━━━━━━┳━━━━━━━━━━━┳━━━━━━━━━━━┳━━━━━━━━━━━━━━┳━━━━━━━━━━━━━━┳━━━━━━━━━━━━━┳━━━━━━━━━━━━━┳━━━━━━━━━━━━━━┓\n",
       "┃\u001b[1m \u001b[0m\u001b[1mevent\u001b[0m\u001b[1m            \u001b[0m\u001b[1m \u001b[0m┃\u001b[1m \u001b[0m\u001b[1mresult\u001b[0m\u001b[1m \u001b[0m┃\u001b[1m \u001b[0m\u001b[1mwhite_elo\u001b[0m\u001b[1m \u001b[0m┃\u001b[1m \u001b[0m\u001b[1mblack_elo\u001b[0m\u001b[1m \u001b[0m┃\u001b[1m \u001b[0m\u001b[1mtime_control\u001b[0m\u001b[1m \u001b[0m┃\u001b[1m \u001b[0m\u001b[1mtermination\u001b[0m\u001b[1m \u001b[0m\u001b[1m \u001b[0m┃\u001b[1m \u001b[0m\u001b[1mwhite_title\u001b[0m\u001b[1m \u001b[0m┃\u001b[1m \u001b[0m\u001b[1mblack_title\u001b[0m\u001b[1m \u001b[0m┃\u001b[1m \u001b[0m\u001b[1mwhite_rating\u001b[0m\u001b[1m \u001b[0m┃\n",
       "┡━━━━━━━━━━━━━━━━━━━╇━━━━━━━━╇━━━━━━━━━━━╇━━━━━━━━━━━╇━━━━━━━━━━━━━━╇━━━━━━━━━━━━━━╇━━━━━━━━━━━━━╇━━━━━━━━━━━━━╇━━━━━━━━━━━━━━┩\n",
       "│ \u001b[2mstring\u001b[0m            │ \u001b[2mstring\u001b[0m │ \u001b[2mstring\u001b[0m    │ \u001b[2mstring\u001b[0m    │ \u001b[2mstring\u001b[0m       │ \u001b[2mstring\u001b[0m       │ \u001b[2mstring\u001b[0m      │ \u001b[2mstring\u001b[0m      │ \u001b[2mint64\u001b[0m        │\n",
       "├───────────────────┼────────┼───────────┼───────────┼──────────────┼──────────────┼─────────────┼─────────────┼──────────────┤\n",
       "│ \u001b[32mRated Blitz game \u001b[0m │ \u001b[32m1-0   \u001b[0m │ \u001b[32m2063     \u001b[0m │ \u001b[32m2072     \u001b[0m │ \u001b[32m180+0       \u001b[0m │ \u001b[32mNormal      \u001b[0m │ \u001b[2mNULL\u001b[0m        │ \u001b[2mNULL\u001b[0m        │         \u001b[1;36m2063\u001b[0m │\n",
       "│ \u001b[32mRated Blitz game \u001b[0m │ \u001b[32m1-0   \u001b[0m │ \u001b[32m1338     \u001b[0m │ \u001b[32m1325     \u001b[0m │ \u001b[32m180+0       \u001b[0m │ \u001b[32mNormal      \u001b[0m │ \u001b[2mNULL\u001b[0m        │ \u001b[2mNULL\u001b[0m        │         \u001b[1;36m1338\u001b[0m │\n",
       "│ \u001b[32mRated Blitz game \u001b[0m │ \u001b[32m1-0   \u001b[0m │ \u001b[32m1290     \u001b[0m │ \u001b[32m1248     \u001b[0m │ \u001b[32m180+0       \u001b[0m │ \u001b[32mNormal      \u001b[0m │ \u001b[2mNULL\u001b[0m        │ \u001b[2mNULL\u001b[0m        │         \u001b[1;36m1290\u001b[0m │\n",
       "│ \u001b[32mRated Blitz game \u001b[0m │ \u001b[32m0-1   \u001b[0m │ \u001b[32m2220     \u001b[0m │ \u001b[32m2236     \u001b[0m │ \u001b[32m180+0       \u001b[0m │ \u001b[32mNormal      \u001b[0m │ \u001b[2mNULL\u001b[0m        │ \u001b[2mNULL\u001b[0m        │         \u001b[1;36m2220\u001b[0m │\n",
       "│ \u001b[32mRated Bullet game\u001b[0m │ \u001b[32m1-0   \u001b[0m │ \u001b[32m1526     \u001b[0m │ \u001b[32m1516     \u001b[0m │ \u001b[32m120+1       \u001b[0m │ \u001b[32mNormal      \u001b[0m │ \u001b[2mNULL\u001b[0m        │ \u001b[2mNULL\u001b[0m        │         \u001b[1;36m1526\u001b[0m │\n",
       "│ \u001b[32mRated Rapid game \u001b[0m │ \u001b[32m0-1   \u001b[0m │ \u001b[32m1327     \u001b[0m │ \u001b[32m1723     \u001b[0m │ \u001b[32m600+1       \u001b[0m │ \u001b[32mNormal      \u001b[0m │ \u001b[2mNULL\u001b[0m        │ \u001b[2mNULL\u001b[0m        │         \u001b[1;36m1327\u001b[0m │\n",
       "│ \u001b[32mRated Blitz game \u001b[0m │ \u001b[32m1-0   \u001b[0m │ \u001b[32m1552     \u001b[0m │ \u001b[32m1650     \u001b[0m │ \u001b[32m180+2       \u001b[0m │ \u001b[32mNormal      \u001b[0m │ \u001b[2mNULL\u001b[0m        │ \u001b[2mNULL\u001b[0m        │         \u001b[1;36m1552\u001b[0m │\n",
       "│ \u001b[32mRated Blitz game \u001b[0m │ \u001b[32m0-1   \u001b[0m │ \u001b[32m2158     \u001b[0m │ \u001b[32m2042     \u001b[0m │ \u001b[32m180+2       \u001b[0m │ \u001b[32mTime forfeit\u001b[0m │ \u001b[2mNULL\u001b[0m        │ \u001b[32mWFM        \u001b[0m │         \u001b[1;36m2158\u001b[0m │\n",
       "│ \u001b[32mRated Bullet game\u001b[0m │ \u001b[32m0-1   \u001b[0m │ \u001b[32m1176     \u001b[0m │ \u001b[32m1179     \u001b[0m │ \u001b[32m60+0        \u001b[0m │ \u001b[32mNormal      \u001b[0m │ \u001b[2mNULL\u001b[0m        │ \u001b[2mNULL\u001b[0m        │         \u001b[1;36m1176\u001b[0m │\n",
       "│ \u001b[32mRated Blitz game \u001b[0m │ \u001b[32m0-1   \u001b[0m │ \u001b[32m2154     \u001b[0m │ \u001b[32m2166     \u001b[0m │ \u001b[32m180+0       \u001b[0m │ \u001b[32mTime forfeit\u001b[0m │ \u001b[2mNULL\u001b[0m        │ \u001b[2mNULL\u001b[0m        │         \u001b[1;36m2154\u001b[0m │\n",
       "│ \u001b[2m…\u001b[0m                 │ \u001b[2m…\u001b[0m      │ \u001b[2m…\u001b[0m         │ \u001b[2m…\u001b[0m         │ \u001b[2m…\u001b[0m            │ \u001b[2m…\u001b[0m            │ \u001b[2m…\u001b[0m           │ \u001b[2m…\u001b[0m           │            \u001b[2m…\u001b[0m │\n",
       "└───────────────────┴────────┴───────────┴───────────┴──────────────┴──────────────┴─────────────┴─────────────┴──────────────┘"
      ]
     },
     "execution_count": 17,
     "metadata": {},
     "output_type": "execute_result"
    }
   ],
   "source": [
    "games_selected_columns = games_selected_columns.mutate(\n",
    "    white_rating=_.white_elo.try_cast(int)\n",
    ")\n",
    "games_selected_columns"
   ]
  },
  {
   "cell_type": "markdown",
   "metadata": {},
   "source": [
    "And then we don't need the old Elo column."
   ]
  },
  {
   "cell_type": "code",
   "execution_count": 18,
   "metadata": {},
   "outputs": [],
   "source": [
    "games_selected_columns = games_selected_columns.drop(_.white_elo)"
   ]
  },
  {
   "cell_type": "markdown",
   "metadata": {},
   "source": [
    "### Method Chaining\n",
    "We can build up more complicated queries by chaining together Ibis methods. The output of many Ibis methods is a table, just like the original `games` table. So we can continue calling table methods until we're satisfied (or until we end up with something that _isn't_ a table)."
   ]
  },
  {
   "cell_type": "code",
   "execution_count": 19,
   "metadata": {},
   "outputs": [
    {
     "data": {
      "text/html": [
       "<pre style=\"white-space:pre;overflow-x:auto;line-height:normal;font-family:Menlo,'DejaVu Sans Mono',consolas,'Courier New',monospace\">┏━━━━━━━━━━━━━━━━━━━┳━━━━━━━━┳━━━━━━━━━━━━━━┳━━━━━━━━━━━━━━┳━━━━━━━━━━━━━┳━━━━━━━━━━━━━┳━━━━━━━━━━━━━━┳━━━━━━━━━━━━━━┓\n",
       "┃<span style=\"font-weight: bold\"> event             </span>┃<span style=\"font-weight: bold\"> result </span>┃<span style=\"font-weight: bold\"> time_control </span>┃<span style=\"font-weight: bold\"> termination  </span>┃<span style=\"font-weight: bold\"> white_title </span>┃<span style=\"font-weight: bold\"> black_title </span>┃<span style=\"font-weight: bold\"> white_rating </span>┃<span style=\"font-weight: bold\"> black_rating </span>┃\n",
       "┡━━━━━━━━━━━━━━━━━━━╇━━━━━━━━╇━━━━━━━━━━━━━━╇━━━━━━━━━━━━━━╇━━━━━━━━━━━━━╇━━━━━━━━━━━━━╇━━━━━━━━━━━━━━╇━━━━━━━━━━━━━━┩\n",
       "│ <span style=\"color: #7f7f7f; text-decoration-color: #7f7f7f\">string</span>            │ <span style=\"color: #7f7f7f; text-decoration-color: #7f7f7f\">string</span> │ <span style=\"color: #7f7f7f; text-decoration-color: #7f7f7f\">string</span>       │ <span style=\"color: #7f7f7f; text-decoration-color: #7f7f7f\">string</span>       │ <span style=\"color: #7f7f7f; text-decoration-color: #7f7f7f\">string</span>      │ <span style=\"color: #7f7f7f; text-decoration-color: #7f7f7f\">string</span>      │ <span style=\"color: #7f7f7f; text-decoration-color: #7f7f7f\">int64</span>        │ <span style=\"color: #7f7f7f; text-decoration-color: #7f7f7f\">int64</span>        │\n",
       "├───────────────────┼────────┼──────────────┼──────────────┼─────────────┼─────────────┼──────────────┼──────────────┤\n",
       "│ <span style=\"color: #008000; text-decoration-color: #008000\">Rated Blitz game </span> │ <span style=\"color: #008000; text-decoration-color: #008000\">1-0   </span> │ <span style=\"color: #008000; text-decoration-color: #008000\">180+0       </span> │ <span style=\"color: #008000; text-decoration-color: #008000\">Normal      </span> │ <span style=\"color: #7f7f7f; text-decoration-color: #7f7f7f\">NULL</span>        │ <span style=\"color: #7f7f7f; text-decoration-color: #7f7f7f\">NULL</span>        │         <span style=\"color: #008080; text-decoration-color: #008080; font-weight: bold\">2063</span> │         <span style=\"color: #008080; text-decoration-color: #008080; font-weight: bold\">2072</span> │\n",
       "│ <span style=\"color: #008000; text-decoration-color: #008000\">Rated Blitz game </span> │ <span style=\"color: #008000; text-decoration-color: #008000\">1-0   </span> │ <span style=\"color: #008000; text-decoration-color: #008000\">180+0       </span> │ <span style=\"color: #008000; text-decoration-color: #008000\">Normal      </span> │ <span style=\"color: #7f7f7f; text-decoration-color: #7f7f7f\">NULL</span>        │ <span style=\"color: #7f7f7f; text-decoration-color: #7f7f7f\">NULL</span>        │         <span style=\"color: #008080; text-decoration-color: #008080; font-weight: bold\">1338</span> │         <span style=\"color: #008080; text-decoration-color: #008080; font-weight: bold\">1325</span> │\n",
       "│ <span style=\"color: #008000; text-decoration-color: #008000\">Rated Blitz game </span> │ <span style=\"color: #008000; text-decoration-color: #008000\">1-0   </span> │ <span style=\"color: #008000; text-decoration-color: #008000\">180+0       </span> │ <span style=\"color: #008000; text-decoration-color: #008000\">Normal      </span> │ <span style=\"color: #7f7f7f; text-decoration-color: #7f7f7f\">NULL</span>        │ <span style=\"color: #7f7f7f; text-decoration-color: #7f7f7f\">NULL</span>        │         <span style=\"color: #008080; text-decoration-color: #008080; font-weight: bold\">1290</span> │         <span style=\"color: #008080; text-decoration-color: #008080; font-weight: bold\">1248</span> │\n",
       "│ <span style=\"color: #008000; text-decoration-color: #008000\">Rated Blitz game </span> │ <span style=\"color: #008000; text-decoration-color: #008000\">0-1   </span> │ <span style=\"color: #008000; text-decoration-color: #008000\">180+0       </span> │ <span style=\"color: #008000; text-decoration-color: #008000\">Normal      </span> │ <span style=\"color: #7f7f7f; text-decoration-color: #7f7f7f\">NULL</span>        │ <span style=\"color: #7f7f7f; text-decoration-color: #7f7f7f\">NULL</span>        │         <span style=\"color: #008080; text-decoration-color: #008080; font-weight: bold\">2220</span> │         <span style=\"color: #008080; text-decoration-color: #008080; font-weight: bold\">2236</span> │\n",
       "│ <span style=\"color: #008000; text-decoration-color: #008000\">Rated Bullet game</span> │ <span style=\"color: #008000; text-decoration-color: #008000\">1-0   </span> │ <span style=\"color: #008000; text-decoration-color: #008000\">120+1       </span> │ <span style=\"color: #008000; text-decoration-color: #008000\">Normal      </span> │ <span style=\"color: #7f7f7f; text-decoration-color: #7f7f7f\">NULL</span>        │ <span style=\"color: #7f7f7f; text-decoration-color: #7f7f7f\">NULL</span>        │         <span style=\"color: #008080; text-decoration-color: #008080; font-weight: bold\">1526</span> │         <span style=\"color: #008080; text-decoration-color: #008080; font-weight: bold\">1516</span> │\n",
       "│ <span style=\"color: #008000; text-decoration-color: #008000\">Rated Rapid game </span> │ <span style=\"color: #008000; text-decoration-color: #008000\">0-1   </span> │ <span style=\"color: #008000; text-decoration-color: #008000\">600+1       </span> │ <span style=\"color: #008000; text-decoration-color: #008000\">Normal      </span> │ <span style=\"color: #7f7f7f; text-decoration-color: #7f7f7f\">NULL</span>        │ <span style=\"color: #7f7f7f; text-decoration-color: #7f7f7f\">NULL</span>        │         <span style=\"color: #008080; text-decoration-color: #008080; font-weight: bold\">1327</span> │         <span style=\"color: #008080; text-decoration-color: #008080; font-weight: bold\">1723</span> │\n",
       "│ <span style=\"color: #008000; text-decoration-color: #008000\">Rated Blitz game </span> │ <span style=\"color: #008000; text-decoration-color: #008000\">1-0   </span> │ <span style=\"color: #008000; text-decoration-color: #008000\">180+2       </span> │ <span style=\"color: #008000; text-decoration-color: #008000\">Normal      </span> │ <span style=\"color: #7f7f7f; text-decoration-color: #7f7f7f\">NULL</span>        │ <span style=\"color: #7f7f7f; text-decoration-color: #7f7f7f\">NULL</span>        │         <span style=\"color: #008080; text-decoration-color: #008080; font-weight: bold\">1552</span> │         <span style=\"color: #008080; text-decoration-color: #008080; font-weight: bold\">1650</span> │\n",
       "│ <span style=\"color: #008000; text-decoration-color: #008000\">Rated Blitz game </span> │ <span style=\"color: #008000; text-decoration-color: #008000\">0-1   </span> │ <span style=\"color: #008000; text-decoration-color: #008000\">180+2       </span> │ <span style=\"color: #008000; text-decoration-color: #008000\">Time forfeit</span> │ <span style=\"color: #7f7f7f; text-decoration-color: #7f7f7f\">NULL</span>        │ <span style=\"color: #008000; text-decoration-color: #008000\">WFM        </span> │         <span style=\"color: #008080; text-decoration-color: #008080; font-weight: bold\">2158</span> │         <span style=\"color: #008080; text-decoration-color: #008080; font-weight: bold\">2042</span> │\n",
       "│ <span style=\"color: #008000; text-decoration-color: #008000\">Rated Bullet game</span> │ <span style=\"color: #008000; text-decoration-color: #008000\">0-1   </span> │ <span style=\"color: #008000; text-decoration-color: #008000\">60+0        </span> │ <span style=\"color: #008000; text-decoration-color: #008000\">Normal      </span> │ <span style=\"color: #7f7f7f; text-decoration-color: #7f7f7f\">NULL</span>        │ <span style=\"color: #7f7f7f; text-decoration-color: #7f7f7f\">NULL</span>        │         <span style=\"color: #008080; text-decoration-color: #008080; font-weight: bold\">1176</span> │         <span style=\"color: #008080; text-decoration-color: #008080; font-weight: bold\">1179</span> │\n",
       "│ <span style=\"color: #008000; text-decoration-color: #008000\">Rated Blitz game </span> │ <span style=\"color: #008000; text-decoration-color: #008000\">0-1   </span> │ <span style=\"color: #008000; text-decoration-color: #008000\">180+0       </span> │ <span style=\"color: #008000; text-decoration-color: #008000\">Time forfeit</span> │ <span style=\"color: #7f7f7f; text-decoration-color: #7f7f7f\">NULL</span>        │ <span style=\"color: #7f7f7f; text-decoration-color: #7f7f7f\">NULL</span>        │         <span style=\"color: #008080; text-decoration-color: #008080; font-weight: bold\">2154</span> │         <span style=\"color: #008080; text-decoration-color: #008080; font-weight: bold\">2166</span> │\n",
       "│ <span style=\"color: #7f7f7f; text-decoration-color: #7f7f7f\">…</span>                 │ <span style=\"color: #7f7f7f; text-decoration-color: #7f7f7f\">…</span>      │ <span style=\"color: #7f7f7f; text-decoration-color: #7f7f7f\">…</span>            │ <span style=\"color: #7f7f7f; text-decoration-color: #7f7f7f\">…</span>            │ <span style=\"color: #7f7f7f; text-decoration-color: #7f7f7f\">…</span>           │ <span style=\"color: #7f7f7f; text-decoration-color: #7f7f7f\">…</span>           │            <span style=\"color: #7f7f7f; text-decoration-color: #7f7f7f\">…</span> │            <span style=\"color: #7f7f7f; text-decoration-color: #7f7f7f\">…</span> │\n",
       "└───────────────────┴────────┴──────────────┴──────────────┴─────────────┴─────────────┴──────────────┴──────────────┘\n",
       "</pre>\n"
      ],
      "text/plain": [
       "┏━━━━━━━━━━━━━━━━━━━┳━━━━━━━━┳━━━━━━━━━━━━━━┳━━━━━━━━━━━━━━┳━━━━━━━━━━━━━┳━━━━━━━━━━━━━┳━━━━━━━━━━━━━━┳━━━━━━━━━━━━━━┓\n",
       "┃\u001b[1m \u001b[0m\u001b[1mevent\u001b[0m\u001b[1m            \u001b[0m\u001b[1m \u001b[0m┃\u001b[1m \u001b[0m\u001b[1mresult\u001b[0m\u001b[1m \u001b[0m┃\u001b[1m \u001b[0m\u001b[1mtime_control\u001b[0m\u001b[1m \u001b[0m┃\u001b[1m \u001b[0m\u001b[1mtermination\u001b[0m\u001b[1m \u001b[0m\u001b[1m \u001b[0m┃\u001b[1m \u001b[0m\u001b[1mwhite_title\u001b[0m\u001b[1m \u001b[0m┃\u001b[1m \u001b[0m\u001b[1mblack_title\u001b[0m\u001b[1m \u001b[0m┃\u001b[1m \u001b[0m\u001b[1mwhite_rating\u001b[0m\u001b[1m \u001b[0m┃\u001b[1m \u001b[0m\u001b[1mblack_rating\u001b[0m\u001b[1m \u001b[0m┃\n",
       "┡━━━━━━━━━━━━━━━━━━━╇━━━━━━━━╇━━━━━━━━━━━━━━╇━━━━━━━━━━━━━━╇━━━━━━━━━━━━━╇━━━━━━━━━━━━━╇━━━━━━━━━━━━━━╇━━━━━━━━━━━━━━┩\n",
       "│ \u001b[2mstring\u001b[0m            │ \u001b[2mstring\u001b[0m │ \u001b[2mstring\u001b[0m       │ \u001b[2mstring\u001b[0m       │ \u001b[2mstring\u001b[0m      │ \u001b[2mstring\u001b[0m      │ \u001b[2mint64\u001b[0m        │ \u001b[2mint64\u001b[0m        │\n",
       "├───────────────────┼────────┼──────────────┼──────────────┼─────────────┼─────────────┼──────────────┼──────────────┤\n",
       "│ \u001b[32mRated Blitz game \u001b[0m │ \u001b[32m1-0   \u001b[0m │ \u001b[32m180+0       \u001b[0m │ \u001b[32mNormal      \u001b[0m │ \u001b[2mNULL\u001b[0m        │ \u001b[2mNULL\u001b[0m        │         \u001b[1;36m2063\u001b[0m │         \u001b[1;36m2072\u001b[0m │\n",
       "│ \u001b[32mRated Blitz game \u001b[0m │ \u001b[32m1-0   \u001b[0m │ \u001b[32m180+0       \u001b[0m │ \u001b[32mNormal      \u001b[0m │ \u001b[2mNULL\u001b[0m        │ \u001b[2mNULL\u001b[0m        │         \u001b[1;36m1338\u001b[0m │         \u001b[1;36m1325\u001b[0m │\n",
       "│ \u001b[32mRated Blitz game \u001b[0m │ \u001b[32m1-0   \u001b[0m │ \u001b[32m180+0       \u001b[0m │ \u001b[32mNormal      \u001b[0m │ \u001b[2mNULL\u001b[0m        │ \u001b[2mNULL\u001b[0m        │         \u001b[1;36m1290\u001b[0m │         \u001b[1;36m1248\u001b[0m │\n",
       "│ \u001b[32mRated Blitz game \u001b[0m │ \u001b[32m0-1   \u001b[0m │ \u001b[32m180+0       \u001b[0m │ \u001b[32mNormal      \u001b[0m │ \u001b[2mNULL\u001b[0m        │ \u001b[2mNULL\u001b[0m        │         \u001b[1;36m2220\u001b[0m │         \u001b[1;36m2236\u001b[0m │\n",
       "│ \u001b[32mRated Bullet game\u001b[0m │ \u001b[32m1-0   \u001b[0m │ \u001b[32m120+1       \u001b[0m │ \u001b[32mNormal      \u001b[0m │ \u001b[2mNULL\u001b[0m        │ \u001b[2mNULL\u001b[0m        │         \u001b[1;36m1526\u001b[0m │         \u001b[1;36m1516\u001b[0m │\n",
       "│ \u001b[32mRated Rapid game \u001b[0m │ \u001b[32m0-1   \u001b[0m │ \u001b[32m600+1       \u001b[0m │ \u001b[32mNormal      \u001b[0m │ \u001b[2mNULL\u001b[0m        │ \u001b[2mNULL\u001b[0m        │         \u001b[1;36m1327\u001b[0m │         \u001b[1;36m1723\u001b[0m │\n",
       "│ \u001b[32mRated Blitz game \u001b[0m │ \u001b[32m1-0   \u001b[0m │ \u001b[32m180+2       \u001b[0m │ \u001b[32mNormal      \u001b[0m │ \u001b[2mNULL\u001b[0m        │ \u001b[2mNULL\u001b[0m        │         \u001b[1;36m1552\u001b[0m │         \u001b[1;36m1650\u001b[0m │\n",
       "│ \u001b[32mRated Blitz game \u001b[0m │ \u001b[32m0-1   \u001b[0m │ \u001b[32m180+2       \u001b[0m │ \u001b[32mTime forfeit\u001b[0m │ \u001b[2mNULL\u001b[0m        │ \u001b[32mWFM        \u001b[0m │         \u001b[1;36m2158\u001b[0m │         \u001b[1;36m2042\u001b[0m │\n",
       "│ \u001b[32mRated Bullet game\u001b[0m │ \u001b[32m0-1   \u001b[0m │ \u001b[32m60+0        \u001b[0m │ \u001b[32mNormal      \u001b[0m │ \u001b[2mNULL\u001b[0m        │ \u001b[2mNULL\u001b[0m        │         \u001b[1;36m1176\u001b[0m │         \u001b[1;36m1179\u001b[0m │\n",
       "│ \u001b[32mRated Blitz game \u001b[0m │ \u001b[32m0-1   \u001b[0m │ \u001b[32m180+0       \u001b[0m │ \u001b[32mTime forfeit\u001b[0m │ \u001b[2mNULL\u001b[0m        │ \u001b[2mNULL\u001b[0m        │         \u001b[1;36m2154\u001b[0m │         \u001b[1;36m2166\u001b[0m │\n",
       "│ \u001b[2m…\u001b[0m                 │ \u001b[2m…\u001b[0m      │ \u001b[2m…\u001b[0m            │ \u001b[2m…\u001b[0m            │ \u001b[2m…\u001b[0m           │ \u001b[2m…\u001b[0m           │            \u001b[2m…\u001b[0m │            \u001b[2m…\u001b[0m │\n",
       "└───────────────────┴────────┴──────────────┴──────────────┴─────────────┴─────────────┴──────────────┴──────────────┘"
      ]
     },
     "execution_count": 19,
     "metadata": {},
     "output_type": "execute_result"
    }
   ],
   "source": [
    "games_selected_columns = games_selected_columns.mutate(\n",
    "    black_rating=_.black_elo.try_cast(int)\n",
    ").drop(\"black_elo\")\n",
    "games_selected_columns"
   ]
  },
  {
   "cell_type": "markdown",
   "metadata": {},
   "source": [
    "## Filter\n",
    "Back to verbs. `select` selected columns, `drop` dropped columns, and now `filter` filters rows based on some condition.\n",
    "\n",
    "Suppose we're interested only in games where white is a pretty strong player."
   ]
  },
  {
   "cell_type": "code",
   "execution_count": 20,
   "metadata": {},
   "outputs": [
    {
     "data": {
      "text/html": [
       "<pre style=\"white-space:pre;overflow-x:auto;line-height:normal;font-family:Menlo,'DejaVu Sans Mono',consolas,'Courier New',monospace\">┏━━━━━━━━━━━━━━━━━━━━━━━━━━━━━━━━━━━━━━━━━━━━━━━━━━━━━━━━━━━━━━━━┳━━━━━━━━━┳━━━━━━━━━━━━━━┳━━━━━━━━━━━━━━┳━━━━━━━━━━━━━┳━━━━━━━━━━━━━┳━━━━━━━━━━━━━━┳━━━━━━━━━━━━━━┓\n",
       "┃<span style=\"font-weight: bold\"> event                                                          </span>┃<span style=\"font-weight: bold\"> result  </span>┃<span style=\"font-weight: bold\"> time_control </span>┃<span style=\"font-weight: bold\"> termination  </span>┃<span style=\"font-weight: bold\"> white_title </span>┃<span style=\"font-weight: bold\"> black_title </span>┃<span style=\"font-weight: bold\"> white_rating </span>┃<span style=\"font-weight: bold\"> black_rating </span>┃\n",
       "┡━━━━━━━━━━━━━━━━━━━━━━━━━━━━━━━━━━━━━━━━━━━━━━━━━━━━━━━━━━━━━━━━╇━━━━━━━━━╇━━━━━━━━━━━━━━╇━━━━━━━━━━━━━━╇━━━━━━━━━━━━━╇━━━━━━━━━━━━━╇━━━━━━━━━━━━━━╇━━━━━━━━━━━━━━┩\n",
       "│ <span style=\"color: #7f7f7f; text-decoration-color: #7f7f7f\">string</span>                                                         │ <span style=\"color: #7f7f7f; text-decoration-color: #7f7f7f\">string</span>  │ <span style=\"color: #7f7f7f; text-decoration-color: #7f7f7f\">string</span>       │ <span style=\"color: #7f7f7f; text-decoration-color: #7f7f7f\">string</span>       │ <span style=\"color: #7f7f7f; text-decoration-color: #7f7f7f\">string</span>      │ <span style=\"color: #7f7f7f; text-decoration-color: #7f7f7f\">string</span>      │ <span style=\"color: #7f7f7f; text-decoration-color: #7f7f7f\">int64</span>        │ <span style=\"color: #7f7f7f; text-decoration-color: #7f7f7f\">int64</span>        │\n",
       "├────────────────────────────────────────────────────────────────┼─────────┼──────────────┼──────────────┼─────────────┼─────────────┼──────────────┼──────────────┤\n",
       "│ <span style=\"color: #008000; text-decoration-color: #008000\">Rated Blitz game                                              </span> │ <span style=\"color: #008000; text-decoration-color: #008000\">0-1    </span> │ <span style=\"color: #008000; text-decoration-color: #008000\">180+0       </span> │ <span style=\"color: #008000; text-decoration-color: #008000\">Normal      </span> │ <span style=\"color: #7f7f7f; text-decoration-color: #7f7f7f\">NULL</span>        │ <span style=\"color: #7f7f7f; text-decoration-color: #7f7f7f\">NULL</span>        │         <span style=\"color: #008080; text-decoration-color: #008080; font-weight: bold\">2220</span> │         <span style=\"color: #008080; text-decoration-color: #008080; font-weight: bold\">2236</span> │\n",
       "│ <span style=\"color: #008000; text-decoration-color: #008000\">Rated Blitz game                                              </span> │ <span style=\"color: #008000; text-decoration-color: #008000\">0-1    </span> │ <span style=\"color: #008000; text-decoration-color: #008000\">180+0       </span> │ <span style=\"color: #008000; text-decoration-color: #008000\">Normal      </span> │ <span style=\"color: #7f7f7f; text-decoration-color: #7f7f7f\">NULL</span>        │ <span style=\"color: #7f7f7f; text-decoration-color: #7f7f7f\">NULL</span>        │         <span style=\"color: #008080; text-decoration-color: #008080; font-weight: bold\">2499</span> │         <span style=\"color: #008080; text-decoration-color: #008080; font-weight: bold\">2659</span> │\n",
       "│ <span style=\"color: #008000; text-decoration-color: #008000\">Rated Blitz game                                              </span> │ <span style=\"color: #008000; text-decoration-color: #008000\">1-0    </span> │ <span style=\"color: #008000; text-decoration-color: #008000\">180+0       </span> │ <span style=\"color: #008000; text-decoration-color: #008000\">Normal      </span> │ <span style=\"color: #7f7f7f; text-decoration-color: #7f7f7f\">NULL</span>        │ <span style=\"color: #7f7f7f; text-decoration-color: #7f7f7f\">NULL</span>        │         <span style=\"color: #008080; text-decoration-color: #008080; font-weight: bold\">2526</span> │         <span style=\"color: #008080; text-decoration-color: #008080; font-weight: bold\">2351</span> │\n",
       "│ <span style=\"color: #008000; text-decoration-color: #008000\">Rated Blitz game                                              </span> │ <span style=\"color: #008000; text-decoration-color: #008000\">0-1    </span> │ <span style=\"color: #008000; text-decoration-color: #008000\">180+0       </span> │ <span style=\"color: #008000; text-decoration-color: #008000\">Normal      </span> │ <span style=\"color: #7f7f7f; text-decoration-color: #7f7f7f\">NULL</span>        │ <span style=\"color: #008000; text-decoration-color: #008000\">WFM        </span> │         <span style=\"color: #008080; text-decoration-color: #008080; font-weight: bold\">2302</span> │         <span style=\"color: #008080; text-decoration-color: #008080; font-weight: bold\">2259</span> │\n",
       "│ <span style=\"color: #008000; text-decoration-color: #008000\">Rated Blitz game                                              </span> │ <span style=\"color: #008000; text-decoration-color: #008000\">1/2-1/2</span> │ <span style=\"color: #008000; text-decoration-color: #008000\">180+2       </span> │ <span style=\"color: #008000; text-decoration-color: #008000\">Normal      </span> │ <span style=\"color: #7f7f7f; text-decoration-color: #7f7f7f\">NULL</span>        │ <span style=\"color: #7f7f7f; text-decoration-color: #7f7f7f\">NULL</span>        │         <span style=\"color: #008080; text-decoration-color: #008080; font-weight: bold\">2318</span> │         <span style=\"color: #008080; text-decoration-color: #008080; font-weight: bold\">2317</span> │\n",
       "│ <span style=\"color: #008000; text-decoration-color: #008000\">Rated Bullet game                                             </span> │ <span style=\"color: #008000; text-decoration-color: #008000\">1-0    </span> │ <span style=\"color: #008000; text-decoration-color: #008000\">60+0        </span> │ <span style=\"color: #008000; text-decoration-color: #008000\">Normal      </span> │ <span style=\"color: #7f7f7f; text-decoration-color: #7f7f7f\">NULL</span>        │ <span style=\"color: #7f7f7f; text-decoration-color: #7f7f7f\">NULL</span>        │         <span style=\"color: #008080; text-decoration-color: #008080; font-weight: bold\">2211</span> │         <span style=\"color: #008080; text-decoration-color: #008080; font-weight: bold\">2121</span> │\n",
       "│ <span style=\"color: #008000; text-decoration-color: #008000\">Rated Blitz game                                              </span> │ <span style=\"color: #008000; text-decoration-color: #008000\">0-1    </span> │ <span style=\"color: #008000; text-decoration-color: #008000\">180+0       </span> │ <span style=\"color: #008000; text-decoration-color: #008000\">Normal      </span> │ <span style=\"color: #008000; text-decoration-color: #008000\">CM         </span> │ <span style=\"color: #7f7f7f; text-decoration-color: #7f7f7f\">NULL</span>        │         <span style=\"color: #008080; text-decoration-color: #008080; font-weight: bold\">2320</span> │         <span style=\"color: #008080; text-decoration-color: #008080; font-weight: bold\">2209</span> │\n",
       "│ <span style=\"color: #008000; text-decoration-color: #008000\">Rated Blitz game                                              </span> │ <span style=\"color: #008000; text-decoration-color: #008000\">1-0    </span> │ <span style=\"color: #008000; text-decoration-color: #008000\">180+0       </span> │ <span style=\"color: #008000; text-decoration-color: #008000\">Time forfeit</span> │ <span style=\"color: #008000; text-decoration-color: #008000\">FM         </span> │ <span style=\"color: #7f7f7f; text-decoration-color: #7f7f7f\">NULL</span>        │         <span style=\"color: #008080; text-decoration-color: #008080; font-weight: bold\">2424</span> │         <span style=\"color: #008080; text-decoration-color: #008080; font-weight: bold\">2465</span> │\n",
       "│ <span style=\"color: #008000; text-decoration-color: #008000\">Rated Blitz game                                              </span> │ <span style=\"color: #008000; text-decoration-color: #008000\">1-0    </span> │ <span style=\"color: #008000; text-decoration-color: #008000\">180+2       </span> │ <span style=\"color: #008000; text-decoration-color: #008000\">Time forfeit</span> │ <span style=\"color: #7f7f7f; text-decoration-color: #7f7f7f\">NULL</span>        │ <span style=\"color: #008000; text-decoration-color: #008000\">FM         </span> │         <span style=\"color: #008080; text-decoration-color: #008080; font-weight: bold\">2435</span> │         <span style=\"color: #008080; text-decoration-color: #008080; font-weight: bold\">2486</span> │\n",
       "│ <span style=\"color: #008000; text-decoration-color: #008000\">Rated Rapid tournament https://lichess.org/tournament/wwLvVRtn</span> │ <span style=\"color: #008000; text-decoration-color: #008000\">1-0    </span> │ <span style=\"color: #008000; text-decoration-color: #008000\">600+0       </span> │ <span style=\"color: #008000; text-decoration-color: #008000\">Normal      </span> │ <span style=\"color: #7f7f7f; text-decoration-color: #7f7f7f\">NULL</span>        │ <span style=\"color: #7f7f7f; text-decoration-color: #7f7f7f\">NULL</span>        │         <span style=\"color: #008080; text-decoration-color: #008080; font-weight: bold\">2339</span> │         <span style=\"color: #008080; text-decoration-color: #008080; font-weight: bold\">2270</span> │\n",
       "│ <span style=\"color: #7f7f7f; text-decoration-color: #7f7f7f\">…</span>                                                              │ <span style=\"color: #7f7f7f; text-decoration-color: #7f7f7f\">…</span>       │ <span style=\"color: #7f7f7f; text-decoration-color: #7f7f7f\">…</span>            │ <span style=\"color: #7f7f7f; text-decoration-color: #7f7f7f\">…</span>            │ <span style=\"color: #7f7f7f; text-decoration-color: #7f7f7f\">…</span>           │ <span style=\"color: #7f7f7f; text-decoration-color: #7f7f7f\">…</span>           │            <span style=\"color: #7f7f7f; text-decoration-color: #7f7f7f\">…</span> │            <span style=\"color: #7f7f7f; text-decoration-color: #7f7f7f\">…</span> │\n",
       "└────────────────────────────────────────────────────────────────┴─────────┴──────────────┴──────────────┴─────────────┴─────────────┴──────────────┴──────────────┘\n",
       "</pre>\n"
      ],
      "text/plain": [
       "┏━━━━━━━━━━━━━━━━━━━━━━━━━━━━━━━━━━━━━━━━━━━━━━━━━━━━━━━━━━━━━━━━┳━━━━━━━━━┳━━━━━━━━━━━━━━┳━━━━━━━━━━━━━━┳━━━━━━━━━━━━━┳━━━━━━━━━━━━━┳━━━━━━━━━━━━━━┳━━━━━━━━━━━━━━┓\n",
       "┃\u001b[1m \u001b[0m\u001b[1mevent\u001b[0m\u001b[1m                                                         \u001b[0m\u001b[1m \u001b[0m┃\u001b[1m \u001b[0m\u001b[1mresult\u001b[0m\u001b[1m \u001b[0m\u001b[1m \u001b[0m┃\u001b[1m \u001b[0m\u001b[1mtime_control\u001b[0m\u001b[1m \u001b[0m┃\u001b[1m \u001b[0m\u001b[1mtermination\u001b[0m\u001b[1m \u001b[0m\u001b[1m \u001b[0m┃\u001b[1m \u001b[0m\u001b[1mwhite_title\u001b[0m\u001b[1m \u001b[0m┃\u001b[1m \u001b[0m\u001b[1mblack_title\u001b[0m\u001b[1m \u001b[0m┃\u001b[1m \u001b[0m\u001b[1mwhite_rating\u001b[0m\u001b[1m \u001b[0m┃\u001b[1m \u001b[0m\u001b[1mblack_rating\u001b[0m\u001b[1m \u001b[0m┃\n",
       "┡━━━━━━━━━━━━━━━━━━━━━━━━━━━━━━━━━━━━━━━━━━━━━━━━━━━━━━━━━━━━━━━━╇━━━━━━━━━╇━━━━━━━━━━━━━━╇━━━━━━━━━━━━━━╇━━━━━━━━━━━━━╇━━━━━━━━━━━━━╇━━━━━━━━━━━━━━╇━━━━━━━━━━━━━━┩\n",
       "│ \u001b[2mstring\u001b[0m                                                         │ \u001b[2mstring\u001b[0m  │ \u001b[2mstring\u001b[0m       │ \u001b[2mstring\u001b[0m       │ \u001b[2mstring\u001b[0m      │ \u001b[2mstring\u001b[0m      │ \u001b[2mint64\u001b[0m        │ \u001b[2mint64\u001b[0m        │\n",
       "├────────────────────────────────────────────────────────────────┼─────────┼──────────────┼──────────────┼─────────────┼─────────────┼──────────────┼──────────────┤\n",
       "│ \u001b[32mRated Blitz game                                              \u001b[0m │ \u001b[32m0-1    \u001b[0m │ \u001b[32m180+0       \u001b[0m │ \u001b[32mNormal      \u001b[0m │ \u001b[2mNULL\u001b[0m        │ \u001b[2mNULL\u001b[0m        │         \u001b[1;36m2220\u001b[0m │         \u001b[1;36m2236\u001b[0m │\n",
       "│ \u001b[32mRated Blitz game                                              \u001b[0m │ \u001b[32m0-1    \u001b[0m │ \u001b[32m180+0       \u001b[0m │ \u001b[32mNormal      \u001b[0m │ \u001b[2mNULL\u001b[0m        │ \u001b[2mNULL\u001b[0m        │         \u001b[1;36m2499\u001b[0m │         \u001b[1;36m2659\u001b[0m │\n",
       "│ \u001b[32mRated Blitz game                                              \u001b[0m │ \u001b[32m1-0    \u001b[0m │ \u001b[32m180+0       \u001b[0m │ \u001b[32mNormal      \u001b[0m │ \u001b[2mNULL\u001b[0m        │ \u001b[2mNULL\u001b[0m        │         \u001b[1;36m2526\u001b[0m │         \u001b[1;36m2351\u001b[0m │\n",
       "│ \u001b[32mRated Blitz game                                              \u001b[0m │ \u001b[32m0-1    \u001b[0m │ \u001b[32m180+0       \u001b[0m │ \u001b[32mNormal      \u001b[0m │ \u001b[2mNULL\u001b[0m        │ \u001b[32mWFM        \u001b[0m │         \u001b[1;36m2302\u001b[0m │         \u001b[1;36m2259\u001b[0m │\n",
       "│ \u001b[32mRated Blitz game                                              \u001b[0m │ \u001b[32m1/2-1/2\u001b[0m │ \u001b[32m180+2       \u001b[0m │ \u001b[32mNormal      \u001b[0m │ \u001b[2mNULL\u001b[0m        │ \u001b[2mNULL\u001b[0m        │         \u001b[1;36m2318\u001b[0m │         \u001b[1;36m2317\u001b[0m │\n",
       "│ \u001b[32mRated Bullet game                                             \u001b[0m │ \u001b[32m1-0    \u001b[0m │ \u001b[32m60+0        \u001b[0m │ \u001b[32mNormal      \u001b[0m │ \u001b[2mNULL\u001b[0m        │ \u001b[2mNULL\u001b[0m        │         \u001b[1;36m2211\u001b[0m │         \u001b[1;36m2121\u001b[0m │\n",
       "│ \u001b[32mRated Blitz game                                              \u001b[0m │ \u001b[32m0-1    \u001b[0m │ \u001b[32m180+0       \u001b[0m │ \u001b[32mNormal      \u001b[0m │ \u001b[32mCM         \u001b[0m │ \u001b[2mNULL\u001b[0m        │         \u001b[1;36m2320\u001b[0m │         \u001b[1;36m2209\u001b[0m │\n",
       "│ \u001b[32mRated Blitz game                                              \u001b[0m │ \u001b[32m1-0    \u001b[0m │ \u001b[32m180+0       \u001b[0m │ \u001b[32mTime forfeit\u001b[0m │ \u001b[32mFM         \u001b[0m │ \u001b[2mNULL\u001b[0m        │         \u001b[1;36m2424\u001b[0m │         \u001b[1;36m2465\u001b[0m │\n",
       "│ \u001b[32mRated Blitz game                                              \u001b[0m │ \u001b[32m1-0    \u001b[0m │ \u001b[32m180+2       \u001b[0m │ \u001b[32mTime forfeit\u001b[0m │ \u001b[2mNULL\u001b[0m        │ \u001b[32mFM         \u001b[0m │         \u001b[1;36m2435\u001b[0m │         \u001b[1;36m2486\u001b[0m │\n",
       "│ \u001b[32mRated Rapid tournament https://lichess.org/tournament/wwLvVRtn\u001b[0m │ \u001b[32m1-0    \u001b[0m │ \u001b[32m600+0       \u001b[0m │ \u001b[32mNormal      \u001b[0m │ \u001b[2mNULL\u001b[0m        │ \u001b[2mNULL\u001b[0m        │         \u001b[1;36m2339\u001b[0m │         \u001b[1;36m2270\u001b[0m │\n",
       "│ \u001b[2m…\u001b[0m                                                              │ \u001b[2m…\u001b[0m       │ \u001b[2m…\u001b[0m            │ \u001b[2m…\u001b[0m            │ \u001b[2m…\u001b[0m           │ \u001b[2m…\u001b[0m           │            \u001b[2m…\u001b[0m │            \u001b[2m…\u001b[0m │\n",
       "└────────────────────────────────────────────────────────────────┴─────────┴──────────────┴──────────────┴─────────────┴─────────────┴──────────────┴──────────────┘"
      ]
     },
     "execution_count": 20,
     "metadata": {},
     "output_type": "execute_result"
    }
   ],
   "source": [
    "games_selected_columns.filter(_.white_rating >= 2200)"
   ]
  },
  {
   "cell_type": "markdown",
   "metadata": {},
   "source": [
    "Turns out this condition is true in nearly 10% of these games:"
   ]
  },
  {
   "cell_type": "code",
   "execution_count": 22,
   "metadata": {},
   "outputs": [
    {
     "data": {
      "text/plain": [
       "0.09452831525976327"
      ]
     },
     "execution_count": 22,
     "metadata": {},
     "output_type": "execute_result"
    }
   ],
   "source": [
    "games_selected_columns.filter(\n",
    "    _.white_rating >= 2200\n",
    ").count().to_pandas() / games_selected_columns.count().to_pandas()"
   ]
  },
  {
   "cell_type": "markdown",
   "metadata": {},
   "source": [
    "Conditions can be combined using an element-wise logical operator."
   ]
  },
  {
   "cell_type": "code",
   "execution_count": 23,
   "metadata": {},
   "outputs": [],
   "source": [
    "strong_games = games_selected_columns.filter(\n",
    "    (_.white_rating >= 2200) & (_.black_rating >= 2200)\n",
    ")"
   ]
  },
  {
   "cell_type": "code",
   "execution_count": 24,
   "metadata": {},
   "outputs": [
    {
     "data": {
      "text/plain": [
       "0.07500649703498949"
      ]
     },
     "execution_count": 24,
     "metadata": {},
     "output_type": "execute_result"
    }
   ],
   "source": [
    "strong_games.count().to_pandas() / games_selected_columns.count().to_pandas()"
   ]
  },
  {
   "cell_type": "markdown",
   "metadata": {},
   "source": [
    "Or by listing the component conditions as separate arguments (this is still a logical `and`)."
   ]
  },
  {
   "cell_type": "code",
   "execution_count": 25,
   "metadata": {},
   "outputs": [
    {
     "data": {
      "text/html": [
       "<pre style=\"white-space:pre;overflow-x:auto;line-height:normal;font-family:Menlo,'DejaVu Sans Mono',consolas,'Courier New',monospace\">┏━━━━━━━━━━━━━━━━━━━━━━━━━━━━━━━━━━━━━━━━━━━━━━━━━━━━━━━━━━━━━━━━┳━━━━━━━━┳━━━━━━━━━━━━━━┳━━━━━━━━━━━━━┳━━━━━━━━━━━━━┳━━━━━━━━━━━━━┳━━━━━━━━━━━━━━┳━━━━━━━━━━━━━━┓\n",
       "┃<span style=\"font-weight: bold\"> event                                                          </span>┃<span style=\"font-weight: bold\"> result </span>┃<span style=\"font-weight: bold\"> time_control </span>┃<span style=\"font-weight: bold\"> termination </span>┃<span style=\"font-weight: bold\"> white_title </span>┃<span style=\"font-weight: bold\"> black_title </span>┃<span style=\"font-weight: bold\"> white_rating </span>┃<span style=\"font-weight: bold\"> black_rating </span>┃\n",
       "┡━━━━━━━━━━━━━━━━━━━━━━━━━━━━━━━━━━━━━━━━━━━━━━━━━━━━━━━━━━━━━━━━╇━━━━━━━━╇━━━━━━━━━━━━━━╇━━━━━━━━━━━━━╇━━━━━━━━━━━━━╇━━━━━━━━━━━━━╇━━━━━━━━━━━━━━╇━━━━━━━━━━━━━━┩\n",
       "│ <span style=\"color: #7f7f7f; text-decoration-color: #7f7f7f\">string</span>                                                         │ <span style=\"color: #7f7f7f; text-decoration-color: #7f7f7f\">string</span> │ <span style=\"color: #7f7f7f; text-decoration-color: #7f7f7f\">string</span>       │ <span style=\"color: #7f7f7f; text-decoration-color: #7f7f7f\">string</span>      │ <span style=\"color: #7f7f7f; text-decoration-color: #7f7f7f\">string</span>      │ <span style=\"color: #7f7f7f; text-decoration-color: #7f7f7f\">string</span>      │ <span style=\"color: #7f7f7f; text-decoration-color: #7f7f7f\">int64</span>        │ <span style=\"color: #7f7f7f; text-decoration-color: #7f7f7f\">int64</span>        │\n",
       "├────────────────────────────────────────────────────────────────┼────────┼──────────────┼─────────────┼─────────────┼─────────────┼──────────────┼──────────────┤\n",
       "│ <span style=\"color: #008000; text-decoration-color: #008000\">Rated Blitz game                                              </span> │ <span style=\"color: #008000; text-decoration-color: #008000\">0-1   </span> │ <span style=\"color: #008000; text-decoration-color: #008000\">180+0       </span> │ <span style=\"color: #008000; text-decoration-color: #008000\">Normal     </span> │ <span style=\"color: #7f7f7f; text-decoration-color: #7f7f7f\">NULL</span>        │ <span style=\"color: #7f7f7f; text-decoration-color: #7f7f7f\">NULL</span>        │         <span style=\"color: #008080; text-decoration-color: #008080; font-weight: bold\">2220</span> │         <span style=\"color: #008080; text-decoration-color: #008080; font-weight: bold\">2236</span> │\n",
       "│ <span style=\"color: #008000; text-decoration-color: #008000\">Rated Blitz game                                              </span> │ <span style=\"color: #008000; text-decoration-color: #008000\">0-1   </span> │ <span style=\"color: #008000; text-decoration-color: #008000\">180+0       </span> │ <span style=\"color: #008000; text-decoration-color: #008000\">Normal     </span> │ <span style=\"color: #7f7f7f; text-decoration-color: #7f7f7f\">NULL</span>        │ <span style=\"color: #7f7f7f; text-decoration-color: #7f7f7f\">NULL</span>        │         <span style=\"color: #008080; text-decoration-color: #008080; font-weight: bold\">2499</span> │         <span style=\"color: #008080; text-decoration-color: #008080; font-weight: bold\">2659</span> │\n",
       "│ <span style=\"color: #008000; text-decoration-color: #008000\">Rated Blitz game                                              </span> │ <span style=\"color: #008000; text-decoration-color: #008000\">0-1   </span> │ <span style=\"color: #008000; text-decoration-color: #008000\">180+0       </span> │ <span style=\"color: #008000; text-decoration-color: #008000\">Normal     </span> │ <span style=\"color: #7f7f7f; text-decoration-color: #7f7f7f\">NULL</span>        │ <span style=\"color: #008000; text-decoration-color: #008000\">WFM        </span> │         <span style=\"color: #008080; text-decoration-color: #008080; font-weight: bold\">2302</span> │         <span style=\"color: #008080; text-decoration-color: #008080; font-weight: bold\">2259</span> │\n",
       "│ <span style=\"color: #008000; text-decoration-color: #008000\">Rated Blitz game                                              </span> │ <span style=\"color: #008000; text-decoration-color: #008000\">0-1   </span> │ <span style=\"color: #008000; text-decoration-color: #008000\">180+0       </span> │ <span style=\"color: #008000; text-decoration-color: #008000\">Normal     </span> │ <span style=\"color: #008000; text-decoration-color: #008000\">CM         </span> │ <span style=\"color: #7f7f7f; text-decoration-color: #7f7f7f\">NULL</span>        │         <span style=\"color: #008080; text-decoration-color: #008080; font-weight: bold\">2320</span> │         <span style=\"color: #008080; text-decoration-color: #008080; font-weight: bold\">2209</span> │\n",
       "│ <span style=\"color: #008000; text-decoration-color: #008000\">Rated Rapid game                                              </span> │ <span style=\"color: #008000; text-decoration-color: #008000\">0-1   </span> │ <span style=\"color: #008000; text-decoration-color: #008000\">600+0       </span> │ <span style=\"color: #008000; text-decoration-color: #008000\">Normal     </span> │ <span style=\"color: #008000; text-decoration-color: #008000\">FM         </span> │ <span style=\"color: #7f7f7f; text-decoration-color: #7f7f7f\">NULL</span>        │         <span style=\"color: #008080; text-decoration-color: #008080; font-weight: bold\">2530</span> │         <span style=\"color: #008080; text-decoration-color: #008080; font-weight: bold\">2453</span> │\n",
       "│ <span style=\"color: #008000; text-decoration-color: #008000\">Rated Blitz game                                              </span> │ <span style=\"color: #008000; text-decoration-color: #008000\">0-1   </span> │ <span style=\"color: #008000; text-decoration-color: #008000\">180+2       </span> │ <span style=\"color: #008000; text-decoration-color: #008000\">Normal     </span> │ <span style=\"color: #7f7f7f; text-decoration-color: #7f7f7f\">NULL</span>        │ <span style=\"color: #7f7f7f; text-decoration-color: #7f7f7f\">NULL</span>        │         <span style=\"color: #008080; text-decoration-color: #008080; font-weight: bold\">2300</span> │         <span style=\"color: #008080; text-decoration-color: #008080; font-weight: bold\">2422</span> │\n",
       "│ <span style=\"color: #008000; text-decoration-color: #008000\">Rated Rapid game                                              </span> │ <span style=\"color: #008000; text-decoration-color: #008000\">0-1   </span> │ <span style=\"color: #008000; text-decoration-color: #008000\">600+0       </span> │ <span style=\"color: #008000; text-decoration-color: #008000\">Normal     </span> │ <span style=\"color: #7f7f7f; text-decoration-color: #7f7f7f\">NULL</span>        │ <span style=\"color: #7f7f7f; text-decoration-color: #7f7f7f\">NULL</span>        │         <span style=\"color: #008080; text-decoration-color: #008080; font-weight: bold\">2238</span> │         <span style=\"color: #008080; text-decoration-color: #008080; font-weight: bold\">2172</span> │\n",
       "│ <span style=\"color: #008000; text-decoration-color: #008000\">Rated Blitz tournament https://lichess.org/tournament/vRH6uEjl</span> │ <span style=\"color: #008000; text-decoration-color: #008000\">0-1   </span> │ <span style=\"color: #008000; text-decoration-color: #008000\">180+0       </span> │ <span style=\"color: #008000; text-decoration-color: #008000\">Normal     </span> │ <span style=\"color: #7f7f7f; text-decoration-color: #7f7f7f\">NULL</span>        │ <span style=\"color: #7f7f7f; text-decoration-color: #7f7f7f\">NULL</span>        │         <span style=\"color: #008080; text-decoration-color: #008080; font-weight: bold\">2346</span> │         <span style=\"color: #008080; text-decoration-color: #008080; font-weight: bold\">2087</span> │\n",
       "│ <span style=\"color: #008000; text-decoration-color: #008000\">Rated Rapid game                                              </span> │ <span style=\"color: #008000; text-decoration-color: #008000\">0-1   </span> │ <span style=\"color: #008000; text-decoration-color: #008000\">600+0       </span> │ <span style=\"color: #008000; text-decoration-color: #008000\">Normal     </span> │ <span style=\"color: #7f7f7f; text-decoration-color: #7f7f7f\">NULL</span>        │ <span style=\"color: #7f7f7f; text-decoration-color: #7f7f7f\">NULL</span>        │         <span style=\"color: #008080; text-decoration-color: #008080; font-weight: bold\">2437</span> │         <span style=\"color: #008080; text-decoration-color: #008080; font-weight: bold\">2406</span> │\n",
       "│ <span style=\"color: #008000; text-decoration-color: #008000\">Rated Blitz game                                              </span> │ <span style=\"color: #008000; text-decoration-color: #008000\">0-1   </span> │ <span style=\"color: #008000; text-decoration-color: #008000\">180+0       </span> │ <span style=\"color: #008000; text-decoration-color: #008000\">Normal     </span> │ <span style=\"color: #008000; text-decoration-color: #008000\">NM         </span> │ <span style=\"color: #7f7f7f; text-decoration-color: #7f7f7f\">NULL</span>        │         <span style=\"color: #008080; text-decoration-color: #008080; font-weight: bold\">2477</span> │         <span style=\"color: #008080; text-decoration-color: #008080; font-weight: bold\">2615</span> │\n",
       "│ <span style=\"color: #7f7f7f; text-decoration-color: #7f7f7f\">…</span>                                                              │ <span style=\"color: #7f7f7f; text-decoration-color: #7f7f7f\">…</span>      │ <span style=\"color: #7f7f7f; text-decoration-color: #7f7f7f\">…</span>            │ <span style=\"color: #7f7f7f; text-decoration-color: #7f7f7f\">…</span>           │ <span style=\"color: #7f7f7f; text-decoration-color: #7f7f7f\">…</span>           │ <span style=\"color: #7f7f7f; text-decoration-color: #7f7f7f\">…</span>           │            <span style=\"color: #7f7f7f; text-decoration-color: #7f7f7f\">…</span> │            <span style=\"color: #7f7f7f; text-decoration-color: #7f7f7f\">…</span> │\n",
       "└────────────────────────────────────────────────────────────────┴────────┴──────────────┴─────────────┴─────────────┴─────────────┴──────────────┴──────────────┘\n",
       "</pre>\n"
      ],
      "text/plain": [
       "┏━━━━━━━━━━━━━━━━━━━━━━━━━━━━━━━━━━━━━━━━━━━━━━━━━━━━━━━━━━━━━━━━┳━━━━━━━━┳━━━━━━━━━━━━━━┳━━━━━━━━━━━━━┳━━━━━━━━━━━━━┳━━━━━━━━━━━━━┳━━━━━━━━━━━━━━┳━━━━━━━━━━━━━━┓\n",
       "┃\u001b[1m \u001b[0m\u001b[1mevent\u001b[0m\u001b[1m                                                         \u001b[0m\u001b[1m \u001b[0m┃\u001b[1m \u001b[0m\u001b[1mresult\u001b[0m\u001b[1m \u001b[0m┃\u001b[1m \u001b[0m\u001b[1mtime_control\u001b[0m\u001b[1m \u001b[0m┃\u001b[1m \u001b[0m\u001b[1mtermination\u001b[0m\u001b[1m \u001b[0m┃\u001b[1m \u001b[0m\u001b[1mwhite_title\u001b[0m\u001b[1m \u001b[0m┃\u001b[1m \u001b[0m\u001b[1mblack_title\u001b[0m\u001b[1m \u001b[0m┃\u001b[1m \u001b[0m\u001b[1mwhite_rating\u001b[0m\u001b[1m \u001b[0m┃\u001b[1m \u001b[0m\u001b[1mblack_rating\u001b[0m\u001b[1m \u001b[0m┃\n",
       "┡━━━━━━━━━━━━━━━━━━━━━━━━━━━━━━━━━━━━━━━━━━━━━━━━━━━━━━━━━━━━━━━━╇━━━━━━━━╇━━━━━━━━━━━━━━╇━━━━━━━━━━━━━╇━━━━━━━━━━━━━╇━━━━━━━━━━━━━╇━━━━━━━━━━━━━━╇━━━━━━━━━━━━━━┩\n",
       "│ \u001b[2mstring\u001b[0m                                                         │ \u001b[2mstring\u001b[0m │ \u001b[2mstring\u001b[0m       │ \u001b[2mstring\u001b[0m      │ \u001b[2mstring\u001b[0m      │ \u001b[2mstring\u001b[0m      │ \u001b[2mint64\u001b[0m        │ \u001b[2mint64\u001b[0m        │\n",
       "├────────────────────────────────────────────────────────────────┼────────┼──────────────┼─────────────┼─────────────┼─────────────┼──────────────┼──────────────┤\n",
       "│ \u001b[32mRated Blitz game                                              \u001b[0m │ \u001b[32m0-1   \u001b[0m │ \u001b[32m180+0       \u001b[0m │ \u001b[32mNormal     \u001b[0m │ \u001b[2mNULL\u001b[0m        │ \u001b[2mNULL\u001b[0m        │         \u001b[1;36m2220\u001b[0m │         \u001b[1;36m2236\u001b[0m │\n",
       "│ \u001b[32mRated Blitz game                                              \u001b[0m │ \u001b[32m0-1   \u001b[0m │ \u001b[32m180+0       \u001b[0m │ \u001b[32mNormal     \u001b[0m │ \u001b[2mNULL\u001b[0m        │ \u001b[2mNULL\u001b[0m        │         \u001b[1;36m2499\u001b[0m │         \u001b[1;36m2659\u001b[0m │\n",
       "│ \u001b[32mRated Blitz game                                              \u001b[0m │ \u001b[32m0-1   \u001b[0m │ \u001b[32m180+0       \u001b[0m │ \u001b[32mNormal     \u001b[0m │ \u001b[2mNULL\u001b[0m        │ \u001b[32mWFM        \u001b[0m │         \u001b[1;36m2302\u001b[0m │         \u001b[1;36m2259\u001b[0m │\n",
       "│ \u001b[32mRated Blitz game                                              \u001b[0m │ \u001b[32m0-1   \u001b[0m │ \u001b[32m180+0       \u001b[0m │ \u001b[32mNormal     \u001b[0m │ \u001b[32mCM         \u001b[0m │ \u001b[2mNULL\u001b[0m        │         \u001b[1;36m2320\u001b[0m │         \u001b[1;36m2209\u001b[0m │\n",
       "│ \u001b[32mRated Rapid game                                              \u001b[0m │ \u001b[32m0-1   \u001b[0m │ \u001b[32m600+0       \u001b[0m │ \u001b[32mNormal     \u001b[0m │ \u001b[32mFM         \u001b[0m │ \u001b[2mNULL\u001b[0m        │         \u001b[1;36m2530\u001b[0m │         \u001b[1;36m2453\u001b[0m │\n",
       "│ \u001b[32mRated Blitz game                                              \u001b[0m │ \u001b[32m0-1   \u001b[0m │ \u001b[32m180+2       \u001b[0m │ \u001b[32mNormal     \u001b[0m │ \u001b[2mNULL\u001b[0m        │ \u001b[2mNULL\u001b[0m        │         \u001b[1;36m2300\u001b[0m │         \u001b[1;36m2422\u001b[0m │\n",
       "│ \u001b[32mRated Rapid game                                              \u001b[0m │ \u001b[32m0-1   \u001b[0m │ \u001b[32m600+0       \u001b[0m │ \u001b[32mNormal     \u001b[0m │ \u001b[2mNULL\u001b[0m        │ \u001b[2mNULL\u001b[0m        │         \u001b[1;36m2238\u001b[0m │         \u001b[1;36m2172\u001b[0m │\n",
       "│ \u001b[32mRated Blitz tournament https://lichess.org/tournament/vRH6uEjl\u001b[0m │ \u001b[32m0-1   \u001b[0m │ \u001b[32m180+0       \u001b[0m │ \u001b[32mNormal     \u001b[0m │ \u001b[2mNULL\u001b[0m        │ \u001b[2mNULL\u001b[0m        │         \u001b[1;36m2346\u001b[0m │         \u001b[1;36m2087\u001b[0m │\n",
       "│ \u001b[32mRated Rapid game                                              \u001b[0m │ \u001b[32m0-1   \u001b[0m │ \u001b[32m600+0       \u001b[0m │ \u001b[32mNormal     \u001b[0m │ \u001b[2mNULL\u001b[0m        │ \u001b[2mNULL\u001b[0m        │         \u001b[1;36m2437\u001b[0m │         \u001b[1;36m2406\u001b[0m │\n",
       "│ \u001b[32mRated Blitz game                                              \u001b[0m │ \u001b[32m0-1   \u001b[0m │ \u001b[32m180+0       \u001b[0m │ \u001b[32mNormal     \u001b[0m │ \u001b[32mNM         \u001b[0m │ \u001b[2mNULL\u001b[0m        │         \u001b[1;36m2477\u001b[0m │         \u001b[1;36m2615\u001b[0m │\n",
       "│ \u001b[2m…\u001b[0m                                                              │ \u001b[2m…\u001b[0m      │ \u001b[2m…\u001b[0m            │ \u001b[2m…\u001b[0m           │ \u001b[2m…\u001b[0m           │ \u001b[2m…\u001b[0m           │            \u001b[2m…\u001b[0m │            \u001b[2m…\u001b[0m │\n",
       "└────────────────────────────────────────────────────────────────┴────────┴──────────────┴─────────────┴─────────────┴─────────────┴──────────────┴──────────────┘"
      ]
     },
     "execution_count": 25,
     "metadata": {},
     "output_type": "execute_result"
    }
   ],
   "source": [
    "games_selected_columns.filter(_.white_rating >= 2200, _.result == \"0-1\")"
   ]
  },
  {
   "cell_type": "markdown",
   "metadata": {},
   "source": [
    "## Order_by\n",
    "And `order_by`, you guessed it, orders by the specified column (i.e. sorts the rows by the data in that column). Ibis enforces a default ascending order across all backends, even though some backends may have a native default of descending."
   ]
  },
  {
   "cell_type": "code",
   "execution_count": 26,
   "metadata": {},
   "outputs": [
    {
     "data": {
      "text/html": [
       "<pre style=\"white-space:pre;overflow-x:auto;line-height:normal;font-family:Menlo,'DejaVu Sans Mono',consolas,'Courier New',monospace\">┏━━━━━━━━━━━━━━━━━━━━━━━━━━━━━━━━━━━━━━━━━━━━━━━━━━━━━━━━━━━━━━━━┳━━━━━━━━━┳━━━━━━━━━━━━━━┳━━━━━━━━━━━━━┳━━━━━━━━━━━━━┳━━━━━━━━━━━━━┳━━━━━━━━━━━━━━┳━━━━━━━━━━━━━━┓\n",
       "┃<span style=\"font-weight: bold\"> event                                                          </span>┃<span style=\"font-weight: bold\"> result  </span>┃<span style=\"font-weight: bold\"> time_control </span>┃<span style=\"font-weight: bold\"> termination </span>┃<span style=\"font-weight: bold\"> white_title </span>┃<span style=\"font-weight: bold\"> black_title </span>┃<span style=\"font-weight: bold\"> white_rating </span>┃<span style=\"font-weight: bold\"> black_rating </span>┃\n",
       "┡━━━━━━━━━━━━━━━━━━━━━━━━━━━━━━━━━━━━━━━━━━━━━━━━━━━━━━━━━━━━━━━━╇━━━━━━━━━╇━━━━━━━━━━━━━━╇━━━━━━━━━━━━━╇━━━━━━━━━━━━━╇━━━━━━━━━━━━━╇━━━━━━━━━━━━━━╇━━━━━━━━━━━━━━┩\n",
       "│ <span style=\"color: #7f7f7f; text-decoration-color: #7f7f7f\">string</span>                                                         │ <span style=\"color: #7f7f7f; text-decoration-color: #7f7f7f\">string</span>  │ <span style=\"color: #7f7f7f; text-decoration-color: #7f7f7f\">string</span>       │ <span style=\"color: #7f7f7f; text-decoration-color: #7f7f7f\">string</span>      │ <span style=\"color: #7f7f7f; text-decoration-color: #7f7f7f\">string</span>      │ <span style=\"color: #7f7f7f; text-decoration-color: #7f7f7f\">string</span>      │ <span style=\"color: #7f7f7f; text-decoration-color: #7f7f7f\">int64</span>        │ <span style=\"color: #7f7f7f; text-decoration-color: #7f7f7f\">int64</span>        │\n",
       "├────────────────────────────────────────────────────────────────┼─────────┼──────────────┼─────────────┼─────────────┼─────────────┼──────────────┼──────────────┤\n",
       "│ <span style=\"color: #008000; text-decoration-color: #008000\">Rated Rapid tournament https://lichess.org/tournament/z8aKjqAF</span> │ <span style=\"color: #008000; text-decoration-color: #008000\">1-0    </span> │ <span style=\"color: #008000; text-decoration-color: #008000\">900+5       </span> │ <span style=\"color: #008000; text-decoration-color: #008000\">Normal     </span> │ <span style=\"color: #7f7f7f; text-decoration-color: #7f7f7f\">NULL</span>        │ <span style=\"color: #7f7f7f; text-decoration-color: #7f7f7f\">NULL</span>        │          <span style=\"color: #008080; text-decoration-color: #008080; font-weight: bold\">400</span> │          <span style=\"color: #008080; text-decoration-color: #008080; font-weight: bold\">427</span> │\n",
       "│ <span style=\"color: #008000; text-decoration-color: #008000\">Rapid swiss https://lichess.org/swiss/qDKFLMiJ                </span> │ <span style=\"color: #008000; text-decoration-color: #008000\">0-1    </span> │ <span style=\"color: #008000; text-decoration-color: #008000\">600+5       </span> │ <span style=\"color: #008000; text-decoration-color: #008000\">Normal     </span> │ <span style=\"color: #7f7f7f; text-decoration-color: #7f7f7f\">NULL</span>        │ <span style=\"color: #7f7f7f; text-decoration-color: #7f7f7f\">NULL</span>        │          <span style=\"color: #008080; text-decoration-color: #008080; font-weight: bold\">400</span> │          <span style=\"color: #008080; text-decoration-color: #008080; font-weight: bold\">830</span> │\n",
       "│ <span style=\"color: #008000; text-decoration-color: #008000\">Rated Blitz tournament https://lichess.org/tournament/hIz5EyO9</span> │ <span style=\"color: #008000; text-decoration-color: #008000\">1/2-1/2</span> │ <span style=\"color: #008000; text-decoration-color: #008000\">240+0       </span> │ <span style=\"color: #008000; text-decoration-color: #008000\">Normal     </span> │ <span style=\"color: #7f7f7f; text-decoration-color: #7f7f7f\">NULL</span>        │ <span style=\"color: #7f7f7f; text-decoration-color: #7f7f7f\">NULL</span>        │          <span style=\"color: #008080; text-decoration-color: #008080; font-weight: bold\">400</span> │          <span style=\"color: #008080; text-decoration-color: #008080; font-weight: bold\">700</span> │\n",
       "│ <span style=\"color: #008000; text-decoration-color: #008000\">Rated Blitz tournament https://lichess.org/tournament/OCQKNKbv</span> │ <span style=\"color: #008000; text-decoration-color: #008000\">0-1    </span> │ <span style=\"color: #008000; text-decoration-color: #008000\">180+2       </span> │ <span style=\"color: #008000; text-decoration-color: #008000\">Normal     </span> │ <span style=\"color: #7f7f7f; text-decoration-color: #7f7f7f\">NULL</span>        │ <span style=\"color: #7f7f7f; text-decoration-color: #7f7f7f\">NULL</span>        │          <span style=\"color: #008080; text-decoration-color: #008080; font-weight: bold\">400</span> │          <span style=\"color: #008080; text-decoration-color: #008080; font-weight: bold\">787</span> │\n",
       "│ <span style=\"color: #008000; text-decoration-color: #008000\">Rated Blitz tournament https://lichess.org/tournament/OCQKNKbv</span> │ <span style=\"color: #008000; text-decoration-color: #008000\">1-0    </span> │ <span style=\"color: #008000; text-decoration-color: #008000\">180+2       </span> │ <span style=\"color: #008000; text-decoration-color: #008000\">Normal     </span> │ <span style=\"color: #7f7f7f; text-decoration-color: #7f7f7f\">NULL</span>        │ <span style=\"color: #7f7f7f; text-decoration-color: #7f7f7f\">NULL</span>        │          <span style=\"color: #008080; text-decoration-color: #008080; font-weight: bold\">400</span> │         <span style=\"color: #008080; text-decoration-color: #008080; font-weight: bold\">1554</span> │\n",
       "│ <span style=\"color: #008000; text-decoration-color: #008000\">Rated Blitz game                                              </span> │ <span style=\"color: #008000; text-decoration-color: #008000\">1/2-1/2</span> │ <span style=\"color: #008000; text-decoration-color: #008000\">420+0       </span> │ <span style=\"color: #008000; text-decoration-color: #008000\">Normal     </span> │ <span style=\"color: #7f7f7f; text-decoration-color: #7f7f7f\">NULL</span>        │ <span style=\"color: #7f7f7f; text-decoration-color: #7f7f7f\">NULL</span>        │          <span style=\"color: #008080; text-decoration-color: #008080; font-weight: bold\">400</span> │         <span style=\"color: #008080; text-decoration-color: #008080; font-weight: bold\">1031</span> │\n",
       "│ <span style=\"color: #008000; text-decoration-color: #008000\">Rated Blitz tournament https://lichess.org/tournament/hIz5EyO9</span> │ <span style=\"color: #008000; text-decoration-color: #008000\">1/2-1/2</span> │ <span style=\"color: #008000; text-decoration-color: #008000\">240+0       </span> │ <span style=\"color: #008000; text-decoration-color: #008000\">Normal     </span> │ <span style=\"color: #7f7f7f; text-decoration-color: #7f7f7f\">NULL</span>        │ <span style=\"color: #7f7f7f; text-decoration-color: #7f7f7f\">NULL</span>        │          <span style=\"color: #008080; text-decoration-color: #008080; font-weight: bold\">400</span> │          <span style=\"color: #008080; text-decoration-color: #008080; font-weight: bold\">722</span> │\n",
       "│ <span style=\"color: #008000; text-decoration-color: #008000\">Rated Blitz tournament https://lichess.org/tournament/ImRR8iCE</span> │ <span style=\"color: #008000; text-decoration-color: #008000\">0-1    </span> │ <span style=\"color: #008000; text-decoration-color: #008000\">300+0       </span> │ <span style=\"color: #008000; text-decoration-color: #008000\">Normal     </span> │ <span style=\"color: #7f7f7f; text-decoration-color: #7f7f7f\">NULL</span>        │ <span style=\"color: #7f7f7f; text-decoration-color: #7f7f7f\">NULL</span>        │          <span style=\"color: #008080; text-decoration-color: #008080; font-weight: bold\">400</span> │         <span style=\"color: #008080; text-decoration-color: #008080; font-weight: bold\">1584</span> │\n",
       "│ <span style=\"color: #008000; text-decoration-color: #008000\">Rated Rapid game                                              </span> │ <span style=\"color: #008000; text-decoration-color: #008000\">0-1    </span> │ <span style=\"color: #008000; text-decoration-color: #008000\">600+0       </span> │ <span style=\"color: #008000; text-decoration-color: #008000\">Normal     </span> │ <span style=\"color: #7f7f7f; text-decoration-color: #7f7f7f\">NULL</span>        │ <span style=\"color: #7f7f7f; text-decoration-color: #7f7f7f\">NULL</span>        │          <span style=\"color: #008080; text-decoration-color: #008080; font-weight: bold\">400</span> │          <span style=\"color: #008080; text-decoration-color: #008080; font-weight: bold\">509</span> │\n",
       "│ <span style=\"color: #008000; text-decoration-color: #008000\">Rated Blitz tournament https://lichess.org/tournament/ImRR8iCE</span> │ <span style=\"color: #008000; text-decoration-color: #008000\">0-1    </span> │ <span style=\"color: #008000; text-decoration-color: #008000\">300+0       </span> │ <span style=\"color: #008000; text-decoration-color: #008000\">Normal     </span> │ <span style=\"color: #7f7f7f; text-decoration-color: #7f7f7f\">NULL</span>        │ <span style=\"color: #7f7f7f; text-decoration-color: #7f7f7f\">NULL</span>        │          <span style=\"color: #008080; text-decoration-color: #008080; font-weight: bold\">400</span> │          <span style=\"color: #008080; text-decoration-color: #008080; font-weight: bold\">856</span> │\n",
       "│ <span style=\"color: #7f7f7f; text-decoration-color: #7f7f7f\">…</span>                                                              │ <span style=\"color: #7f7f7f; text-decoration-color: #7f7f7f\">…</span>       │ <span style=\"color: #7f7f7f; text-decoration-color: #7f7f7f\">…</span>            │ <span style=\"color: #7f7f7f; text-decoration-color: #7f7f7f\">…</span>           │ <span style=\"color: #7f7f7f; text-decoration-color: #7f7f7f\">…</span>           │ <span style=\"color: #7f7f7f; text-decoration-color: #7f7f7f\">…</span>           │            <span style=\"color: #7f7f7f; text-decoration-color: #7f7f7f\">…</span> │            <span style=\"color: #7f7f7f; text-decoration-color: #7f7f7f\">…</span> │\n",
       "└────────────────────────────────────────────────────────────────┴─────────┴──────────────┴─────────────┴─────────────┴─────────────┴──────────────┴──────────────┘\n",
       "</pre>\n"
      ],
      "text/plain": [
       "┏━━━━━━━━━━━━━━━━━━━━━━━━━━━━━━━━━━━━━━━━━━━━━━━━━━━━━━━━━━━━━━━━┳━━━━━━━━━┳━━━━━━━━━━━━━━┳━━━━━━━━━━━━━┳━━━━━━━━━━━━━┳━━━━━━━━━━━━━┳━━━━━━━━━━━━━━┳━━━━━━━━━━━━━━┓\n",
       "┃\u001b[1m \u001b[0m\u001b[1mevent\u001b[0m\u001b[1m                                                         \u001b[0m\u001b[1m \u001b[0m┃\u001b[1m \u001b[0m\u001b[1mresult\u001b[0m\u001b[1m \u001b[0m\u001b[1m \u001b[0m┃\u001b[1m \u001b[0m\u001b[1mtime_control\u001b[0m\u001b[1m \u001b[0m┃\u001b[1m \u001b[0m\u001b[1mtermination\u001b[0m\u001b[1m \u001b[0m┃\u001b[1m \u001b[0m\u001b[1mwhite_title\u001b[0m\u001b[1m \u001b[0m┃\u001b[1m \u001b[0m\u001b[1mblack_title\u001b[0m\u001b[1m \u001b[0m┃\u001b[1m \u001b[0m\u001b[1mwhite_rating\u001b[0m\u001b[1m \u001b[0m┃\u001b[1m \u001b[0m\u001b[1mblack_rating\u001b[0m\u001b[1m \u001b[0m┃\n",
       "┡━━━━━━━━━━━━━━━━━━━━━━━━━━━━━━━━━━━━━━━━━━━━━━━━━━━━━━━━━━━━━━━━╇━━━━━━━━━╇━━━━━━━━━━━━━━╇━━━━━━━━━━━━━╇━━━━━━━━━━━━━╇━━━━━━━━━━━━━╇━━━━━━━━━━━━━━╇━━━━━━━━━━━━━━┩\n",
       "│ \u001b[2mstring\u001b[0m                                                         │ \u001b[2mstring\u001b[0m  │ \u001b[2mstring\u001b[0m       │ \u001b[2mstring\u001b[0m      │ \u001b[2mstring\u001b[0m      │ \u001b[2mstring\u001b[0m      │ \u001b[2mint64\u001b[0m        │ \u001b[2mint64\u001b[0m        │\n",
       "├────────────────────────────────────────────────────────────────┼─────────┼──────────────┼─────────────┼─────────────┼─────────────┼──────────────┼──────────────┤\n",
       "│ \u001b[32mRated Rapid tournament https://lichess.org/tournament/z8aKjqAF\u001b[0m │ \u001b[32m1-0    \u001b[0m │ \u001b[32m900+5       \u001b[0m │ \u001b[32mNormal     \u001b[0m │ \u001b[2mNULL\u001b[0m        │ \u001b[2mNULL\u001b[0m        │          \u001b[1;36m400\u001b[0m │          \u001b[1;36m427\u001b[0m │\n",
       "│ \u001b[32mRapid swiss https://lichess.org/swiss/qDKFLMiJ                \u001b[0m │ \u001b[32m0-1    \u001b[0m │ \u001b[32m600+5       \u001b[0m │ \u001b[32mNormal     \u001b[0m │ \u001b[2mNULL\u001b[0m        │ \u001b[2mNULL\u001b[0m        │          \u001b[1;36m400\u001b[0m │          \u001b[1;36m830\u001b[0m │\n",
       "│ \u001b[32mRated Blitz tournament https://lichess.org/tournament/hIz5EyO9\u001b[0m │ \u001b[32m1/2-1/2\u001b[0m │ \u001b[32m240+0       \u001b[0m │ \u001b[32mNormal     \u001b[0m │ \u001b[2mNULL\u001b[0m        │ \u001b[2mNULL\u001b[0m        │          \u001b[1;36m400\u001b[0m │          \u001b[1;36m700\u001b[0m │\n",
       "│ \u001b[32mRated Blitz tournament https://lichess.org/tournament/OCQKNKbv\u001b[0m │ \u001b[32m0-1    \u001b[0m │ \u001b[32m180+2       \u001b[0m │ \u001b[32mNormal     \u001b[0m │ \u001b[2mNULL\u001b[0m        │ \u001b[2mNULL\u001b[0m        │          \u001b[1;36m400\u001b[0m │          \u001b[1;36m787\u001b[0m │\n",
       "│ \u001b[32mRated Blitz tournament https://lichess.org/tournament/OCQKNKbv\u001b[0m │ \u001b[32m1-0    \u001b[0m │ \u001b[32m180+2       \u001b[0m │ \u001b[32mNormal     \u001b[0m │ \u001b[2mNULL\u001b[0m        │ \u001b[2mNULL\u001b[0m        │          \u001b[1;36m400\u001b[0m │         \u001b[1;36m1554\u001b[0m │\n",
       "│ \u001b[32mRated Blitz game                                              \u001b[0m │ \u001b[32m1/2-1/2\u001b[0m │ \u001b[32m420+0       \u001b[0m │ \u001b[32mNormal     \u001b[0m │ \u001b[2mNULL\u001b[0m        │ \u001b[2mNULL\u001b[0m        │          \u001b[1;36m400\u001b[0m │         \u001b[1;36m1031\u001b[0m │\n",
       "│ \u001b[32mRated Blitz tournament https://lichess.org/tournament/hIz5EyO9\u001b[0m │ \u001b[32m1/2-1/2\u001b[0m │ \u001b[32m240+0       \u001b[0m │ \u001b[32mNormal     \u001b[0m │ \u001b[2mNULL\u001b[0m        │ \u001b[2mNULL\u001b[0m        │          \u001b[1;36m400\u001b[0m │          \u001b[1;36m722\u001b[0m │\n",
       "│ \u001b[32mRated Blitz tournament https://lichess.org/tournament/ImRR8iCE\u001b[0m │ \u001b[32m0-1    \u001b[0m │ \u001b[32m300+0       \u001b[0m │ \u001b[32mNormal     \u001b[0m │ \u001b[2mNULL\u001b[0m        │ \u001b[2mNULL\u001b[0m        │          \u001b[1;36m400\u001b[0m │         \u001b[1;36m1584\u001b[0m │\n",
       "│ \u001b[32mRated Rapid game                                              \u001b[0m │ \u001b[32m0-1    \u001b[0m │ \u001b[32m600+0       \u001b[0m │ \u001b[32mNormal     \u001b[0m │ \u001b[2mNULL\u001b[0m        │ \u001b[2mNULL\u001b[0m        │          \u001b[1;36m400\u001b[0m │          \u001b[1;36m509\u001b[0m │\n",
       "│ \u001b[32mRated Blitz tournament https://lichess.org/tournament/ImRR8iCE\u001b[0m │ \u001b[32m0-1    \u001b[0m │ \u001b[32m300+0       \u001b[0m │ \u001b[32mNormal     \u001b[0m │ \u001b[2mNULL\u001b[0m        │ \u001b[2mNULL\u001b[0m        │          \u001b[1;36m400\u001b[0m │          \u001b[1;36m856\u001b[0m │\n",
       "│ \u001b[2m…\u001b[0m                                                              │ \u001b[2m…\u001b[0m       │ \u001b[2m…\u001b[0m            │ \u001b[2m…\u001b[0m           │ \u001b[2m…\u001b[0m           │ \u001b[2m…\u001b[0m           │            \u001b[2m…\u001b[0m │            \u001b[2m…\u001b[0m │\n",
       "└────────────────────────────────────────────────────────────────┴─────────┴──────────────┴─────────────┴─────────────┴─────────────┴──────────────┴──────────────┘"
      ]
     },
     "execution_count": 26,
     "metadata": {},
     "output_type": "execute_result"
    }
   ],
   "source": [
    "games_selected_columns.order_by(_.white_rating)"
   ]
  },
  {
   "cell_type": "code",
   "execution_count": 27,
   "metadata": {},
   "outputs": [
    {
     "data": {
      "text/html": [
       "<pre style=\"white-space:pre;overflow-x:auto;line-height:normal;font-family:Menlo,'DejaVu Sans Mono',consolas,'Courier New',monospace\">┏━━━━━━━━━━━━━━━━━━━┳━━━━━━━━━┳━━━━━━━━━━━━━━┳━━━━━━━━━━━━━━┳━━━━━━━━━━━━━┳━━━━━━━━━━━━━┳━━━━━━━━━━━━━━┳━━━━━━━━━━━━━━┓\n",
       "┃<span style=\"font-weight: bold\"> event             </span>┃<span style=\"font-weight: bold\"> result  </span>┃<span style=\"font-weight: bold\"> time_control </span>┃<span style=\"font-weight: bold\"> termination  </span>┃<span style=\"font-weight: bold\"> white_title </span>┃<span style=\"font-weight: bold\"> black_title </span>┃<span style=\"font-weight: bold\"> white_rating </span>┃<span style=\"font-weight: bold\"> black_rating </span>┃\n",
       "┡━━━━━━━━━━━━━━━━━━━╇━━━━━━━━━╇━━━━━━━━━━━━━━╇━━━━━━━━━━━━━━╇━━━━━━━━━━━━━╇━━━━━━━━━━━━━╇━━━━━━━━━━━━━━╇━━━━━━━━━━━━━━┩\n",
       "│ <span style=\"color: #7f7f7f; text-decoration-color: #7f7f7f\">string</span>            │ <span style=\"color: #7f7f7f; text-decoration-color: #7f7f7f\">string</span>  │ <span style=\"color: #7f7f7f; text-decoration-color: #7f7f7f\">string</span>       │ <span style=\"color: #7f7f7f; text-decoration-color: #7f7f7f\">string</span>       │ <span style=\"color: #7f7f7f; text-decoration-color: #7f7f7f\">string</span>      │ <span style=\"color: #7f7f7f; text-decoration-color: #7f7f7f\">string</span>      │ <span style=\"color: #7f7f7f; text-decoration-color: #7f7f7f\">int64</span>        │ <span style=\"color: #7f7f7f; text-decoration-color: #7f7f7f\">int64</span>        │\n",
       "├───────────────────┼─────────┼──────────────┼──────────────┼─────────────┼─────────────┼──────────────┼──────────────┤\n",
       "│ <span style=\"color: #008000; text-decoration-color: #008000\">Rated Bullet game</span> │ <span style=\"color: #008000; text-decoration-color: #008000\">1/2-1/2</span> │ <span style=\"color: #008000; text-decoration-color: #008000\">60+0        </span> │ <span style=\"color: #008000; text-decoration-color: #008000\">Normal      </span> │ <span style=\"color: #008000; text-decoration-color: #008000\">GM         </span> │ <span style=\"color: #7f7f7f; text-decoration-color: #7f7f7f\">NULL</span>        │         <span style=\"color: #008080; text-decoration-color: #008080; font-weight: bold\">3301</span> │         <span style=\"color: #008080; text-decoration-color: #008080; font-weight: bold\">2981</span> │\n",
       "│ <span style=\"color: #008000; text-decoration-color: #008000\">Rated Bullet game</span> │ <span style=\"color: #008000; text-decoration-color: #008000\">0-1    </span> │ <span style=\"color: #008000; text-decoration-color: #008000\">30+0        </span> │ <span style=\"color: #008000; text-decoration-color: #008000\">Normal      </span> │ <span style=\"color: #008000; text-decoration-color: #008000\">GM         </span> │ <span style=\"color: #7f7f7f; text-decoration-color: #7f7f7f\">NULL</span>        │         <span style=\"color: #008080; text-decoration-color: #008080; font-weight: bold\">3298</span> │         <span style=\"color: #008080; text-decoration-color: #008080; font-weight: bold\">3039</span> │\n",
       "│ <span style=\"color: #008000; text-decoration-color: #008000\">Rated Bullet game</span> │ <span style=\"color: #008000; text-decoration-color: #008000\">1-0    </span> │ <span style=\"color: #008000; text-decoration-color: #008000\">30+0        </span> │ <span style=\"color: #008000; text-decoration-color: #008000\">Time forfeit</span> │ <span style=\"color: #008000; text-decoration-color: #008000\">GM         </span> │ <span style=\"color: #7f7f7f; text-decoration-color: #7f7f7f\">NULL</span>        │         <span style=\"color: #008080; text-decoration-color: #008080; font-weight: bold\">3298</span> │         <span style=\"color: #008080; text-decoration-color: #008080; font-weight: bold\">3038</span> │\n",
       "│ <span style=\"color: #008000; text-decoration-color: #008000\">Rated Bullet game</span> │ <span style=\"color: #008000; text-decoration-color: #008000\">0-1    </span> │ <span style=\"color: #008000; text-decoration-color: #008000\">60+0        </span> │ <span style=\"color: #008000; text-decoration-color: #008000\">Time forfeit</span> │ <span style=\"color: #008000; text-decoration-color: #008000\">GM         </span> │ <span style=\"color: #008000; text-decoration-color: #008000\">IM         </span> │         <span style=\"color: #008080; text-decoration-color: #008080; font-weight: bold\">3295</span> │         <span style=\"color: #008080; text-decoration-color: #008080; font-weight: bold\">2967</span> │\n",
       "│ <span style=\"color: #008000; text-decoration-color: #008000\">Rated Bullet game</span> │ <span style=\"color: #008000; text-decoration-color: #008000\">0-1    </span> │ <span style=\"color: #008000; text-decoration-color: #008000\">60+0        </span> │ <span style=\"color: #008000; text-decoration-color: #008000\">Normal      </span> │ <span style=\"color: #008000; text-decoration-color: #008000\">GM         </span> │ <span style=\"color: #7f7f7f; text-decoration-color: #7f7f7f\">NULL</span>        │         <span style=\"color: #008080; text-decoration-color: #008080; font-weight: bold\">3294</span> │         <span style=\"color: #008080; text-decoration-color: #008080; font-weight: bold\">2998</span> │\n",
       "│ <span style=\"color: #008000; text-decoration-color: #008000\">Rated Bullet game</span> │ <span style=\"color: #008000; text-decoration-color: #008000\">1-0    </span> │ <span style=\"color: #008000; text-decoration-color: #008000\">60+0        </span> │ <span style=\"color: #008000; text-decoration-color: #008000\">Normal      </span> │ <span style=\"color: #008000; text-decoration-color: #008000\">GM         </span> │ <span style=\"color: #008000; text-decoration-color: #008000\">IM         </span> │         <span style=\"color: #008080; text-decoration-color: #008080; font-weight: bold\">3292</span> │         <span style=\"color: #008080; text-decoration-color: #008080; font-weight: bold\">2970</span> │\n",
       "│ <span style=\"color: #008000; text-decoration-color: #008000\">Rated Bullet game</span> │ <span style=\"color: #008000; text-decoration-color: #008000\">0-1    </span> │ <span style=\"color: #008000; text-decoration-color: #008000\">30+0        </span> │ <span style=\"color: #008000; text-decoration-color: #008000\">Time forfeit</span> │ <span style=\"color: #008000; text-decoration-color: #008000\">GM         </span> │ <span style=\"color: #7f7f7f; text-decoration-color: #7f7f7f\">NULL</span>        │         <span style=\"color: #008080; text-decoration-color: #008080; font-weight: bold\">3291</span> │         <span style=\"color: #008080; text-decoration-color: #008080; font-weight: bold\">3040</span> │\n",
       "│ <span style=\"color: #008000; text-decoration-color: #008000\">Rated Bullet game</span> │ <span style=\"color: #008000; text-decoration-color: #008000\">1-0    </span> │ <span style=\"color: #008000; text-decoration-color: #008000\">60+0        </span> │ <span style=\"color: #008000; text-decoration-color: #008000\">Time forfeit</span> │ <span style=\"color: #008000; text-decoration-color: #008000\">GM         </span> │ <span style=\"color: #7f7f7f; text-decoration-color: #7f7f7f\">NULL</span>        │         <span style=\"color: #008080; text-decoration-color: #008080; font-weight: bold\">3290</span> │         <span style=\"color: #008080; text-decoration-color: #008080; font-weight: bold\">3002</span> │\n",
       "│ <span style=\"color: #008000; text-decoration-color: #008000\">Rated Bullet game</span> │ <span style=\"color: #008000; text-decoration-color: #008000\">1-0    </span> │ <span style=\"color: #008000; text-decoration-color: #008000\">60+0        </span> │ <span style=\"color: #008000; text-decoration-color: #008000\">Normal      </span> │ <span style=\"color: #008000; text-decoration-color: #008000\">GM         </span> │ <span style=\"color: #7f7f7f; text-decoration-color: #7f7f7f\">NULL</span>        │         <span style=\"color: #008080; text-decoration-color: #008080; font-weight: bold\">3288</span> │         <span style=\"color: #008080; text-decoration-color: #008080; font-weight: bold\">3048</span> │\n",
       "│ <span style=\"color: #008000; text-decoration-color: #008000\">Rated Bullet game</span> │ <span style=\"color: #008000; text-decoration-color: #008000\">1-0    </span> │ <span style=\"color: #008000; text-decoration-color: #008000\">60+0        </span> │ <span style=\"color: #008000; text-decoration-color: #008000\">Time forfeit</span> │ <span style=\"color: #008000; text-decoration-color: #008000\">GM         </span> │ <span style=\"color: #7f7f7f; text-decoration-color: #7f7f7f\">NULL</span>        │         <span style=\"color: #008080; text-decoration-color: #008080; font-weight: bold\">3284</span> │         <span style=\"color: #008080; text-decoration-color: #008080; font-weight: bold\">3053</span> │\n",
       "│ <span style=\"color: #7f7f7f; text-decoration-color: #7f7f7f\">…</span>                 │ <span style=\"color: #7f7f7f; text-decoration-color: #7f7f7f\">…</span>       │ <span style=\"color: #7f7f7f; text-decoration-color: #7f7f7f\">…</span>            │ <span style=\"color: #7f7f7f; text-decoration-color: #7f7f7f\">…</span>            │ <span style=\"color: #7f7f7f; text-decoration-color: #7f7f7f\">…</span>           │ <span style=\"color: #7f7f7f; text-decoration-color: #7f7f7f\">…</span>           │            <span style=\"color: #7f7f7f; text-decoration-color: #7f7f7f\">…</span> │            <span style=\"color: #7f7f7f; text-decoration-color: #7f7f7f\">…</span> │\n",
       "└───────────────────┴─────────┴──────────────┴──────────────┴─────────────┴─────────────┴──────────────┴──────────────┘\n",
       "</pre>\n"
      ],
      "text/plain": [
       "┏━━━━━━━━━━━━━━━━━━━┳━━━━━━━━━┳━━━━━━━━━━━━━━┳━━━━━━━━━━━━━━┳━━━━━━━━━━━━━┳━━━━━━━━━━━━━┳━━━━━━━━━━━━━━┳━━━━━━━━━━━━━━┓\n",
       "┃\u001b[1m \u001b[0m\u001b[1mevent\u001b[0m\u001b[1m            \u001b[0m\u001b[1m \u001b[0m┃\u001b[1m \u001b[0m\u001b[1mresult\u001b[0m\u001b[1m \u001b[0m\u001b[1m \u001b[0m┃\u001b[1m \u001b[0m\u001b[1mtime_control\u001b[0m\u001b[1m \u001b[0m┃\u001b[1m \u001b[0m\u001b[1mtermination\u001b[0m\u001b[1m \u001b[0m\u001b[1m \u001b[0m┃\u001b[1m \u001b[0m\u001b[1mwhite_title\u001b[0m\u001b[1m \u001b[0m┃\u001b[1m \u001b[0m\u001b[1mblack_title\u001b[0m\u001b[1m \u001b[0m┃\u001b[1m \u001b[0m\u001b[1mwhite_rating\u001b[0m\u001b[1m \u001b[0m┃\u001b[1m \u001b[0m\u001b[1mblack_rating\u001b[0m\u001b[1m \u001b[0m┃\n",
       "┡━━━━━━━━━━━━━━━━━━━╇━━━━━━━━━╇━━━━━━━━━━━━━━╇━━━━━━━━━━━━━━╇━━━━━━━━━━━━━╇━━━━━━━━━━━━━╇━━━━━━━━━━━━━━╇━━━━━━━━━━━━━━┩\n",
       "│ \u001b[2mstring\u001b[0m            │ \u001b[2mstring\u001b[0m  │ \u001b[2mstring\u001b[0m       │ \u001b[2mstring\u001b[0m       │ \u001b[2mstring\u001b[0m      │ \u001b[2mstring\u001b[0m      │ \u001b[2mint64\u001b[0m        │ \u001b[2mint64\u001b[0m        │\n",
       "├───────────────────┼─────────┼──────────────┼──────────────┼─────────────┼─────────────┼──────────────┼──────────────┤\n",
       "│ \u001b[32mRated Bullet game\u001b[0m │ \u001b[32m1/2-1/2\u001b[0m │ \u001b[32m60+0        \u001b[0m │ \u001b[32mNormal      \u001b[0m │ \u001b[32mGM         \u001b[0m │ \u001b[2mNULL\u001b[0m        │         \u001b[1;36m3301\u001b[0m │         \u001b[1;36m2981\u001b[0m │\n",
       "│ \u001b[32mRated Bullet game\u001b[0m │ \u001b[32m0-1    \u001b[0m │ \u001b[32m30+0        \u001b[0m │ \u001b[32mNormal      \u001b[0m │ \u001b[32mGM         \u001b[0m │ \u001b[2mNULL\u001b[0m        │         \u001b[1;36m3298\u001b[0m │         \u001b[1;36m3039\u001b[0m │\n",
       "│ \u001b[32mRated Bullet game\u001b[0m │ \u001b[32m1-0    \u001b[0m │ \u001b[32m30+0        \u001b[0m │ \u001b[32mTime forfeit\u001b[0m │ \u001b[32mGM         \u001b[0m │ \u001b[2mNULL\u001b[0m        │         \u001b[1;36m3298\u001b[0m │         \u001b[1;36m3038\u001b[0m │\n",
       "│ \u001b[32mRated Bullet game\u001b[0m │ \u001b[32m0-1    \u001b[0m │ \u001b[32m60+0        \u001b[0m │ \u001b[32mTime forfeit\u001b[0m │ \u001b[32mGM         \u001b[0m │ \u001b[32mIM         \u001b[0m │         \u001b[1;36m3295\u001b[0m │         \u001b[1;36m2967\u001b[0m │\n",
       "│ \u001b[32mRated Bullet game\u001b[0m │ \u001b[32m0-1    \u001b[0m │ \u001b[32m60+0        \u001b[0m │ \u001b[32mNormal      \u001b[0m │ \u001b[32mGM         \u001b[0m │ \u001b[2mNULL\u001b[0m        │         \u001b[1;36m3294\u001b[0m │         \u001b[1;36m2998\u001b[0m │\n",
       "│ \u001b[32mRated Bullet game\u001b[0m │ \u001b[32m1-0    \u001b[0m │ \u001b[32m60+0        \u001b[0m │ \u001b[32mNormal      \u001b[0m │ \u001b[32mGM         \u001b[0m │ \u001b[32mIM         \u001b[0m │         \u001b[1;36m3292\u001b[0m │         \u001b[1;36m2970\u001b[0m │\n",
       "│ \u001b[32mRated Bullet game\u001b[0m │ \u001b[32m0-1    \u001b[0m │ \u001b[32m30+0        \u001b[0m │ \u001b[32mTime forfeit\u001b[0m │ \u001b[32mGM         \u001b[0m │ \u001b[2mNULL\u001b[0m        │         \u001b[1;36m3291\u001b[0m │         \u001b[1;36m3040\u001b[0m │\n",
       "│ \u001b[32mRated Bullet game\u001b[0m │ \u001b[32m1-0    \u001b[0m │ \u001b[32m60+0        \u001b[0m │ \u001b[32mTime forfeit\u001b[0m │ \u001b[32mGM         \u001b[0m │ \u001b[2mNULL\u001b[0m        │         \u001b[1;36m3290\u001b[0m │         \u001b[1;36m3002\u001b[0m │\n",
       "│ \u001b[32mRated Bullet game\u001b[0m │ \u001b[32m1-0    \u001b[0m │ \u001b[32m60+0        \u001b[0m │ \u001b[32mNormal      \u001b[0m │ \u001b[32mGM         \u001b[0m │ \u001b[2mNULL\u001b[0m        │         \u001b[1;36m3288\u001b[0m │         \u001b[1;36m3048\u001b[0m │\n",
       "│ \u001b[32mRated Bullet game\u001b[0m │ \u001b[32m1-0    \u001b[0m │ \u001b[32m60+0        \u001b[0m │ \u001b[32mTime forfeit\u001b[0m │ \u001b[32mGM         \u001b[0m │ \u001b[2mNULL\u001b[0m        │         \u001b[1;36m3284\u001b[0m │         \u001b[1;36m3053\u001b[0m │\n",
       "│ \u001b[2m…\u001b[0m                 │ \u001b[2m…\u001b[0m       │ \u001b[2m…\u001b[0m            │ \u001b[2m…\u001b[0m            │ \u001b[2m…\u001b[0m           │ \u001b[2m…\u001b[0m           │            \u001b[2m…\u001b[0m │            \u001b[2m…\u001b[0m │\n",
       "└───────────────────┴─────────┴──────────────┴──────────────┴─────────────┴─────────────┴──────────────┴──────────────┘"
      ]
     },
     "execution_count": 27,
     "metadata": {},
     "output_type": "execute_result"
    }
   ],
   "source": [
    "games_selected_columns.order_by(_.white_rating.desc())"
   ]
  },
  {
   "cell_type": "markdown",
   "metadata": {},
   "source": [
    "### Exercise 2\n",
    "Show the 10 games with the highest white ratings where white nevertheless lost. "
   ]
  },
  {
   "cell_type": "code",
   "execution_count": 28,
   "metadata": {},
   "outputs": [],
   "source": [
    "# Write your solution here\n"
   ]
  },
  {
   "cell_type": "markdown",
   "metadata": {},
   "source": [
    "#### Solution 2"
   ]
  },
  {
   "cell_type": "code",
   "execution_count": 30,
   "metadata": {},
   "outputs": [
    {
     "data": {
      "text/html": [
       "<pre style=\"white-space:pre;overflow-x:auto;line-height:normal;font-family:Menlo,'DejaVu Sans Mono',consolas,'Courier New',monospace\">┏━━━━━━━━━━━━━━━━━━━┳━━━━━━━━┳━━━━━━━━━━━━━━┳━━━━━━━━━━━━━━┳━━━━━━━━━━━━━┳━━━━━━━━━━━━━┳━━━━━━━━━━━━━━┳━━━━━━━━━━━━━━┓\n",
       "┃<span style=\"font-weight: bold\"> event             </span>┃<span style=\"font-weight: bold\"> result </span>┃<span style=\"font-weight: bold\"> time_control </span>┃<span style=\"font-weight: bold\"> termination  </span>┃<span style=\"font-weight: bold\"> white_title </span>┃<span style=\"font-weight: bold\"> black_title </span>┃<span style=\"font-weight: bold\"> white_rating </span>┃<span style=\"font-weight: bold\"> black_rating </span>┃\n",
       "┡━━━━━━━━━━━━━━━━━━━╇━━━━━━━━╇━━━━━━━━━━━━━━╇━━━━━━━━━━━━━━╇━━━━━━━━━━━━━╇━━━━━━━━━━━━━╇━━━━━━━━━━━━━━╇━━━━━━━━━━━━━━┩\n",
       "│ <span style=\"color: #7f7f7f; text-decoration-color: #7f7f7f\">string</span>            │ <span style=\"color: #7f7f7f; text-decoration-color: #7f7f7f\">string</span> │ <span style=\"color: #7f7f7f; text-decoration-color: #7f7f7f\">string</span>       │ <span style=\"color: #7f7f7f; text-decoration-color: #7f7f7f\">string</span>       │ <span style=\"color: #7f7f7f; text-decoration-color: #7f7f7f\">string</span>      │ <span style=\"color: #7f7f7f; text-decoration-color: #7f7f7f\">string</span>      │ <span style=\"color: #7f7f7f; text-decoration-color: #7f7f7f\">int64</span>        │ <span style=\"color: #7f7f7f; text-decoration-color: #7f7f7f\">int64</span>        │\n",
       "├───────────────────┼────────┼──────────────┼──────────────┼─────────────┼─────────────┼──────────────┼──────────────┤\n",
       "│ <span style=\"color: #008000; text-decoration-color: #008000\">Rated Bullet game</span> │ <span style=\"color: #008000; text-decoration-color: #008000\">0-1   </span> │ <span style=\"color: #008000; text-decoration-color: #008000\">30+0        </span> │ <span style=\"color: #008000; text-decoration-color: #008000\">Normal      </span> │ <span style=\"color: #008000; text-decoration-color: #008000\">GM         </span> │ <span style=\"color: #7f7f7f; text-decoration-color: #7f7f7f\">NULL</span>        │         <span style=\"color: #008080; text-decoration-color: #008080; font-weight: bold\">3298</span> │         <span style=\"color: #008080; text-decoration-color: #008080; font-weight: bold\">3039</span> │\n",
       "│ <span style=\"color: #008000; text-decoration-color: #008000\">Rated Bullet game</span> │ <span style=\"color: #008000; text-decoration-color: #008000\">0-1   </span> │ <span style=\"color: #008000; text-decoration-color: #008000\">60+0        </span> │ <span style=\"color: #008000; text-decoration-color: #008000\">Time forfeit</span> │ <span style=\"color: #008000; text-decoration-color: #008000\">GM         </span> │ <span style=\"color: #008000; text-decoration-color: #008000\">IM         </span> │         <span style=\"color: #008080; text-decoration-color: #008080; font-weight: bold\">3295</span> │         <span style=\"color: #008080; text-decoration-color: #008080; font-weight: bold\">2967</span> │\n",
       "│ <span style=\"color: #008000; text-decoration-color: #008000\">Rated Bullet game</span> │ <span style=\"color: #008000; text-decoration-color: #008000\">0-1   </span> │ <span style=\"color: #008000; text-decoration-color: #008000\">60+0        </span> │ <span style=\"color: #008000; text-decoration-color: #008000\">Normal      </span> │ <span style=\"color: #008000; text-decoration-color: #008000\">GM         </span> │ <span style=\"color: #7f7f7f; text-decoration-color: #7f7f7f\">NULL</span>        │         <span style=\"color: #008080; text-decoration-color: #008080; font-weight: bold\">3294</span> │         <span style=\"color: #008080; text-decoration-color: #008080; font-weight: bold\">2998</span> │\n",
       "│ <span style=\"color: #008000; text-decoration-color: #008000\">Rated Bullet game</span> │ <span style=\"color: #008000; text-decoration-color: #008000\">0-1   </span> │ <span style=\"color: #008000; text-decoration-color: #008000\">30+0        </span> │ <span style=\"color: #008000; text-decoration-color: #008000\">Time forfeit</span> │ <span style=\"color: #008000; text-decoration-color: #008000\">GM         </span> │ <span style=\"color: #7f7f7f; text-decoration-color: #7f7f7f\">NULL</span>        │         <span style=\"color: #008080; text-decoration-color: #008080; font-weight: bold\">3291</span> │         <span style=\"color: #008080; text-decoration-color: #008080; font-weight: bold\">3040</span> │\n",
       "│ <span style=\"color: #008000; text-decoration-color: #008000\">Rated Rapid game </span> │ <span style=\"color: #008000; text-decoration-color: #008000\">0-1   </span> │ <span style=\"color: #008000; text-decoration-color: #008000\">480+3       </span> │ <span style=\"color: #008000; text-decoration-color: #008000\">Time forfeit</span> │ <span style=\"color: #008000; text-decoration-color: #008000\">BOT        </span> │ <span style=\"color: #008000; text-decoration-color: #008000\">BOT        </span> │         <span style=\"color: #008080; text-decoration-color: #008080; font-weight: bold\">3233</span> │         <span style=\"color: #008080; text-decoration-color: #008080; font-weight: bold\">2889</span> │\n",
       "│ <span style=\"color: #008000; text-decoration-color: #008000\">Rated Bullet game</span> │ <span style=\"color: #008000; text-decoration-color: #008000\">0-1   </span> │ <span style=\"color: #008000; text-decoration-color: #008000\">60+0        </span> │ <span style=\"color: #008000; text-decoration-color: #008000\">Normal      </span> │ <span style=\"color: #7f7f7f; text-decoration-color: #7f7f7f\">NULL</span>        │ <span style=\"color: #008000; text-decoration-color: #008000\">IM         </span> │         <span style=\"color: #008080; text-decoration-color: #008080; font-weight: bold\">3189</span> │         <span style=\"color: #008080; text-decoration-color: #008080; font-weight: bold\">2851</span> │\n",
       "│ <span style=\"color: #008000; text-decoration-color: #008000\">Rated Bullet game</span> │ <span style=\"color: #008000; text-decoration-color: #008000\">0-1   </span> │ <span style=\"color: #008000; text-decoration-color: #008000\">60+0        </span> │ <span style=\"color: #008000; text-decoration-color: #008000\">Normal      </span> │ <span style=\"color: #7f7f7f; text-decoration-color: #7f7f7f\">NULL</span>        │ <span style=\"color: #7f7f7f; text-decoration-color: #7f7f7f\">NULL</span>        │         <span style=\"color: #008080; text-decoration-color: #008080; font-weight: bold\">3169</span> │         <span style=\"color: #008080; text-decoration-color: #008080; font-weight: bold\">2928</span> │\n",
       "│ <span style=\"color: #008000; text-decoration-color: #008000\">Rated Bullet game</span> │ <span style=\"color: #008000; text-decoration-color: #008000\">0-1   </span> │ <span style=\"color: #008000; text-decoration-color: #008000\">60+0        </span> │ <span style=\"color: #008000; text-decoration-color: #008000\">Normal      </span> │ <span style=\"color: #7f7f7f; text-decoration-color: #7f7f7f\">NULL</span>        │ <span style=\"color: #7f7f7f; text-decoration-color: #7f7f7f\">NULL</span>        │         <span style=\"color: #008080; text-decoration-color: #008080; font-weight: bold\">3166</span> │         <span style=\"color: #008080; text-decoration-color: #008080; font-weight: bold\">2915</span> │\n",
       "│ <span style=\"color: #008000; text-decoration-color: #008000\">Rated Bullet game</span> │ <span style=\"color: #008000; text-decoration-color: #008000\">0-1   </span> │ <span style=\"color: #008000; text-decoration-color: #008000\">60+0        </span> │ <span style=\"color: #008000; text-decoration-color: #008000\">Time forfeit</span> │ <span style=\"color: #7f7f7f; text-decoration-color: #7f7f7f\">NULL</span>        │ <span style=\"color: #7f7f7f; text-decoration-color: #7f7f7f\">NULL</span>        │         <span style=\"color: #008080; text-decoration-color: #008080; font-weight: bold\">3150</span> │         <span style=\"color: #008080; text-decoration-color: #008080; font-weight: bold\">2911</span> │\n",
       "│ <span style=\"color: #008000; text-decoration-color: #008000\">Rated Bullet game</span> │ <span style=\"color: #008000; text-decoration-color: #008000\">0-1   </span> │ <span style=\"color: #008000; text-decoration-color: #008000\">60+0        </span> │ <span style=\"color: #008000; text-decoration-color: #008000\">Normal      </span> │ <span style=\"color: #7f7f7f; text-decoration-color: #7f7f7f\">NULL</span>        │ <span style=\"color: #7f7f7f; text-decoration-color: #7f7f7f\">NULL</span>        │         <span style=\"color: #008080; text-decoration-color: #008080; font-weight: bold\">3150</span> │         <span style=\"color: #008080; text-decoration-color: #008080; font-weight: bold\">3042</span> │\n",
       "│ <span style=\"color: #7f7f7f; text-decoration-color: #7f7f7f\">…</span>                 │ <span style=\"color: #7f7f7f; text-decoration-color: #7f7f7f\">…</span>      │ <span style=\"color: #7f7f7f; text-decoration-color: #7f7f7f\">…</span>            │ <span style=\"color: #7f7f7f; text-decoration-color: #7f7f7f\">…</span>            │ <span style=\"color: #7f7f7f; text-decoration-color: #7f7f7f\">…</span>           │ <span style=\"color: #7f7f7f; text-decoration-color: #7f7f7f\">…</span>           │            <span style=\"color: #7f7f7f; text-decoration-color: #7f7f7f\">…</span> │            <span style=\"color: #7f7f7f; text-decoration-color: #7f7f7f\">…</span> │\n",
       "└───────────────────┴────────┴──────────────┴──────────────┴─────────────┴─────────────┴──────────────┴──────────────┘\n",
       "</pre>\n"
      ],
      "text/plain": [
       "┏━━━━━━━━━━━━━━━━━━━┳━━━━━━━━┳━━━━━━━━━━━━━━┳━━━━━━━━━━━━━━┳━━━━━━━━━━━━━┳━━━━━━━━━━━━━┳━━━━━━━━━━━━━━┳━━━━━━━━━━━━━━┓\n",
       "┃\u001b[1m \u001b[0m\u001b[1mevent\u001b[0m\u001b[1m            \u001b[0m\u001b[1m \u001b[0m┃\u001b[1m \u001b[0m\u001b[1mresult\u001b[0m\u001b[1m \u001b[0m┃\u001b[1m \u001b[0m\u001b[1mtime_control\u001b[0m\u001b[1m \u001b[0m┃\u001b[1m \u001b[0m\u001b[1mtermination\u001b[0m\u001b[1m \u001b[0m\u001b[1m \u001b[0m┃\u001b[1m \u001b[0m\u001b[1mwhite_title\u001b[0m\u001b[1m \u001b[0m┃\u001b[1m \u001b[0m\u001b[1mblack_title\u001b[0m\u001b[1m \u001b[0m┃\u001b[1m \u001b[0m\u001b[1mwhite_rating\u001b[0m\u001b[1m \u001b[0m┃\u001b[1m \u001b[0m\u001b[1mblack_rating\u001b[0m\u001b[1m \u001b[0m┃\n",
       "┡━━━━━━━━━━━━━━━━━━━╇━━━━━━━━╇━━━━━━━━━━━━━━╇━━━━━━━━━━━━━━╇━━━━━━━━━━━━━╇━━━━━━━━━━━━━╇━━━━━━━━━━━━━━╇━━━━━━━━━━━━━━┩\n",
       "│ \u001b[2mstring\u001b[0m            │ \u001b[2mstring\u001b[0m │ \u001b[2mstring\u001b[0m       │ \u001b[2mstring\u001b[0m       │ \u001b[2mstring\u001b[0m      │ \u001b[2mstring\u001b[0m      │ \u001b[2mint64\u001b[0m        │ \u001b[2mint64\u001b[0m        │\n",
       "├───────────────────┼────────┼──────────────┼──────────────┼─────────────┼─────────────┼──────────────┼──────────────┤\n",
       "│ \u001b[32mRated Bullet game\u001b[0m │ \u001b[32m0-1   \u001b[0m │ \u001b[32m30+0        \u001b[0m │ \u001b[32mNormal      \u001b[0m │ \u001b[32mGM         \u001b[0m │ \u001b[2mNULL\u001b[0m        │         \u001b[1;36m3298\u001b[0m │         \u001b[1;36m3039\u001b[0m │\n",
       "│ \u001b[32mRated Bullet game\u001b[0m │ \u001b[32m0-1   \u001b[0m │ \u001b[32m60+0        \u001b[0m │ \u001b[32mTime forfeit\u001b[0m │ \u001b[32mGM         \u001b[0m │ \u001b[32mIM         \u001b[0m │         \u001b[1;36m3295\u001b[0m │         \u001b[1;36m2967\u001b[0m │\n",
       "│ \u001b[32mRated Bullet game\u001b[0m │ \u001b[32m0-1   \u001b[0m │ \u001b[32m60+0        \u001b[0m │ \u001b[32mNormal      \u001b[0m │ \u001b[32mGM         \u001b[0m │ \u001b[2mNULL\u001b[0m        │         \u001b[1;36m3294\u001b[0m │         \u001b[1;36m2998\u001b[0m │\n",
       "│ \u001b[32mRated Bullet game\u001b[0m │ \u001b[32m0-1   \u001b[0m │ \u001b[32m30+0        \u001b[0m │ \u001b[32mTime forfeit\u001b[0m │ \u001b[32mGM         \u001b[0m │ \u001b[2mNULL\u001b[0m        │         \u001b[1;36m3291\u001b[0m │         \u001b[1;36m3040\u001b[0m │\n",
       "│ \u001b[32mRated Rapid game \u001b[0m │ \u001b[32m0-1   \u001b[0m │ \u001b[32m480+3       \u001b[0m │ \u001b[32mTime forfeit\u001b[0m │ \u001b[32mBOT        \u001b[0m │ \u001b[32mBOT        \u001b[0m │         \u001b[1;36m3233\u001b[0m │         \u001b[1;36m2889\u001b[0m │\n",
       "│ \u001b[32mRated Bullet game\u001b[0m │ \u001b[32m0-1   \u001b[0m │ \u001b[32m60+0        \u001b[0m │ \u001b[32mNormal      \u001b[0m │ \u001b[2mNULL\u001b[0m        │ \u001b[32mIM         \u001b[0m │         \u001b[1;36m3189\u001b[0m │         \u001b[1;36m2851\u001b[0m │\n",
       "│ \u001b[32mRated Bullet game\u001b[0m │ \u001b[32m0-1   \u001b[0m │ \u001b[32m60+0        \u001b[0m │ \u001b[32mNormal      \u001b[0m │ \u001b[2mNULL\u001b[0m        │ \u001b[2mNULL\u001b[0m        │         \u001b[1;36m3169\u001b[0m │         \u001b[1;36m2928\u001b[0m │\n",
       "│ \u001b[32mRated Bullet game\u001b[0m │ \u001b[32m0-1   \u001b[0m │ \u001b[32m60+0        \u001b[0m │ \u001b[32mNormal      \u001b[0m │ \u001b[2mNULL\u001b[0m        │ \u001b[2mNULL\u001b[0m        │         \u001b[1;36m3166\u001b[0m │         \u001b[1;36m2915\u001b[0m │\n",
       "│ \u001b[32mRated Bullet game\u001b[0m │ \u001b[32m0-1   \u001b[0m │ \u001b[32m60+0        \u001b[0m │ \u001b[32mTime forfeit\u001b[0m │ \u001b[2mNULL\u001b[0m        │ \u001b[2mNULL\u001b[0m        │         \u001b[1;36m3150\u001b[0m │         \u001b[1;36m2911\u001b[0m │\n",
       "│ \u001b[32mRated Bullet game\u001b[0m │ \u001b[32m0-1   \u001b[0m │ \u001b[32m60+0        \u001b[0m │ \u001b[32mNormal      \u001b[0m │ \u001b[2mNULL\u001b[0m        │ \u001b[2mNULL\u001b[0m        │         \u001b[1;36m3150\u001b[0m │         \u001b[1;36m3042\u001b[0m │\n",
       "│ \u001b[2m…\u001b[0m                 │ \u001b[2m…\u001b[0m      │ \u001b[2m…\u001b[0m            │ \u001b[2m…\u001b[0m            │ \u001b[2m…\u001b[0m           │ \u001b[2m…\u001b[0m           │            \u001b[2m…\u001b[0m │            \u001b[2m…\u001b[0m │\n",
       "└───────────────────┴────────┴──────────────┴──────────────┴─────────────┴─────────────┴──────────────┴──────────────┘"
      ]
     },
     "execution_count": 30,
     "metadata": {},
     "output_type": "execute_result"
    }
   ],
   "source": [
    "# %load solutions/nb01_ex02.py\n",
    "games_selected_columns.filter(_.result == \"0-1\").order_by(_.white_rating.desc())\n"
   ]
  },
  {
   "cell_type": "markdown",
   "metadata": {},
   "source": [
    "### Exercise 3\n",
    "Can you combine what you've learned so far with `cases` ( https://ibis-project.org/reference/expression-generic.html#ibis.expr.types.generic.Value.cases ) to show the 10 biggest upsets? By \"upsets\", we mean that the winner's rating is much lower than the loser's rating. Just ignore the games that ended in a draw (1/2-1/2)."
   ]
  },
  {
   "cell_type": "code",
   "execution_count": null,
   "metadata": {},
   "outputs": [],
   "source": [
    "# Write your solution here\n"
   ]
  },
  {
   "cell_type": "markdown",
   "metadata": {},
   "source": [
    "#### Solution 3"
   ]
  },
  {
   "cell_type": "code",
   "execution_count": 32,
   "metadata": {},
   "outputs": [
    {
     "data": {
      "text/html": [
       "<pre style=\"white-space:pre;overflow-x:auto;line-height:normal;font-family:Menlo,'DejaVu Sans Mono',consolas,'Courier New',monospace\">┏━━━━━━━━━━━━━━━━━━━━━━━━━━━━━━━━━━━━━━━━━━━━━━━━━━━━━━━━━━━━━━━━━┳━━━━━━━━┳━━━━━━━━━━━━━━┳━━━━━━━━━━━━━━┳━━━━━━━━━━━━━┳━━━━━━━━━━━━━┳━━━━━━━━━━━━━━┳━━━━━━━━━━━━━━┳━━━━━━━━━━━━━━━┓\n",
       "┃<span style=\"font-weight: bold\"> event                                                           </span>┃<span style=\"font-weight: bold\"> result </span>┃<span style=\"font-weight: bold\"> time_control </span>┃<span style=\"font-weight: bold\"> termination  </span>┃<span style=\"font-weight: bold\"> white_title </span>┃<span style=\"font-weight: bold\"> black_title </span>┃<span style=\"font-weight: bold\"> white_rating </span>┃<span style=\"font-weight: bold\"> black_rating </span>┃<span style=\"font-weight: bold\"> winner_margin </span>┃\n",
       "┡━━━━━━━━━━━━━━━━━━━━━━━━━━━━━━━━━━━━━━━━━━━━━━━━━━━━━━━━━━━━━━━━━╇━━━━━━━━╇━━━━━━━━━━━━━━╇━━━━━━━━━━━━━━╇━━━━━━━━━━━━━╇━━━━━━━━━━━━━╇━━━━━━━━━━━━━━╇━━━━━━━━━━━━━━╇━━━━━━━━━━━━━━━┩\n",
       "│ <span style=\"color: #7f7f7f; text-decoration-color: #7f7f7f\">string</span>                                                          │ <span style=\"color: #7f7f7f; text-decoration-color: #7f7f7f\">string</span> │ <span style=\"color: #7f7f7f; text-decoration-color: #7f7f7f\">string</span>       │ <span style=\"color: #7f7f7f; text-decoration-color: #7f7f7f\">string</span>       │ <span style=\"color: #7f7f7f; text-decoration-color: #7f7f7f\">string</span>      │ <span style=\"color: #7f7f7f; text-decoration-color: #7f7f7f\">string</span>      │ <span style=\"color: #7f7f7f; text-decoration-color: #7f7f7f\">int64</span>        │ <span style=\"color: #7f7f7f; text-decoration-color: #7f7f7f\">int64</span>        │ <span style=\"color: #7f7f7f; text-decoration-color: #7f7f7f\">int64</span>         │\n",
       "├─────────────────────────────────────────────────────────────────┼────────┼──────────────┼──────────────┼─────────────┼─────────────┼──────────────┼──────────────┼───────────────┤\n",
       "│ <span style=\"color: #008000; text-decoration-color: #008000\">Rated Bullet game                                              </span> │ <span style=\"color: #008000; text-decoration-color: #008000\">1-0   </span> │ <span style=\"color: #008000; text-decoration-color: #008000\">60+0        </span> │ <span style=\"color: #008000; text-decoration-color: #008000\">Time forfeit</span> │ <span style=\"color: #7f7f7f; text-decoration-color: #7f7f7f\">NULL</span>        │ <span style=\"color: #7f7f7f; text-decoration-color: #7f7f7f\">NULL</span>        │          <span style=\"color: #008080; text-decoration-color: #008080; font-weight: bold\">435</span> │         <span style=\"color: #008080; text-decoration-color: #008080; font-weight: bold\">2853</span> │         <span style=\"color: #008080; text-decoration-color: #008080; font-weight: bold\">-2418</span> │\n",
       "│ <span style=\"color: #008000; text-decoration-color: #008000\">Rated Blitz tournament https://lichess.org/tournament/FITLxmYD </span> │ <span style=\"color: #008000; text-decoration-color: #008000\">1-0   </span> │ <span style=\"color: #008000; text-decoration-color: #008000\">180+2       </span> │ <span style=\"color: #008000; text-decoration-color: #008000\">Time forfeit</span> │ <span style=\"color: #7f7f7f; text-decoration-color: #7f7f7f\">NULL</span>        │ <span style=\"color: #7f7f7f; text-decoration-color: #7f7f7f\">NULL</span>        │          <span style=\"color: #008080; text-decoration-color: #008080; font-weight: bold\">500</span> │         <span style=\"color: #008080; text-decoration-color: #008080; font-weight: bold\">2295</span> │         <span style=\"color: #008080; text-decoration-color: #008080; font-weight: bold\">-1795</span> │\n",
       "│ <span style=\"color: #008000; text-decoration-color: #008000\">Rated Bullet tournament https://lichess.org/tournament/dcX8IvCg</span> │ <span style=\"color: #008000; text-decoration-color: #008000\">0-1   </span> │ <span style=\"color: #008000; text-decoration-color: #008000\">60+0        </span> │ <span style=\"color: #008000; text-decoration-color: #008000\">Time forfeit</span> │ <span style=\"color: #7f7f7f; text-decoration-color: #7f7f7f\">NULL</span>        │ <span style=\"color: #7f7f7f; text-decoration-color: #7f7f7f\">NULL</span>        │         <span style=\"color: #008080; text-decoration-color: #008080; font-weight: bold\">2381</span> │          <span style=\"color: #008080; text-decoration-color: #008080; font-weight: bold\">642</span> │         <span style=\"color: #008080; text-decoration-color: #008080; font-weight: bold\">-1739</span> │\n",
       "│ <span style=\"color: #008000; text-decoration-color: #008000\">Rated Bullet game                                              </span> │ <span style=\"color: #008000; text-decoration-color: #008000\">0-1   </span> │ <span style=\"color: #008000; text-decoration-color: #008000\">60+0        </span> │ <span style=\"color: #008000; text-decoration-color: #008000\">Normal      </span> │ <span style=\"color: #7f7f7f; text-decoration-color: #7f7f7f\">NULL</span>        │ <span style=\"color: #7f7f7f; text-decoration-color: #7f7f7f\">NULL</span>        │         <span style=\"color: #008080; text-decoration-color: #008080; font-weight: bold\">2089</span> │          <span style=\"color: #008080; text-decoration-color: #008080; font-weight: bold\">435</span> │         <span style=\"color: #008080; text-decoration-color: #008080; font-weight: bold\">-1654</span> │\n",
       "│ <span style=\"color: #008000; text-decoration-color: #008000\">Rated Blitz game                                               </span> │ <span style=\"color: #008000; text-decoration-color: #008000\">1-0   </span> │ <span style=\"color: #008000; text-decoration-color: #008000\">180+2       </span> │ <span style=\"color: #008000; text-decoration-color: #008000\">Normal      </span> │ <span style=\"color: #7f7f7f; text-decoration-color: #7f7f7f\">NULL</span>        │ <span style=\"color: #7f7f7f; text-decoration-color: #7f7f7f\">NULL</span>        │          <span style=\"color: #008080; text-decoration-color: #008080; font-weight: bold\">890</span> │         <span style=\"color: #008080; text-decoration-color: #008080; font-weight: bold\">2504</span> │         <span style=\"color: #008080; text-decoration-color: #008080; font-weight: bold\">-1614</span> │\n",
       "│ <span style=\"color: #008000; text-decoration-color: #008000\">Rated Bullet game                                              </span> │ <span style=\"color: #008000; text-decoration-color: #008000\">0-1   </span> │ <span style=\"color: #008000; text-decoration-color: #008000\">60+0        </span> │ <span style=\"color: #008000; text-decoration-color: #008000\">Normal      </span> │ <span style=\"color: #7f7f7f; text-decoration-color: #7f7f7f\">NULL</span>        │ <span style=\"color: #7f7f7f; text-decoration-color: #7f7f7f\">NULL</span>        │         <span style=\"color: #008080; text-decoration-color: #008080; font-weight: bold\">2902</span> │         <span style=\"color: #008080; text-decoration-color: #008080; font-weight: bold\">1348</span> │         <span style=\"color: #008080; text-decoration-color: #008080; font-weight: bold\">-1554</span> │\n",
       "│ <span style=\"color: #008000; text-decoration-color: #008000\">Rated Blitz tournament https://lichess.org/tournament/FITLxmYD </span> │ <span style=\"color: #008000; text-decoration-color: #008000\">0-1   </span> │ <span style=\"color: #008000; text-decoration-color: #008000\">180+2       </span> │ <span style=\"color: #008000; text-decoration-color: #008000\">Normal      </span> │ <span style=\"color: #7f7f7f; text-decoration-color: #7f7f7f\">NULL</span>        │ <span style=\"color: #7f7f7f; text-decoration-color: #7f7f7f\">NULL</span>        │         <span style=\"color: #008080; text-decoration-color: #008080; font-weight: bold\">2078</span> │          <span style=\"color: #008080; text-decoration-color: #008080; font-weight: bold\">568</span> │         <span style=\"color: #008080; text-decoration-color: #008080; font-weight: bold\">-1510</span> │\n",
       "│ <span style=\"color: #008000; text-decoration-color: #008000\">Rated Blitz game                                               </span> │ <span style=\"color: #008000; text-decoration-color: #008000\">1-0   </span> │ <span style=\"color: #008000; text-decoration-color: #008000\">300+0       </span> │ <span style=\"color: #008000; text-decoration-color: #008000\">Normal      </span> │ <span style=\"color: #7f7f7f; text-decoration-color: #7f7f7f\">NULL</span>        │ <span style=\"color: #7f7f7f; text-decoration-color: #7f7f7f\">NULL</span>        │          <span style=\"color: #008080; text-decoration-color: #008080; font-weight: bold\">791</span> │         <span style=\"color: #008080; text-decoration-color: #008080; font-weight: bold\">2266</span> │         <span style=\"color: #008080; text-decoration-color: #008080; font-weight: bold\">-1475</span> │\n",
       "│ <span style=\"color: #008000; text-decoration-color: #008000\">Rated Rapid game                                               </span> │ <span style=\"color: #008000; text-decoration-color: #008000\">1-0   </span> │ <span style=\"color: #008000; text-decoration-color: #008000\">600+5       </span> │ <span style=\"color: #008000; text-decoration-color: #008000\">Normal      </span> │ <span style=\"color: #7f7f7f; text-decoration-color: #7f7f7f\">NULL</span>        │ <span style=\"color: #7f7f7f; text-decoration-color: #7f7f7f\">NULL</span>        │         <span style=\"color: #008080; text-decoration-color: #008080; font-weight: bold\">1006</span> │         <span style=\"color: #008080; text-decoration-color: #008080; font-weight: bold\">2449</span> │         <span style=\"color: #008080; text-decoration-color: #008080; font-weight: bold\">-1443</span> │\n",
       "│ <span style=\"color: #008000; text-decoration-color: #008000\">Rated Bullet tournament https://lichess.org/tournament/kGpCCMyH</span> │ <span style=\"color: #008000; text-decoration-color: #008000\">1-0   </span> │ <span style=\"color: #008000; text-decoration-color: #008000\">60+0        </span> │ <span style=\"color: #008000; text-decoration-color: #008000\">Time forfeit</span> │ <span style=\"color: #7f7f7f; text-decoration-color: #7f7f7f\">NULL</span>        │ <span style=\"color: #7f7f7f; text-decoration-color: #7f7f7f\">NULL</span>        │          <span style=\"color: #008080; text-decoration-color: #008080; font-weight: bold\">791</span> │         <span style=\"color: #008080; text-decoration-color: #008080; font-weight: bold\">2199</span> │         <span style=\"color: #008080; text-decoration-color: #008080; font-weight: bold\">-1408</span> │\n",
       "│ <span style=\"color: #7f7f7f; text-decoration-color: #7f7f7f\">…</span>                                                               │ <span style=\"color: #7f7f7f; text-decoration-color: #7f7f7f\">…</span>      │ <span style=\"color: #7f7f7f; text-decoration-color: #7f7f7f\">…</span>            │ <span style=\"color: #7f7f7f; text-decoration-color: #7f7f7f\">…</span>            │ <span style=\"color: #7f7f7f; text-decoration-color: #7f7f7f\">…</span>           │ <span style=\"color: #7f7f7f; text-decoration-color: #7f7f7f\">…</span>           │            <span style=\"color: #7f7f7f; text-decoration-color: #7f7f7f\">…</span> │            <span style=\"color: #7f7f7f; text-decoration-color: #7f7f7f\">…</span> │             <span style=\"color: #7f7f7f; text-decoration-color: #7f7f7f\">…</span> │\n",
       "└─────────────────────────────────────────────────────────────────┴────────┴──────────────┴──────────────┴─────────────┴─────────────┴──────────────┴──────────────┴───────────────┘\n",
       "</pre>\n"
      ],
      "text/plain": [
       "┏━━━━━━━━━━━━━━━━━━━━━━━━━━━━━━━━━━━━━━━━━━━━━━━━━━━━━━━━━━━━━━━━━┳━━━━━━━━┳━━━━━━━━━━━━━━┳━━━━━━━━━━━━━━┳━━━━━━━━━━━━━┳━━━━━━━━━━━━━┳━━━━━━━━━━━━━━┳━━━━━━━━━━━━━━┳━━━━━━━━━━━━━━━┓\n",
       "┃\u001b[1m \u001b[0m\u001b[1mevent\u001b[0m\u001b[1m                                                          \u001b[0m\u001b[1m \u001b[0m┃\u001b[1m \u001b[0m\u001b[1mresult\u001b[0m\u001b[1m \u001b[0m┃\u001b[1m \u001b[0m\u001b[1mtime_control\u001b[0m\u001b[1m \u001b[0m┃\u001b[1m \u001b[0m\u001b[1mtermination\u001b[0m\u001b[1m \u001b[0m\u001b[1m \u001b[0m┃\u001b[1m \u001b[0m\u001b[1mwhite_title\u001b[0m\u001b[1m \u001b[0m┃\u001b[1m \u001b[0m\u001b[1mblack_title\u001b[0m\u001b[1m \u001b[0m┃\u001b[1m \u001b[0m\u001b[1mwhite_rating\u001b[0m\u001b[1m \u001b[0m┃\u001b[1m \u001b[0m\u001b[1mblack_rating\u001b[0m\u001b[1m \u001b[0m┃\u001b[1m \u001b[0m\u001b[1mwinner_margin\u001b[0m\u001b[1m \u001b[0m┃\n",
       "┡━━━━━━━━━━━━━━━━━━━━━━━━━━━━━━━━━━━━━━━━━━━━━━━━━━━━━━━━━━━━━━━━━╇━━━━━━━━╇━━━━━━━━━━━━━━╇━━━━━━━━━━━━━━╇━━━━━━━━━━━━━╇━━━━━━━━━━━━━╇━━━━━━━━━━━━━━╇━━━━━━━━━━━━━━╇━━━━━━━━━━━━━━━┩\n",
       "│ \u001b[2mstring\u001b[0m                                                          │ \u001b[2mstring\u001b[0m │ \u001b[2mstring\u001b[0m       │ \u001b[2mstring\u001b[0m       │ \u001b[2mstring\u001b[0m      │ \u001b[2mstring\u001b[0m      │ \u001b[2mint64\u001b[0m        │ \u001b[2mint64\u001b[0m        │ \u001b[2mint64\u001b[0m         │\n",
       "├─────────────────────────────────────────────────────────────────┼────────┼──────────────┼──────────────┼─────────────┼─────────────┼──────────────┼──────────────┼───────────────┤\n",
       "│ \u001b[32mRated Bullet game                                              \u001b[0m │ \u001b[32m1-0   \u001b[0m │ \u001b[32m60+0        \u001b[0m │ \u001b[32mTime forfeit\u001b[0m │ \u001b[2mNULL\u001b[0m        │ \u001b[2mNULL\u001b[0m        │          \u001b[1;36m435\u001b[0m │         \u001b[1;36m2853\u001b[0m │         \u001b[1;36m-2418\u001b[0m │\n",
       "│ \u001b[32mRated Blitz tournament https://lichess.org/tournament/FITLxmYD \u001b[0m │ \u001b[32m1-0   \u001b[0m │ \u001b[32m180+2       \u001b[0m │ \u001b[32mTime forfeit\u001b[0m │ \u001b[2mNULL\u001b[0m        │ \u001b[2mNULL\u001b[0m        │          \u001b[1;36m500\u001b[0m │         \u001b[1;36m2295\u001b[0m │         \u001b[1;36m-1795\u001b[0m │\n",
       "│ \u001b[32mRated Bullet tournament https://lichess.org/tournament/dcX8IvCg\u001b[0m │ \u001b[32m0-1   \u001b[0m │ \u001b[32m60+0        \u001b[0m │ \u001b[32mTime forfeit\u001b[0m │ \u001b[2mNULL\u001b[0m        │ \u001b[2mNULL\u001b[0m        │         \u001b[1;36m2381\u001b[0m │          \u001b[1;36m642\u001b[0m │         \u001b[1;36m-1739\u001b[0m │\n",
       "│ \u001b[32mRated Bullet game                                              \u001b[0m │ \u001b[32m0-1   \u001b[0m │ \u001b[32m60+0        \u001b[0m │ \u001b[32mNormal      \u001b[0m │ \u001b[2mNULL\u001b[0m        │ \u001b[2mNULL\u001b[0m        │         \u001b[1;36m2089\u001b[0m │          \u001b[1;36m435\u001b[0m │         \u001b[1;36m-1654\u001b[0m │\n",
       "│ \u001b[32mRated Blitz game                                               \u001b[0m │ \u001b[32m1-0   \u001b[0m │ \u001b[32m180+2       \u001b[0m │ \u001b[32mNormal      \u001b[0m │ \u001b[2mNULL\u001b[0m        │ \u001b[2mNULL\u001b[0m        │          \u001b[1;36m890\u001b[0m │         \u001b[1;36m2504\u001b[0m │         \u001b[1;36m-1614\u001b[0m │\n",
       "│ \u001b[32mRated Bullet game                                              \u001b[0m │ \u001b[32m0-1   \u001b[0m │ \u001b[32m60+0        \u001b[0m │ \u001b[32mNormal      \u001b[0m │ \u001b[2mNULL\u001b[0m        │ \u001b[2mNULL\u001b[0m        │         \u001b[1;36m2902\u001b[0m │         \u001b[1;36m1348\u001b[0m │         \u001b[1;36m-1554\u001b[0m │\n",
       "│ \u001b[32mRated Blitz tournament https://lichess.org/tournament/FITLxmYD \u001b[0m │ \u001b[32m0-1   \u001b[0m │ \u001b[32m180+2       \u001b[0m │ \u001b[32mNormal      \u001b[0m │ \u001b[2mNULL\u001b[0m        │ \u001b[2mNULL\u001b[0m        │         \u001b[1;36m2078\u001b[0m │          \u001b[1;36m568\u001b[0m │         \u001b[1;36m-1510\u001b[0m │\n",
       "│ \u001b[32mRated Blitz game                                               \u001b[0m │ \u001b[32m1-0   \u001b[0m │ \u001b[32m300+0       \u001b[0m │ \u001b[32mNormal      \u001b[0m │ \u001b[2mNULL\u001b[0m        │ \u001b[2mNULL\u001b[0m        │          \u001b[1;36m791\u001b[0m │         \u001b[1;36m2266\u001b[0m │         \u001b[1;36m-1475\u001b[0m │\n",
       "│ \u001b[32mRated Rapid game                                               \u001b[0m │ \u001b[32m1-0   \u001b[0m │ \u001b[32m600+5       \u001b[0m │ \u001b[32mNormal      \u001b[0m │ \u001b[2mNULL\u001b[0m        │ \u001b[2mNULL\u001b[0m        │         \u001b[1;36m1006\u001b[0m │         \u001b[1;36m2449\u001b[0m │         \u001b[1;36m-1443\u001b[0m │\n",
       "│ \u001b[32mRated Bullet tournament https://lichess.org/tournament/kGpCCMyH\u001b[0m │ \u001b[32m1-0   \u001b[0m │ \u001b[32m60+0        \u001b[0m │ \u001b[32mTime forfeit\u001b[0m │ \u001b[2mNULL\u001b[0m        │ \u001b[2mNULL\u001b[0m        │          \u001b[1;36m791\u001b[0m │         \u001b[1;36m2199\u001b[0m │         \u001b[1;36m-1408\u001b[0m │\n",
       "│ \u001b[2m…\u001b[0m                                                               │ \u001b[2m…\u001b[0m      │ \u001b[2m…\u001b[0m            │ \u001b[2m…\u001b[0m            │ \u001b[2m…\u001b[0m           │ \u001b[2m…\u001b[0m           │            \u001b[2m…\u001b[0m │            \u001b[2m…\u001b[0m │             \u001b[2m…\u001b[0m │\n",
       "└─────────────────────────────────────────────────────────────────┴────────┴──────────────┴──────────────┴─────────────┴─────────────┴──────────────┴──────────────┴───────────────┘"
      ]
     },
     "execution_count": 32,
     "metadata": {},
     "output_type": "execute_result"
    }
   ],
   "source": [
    "# %load solutions/nb01_ex03.py\n",
    "expr = games_selected_columns.mutate(\n",
    "    winner_margin=games_selected_columns.result.cases(\n",
    "        (\n",
    "            \"0-1\",\n",
    "            games_selected_columns.black_rating - games_selected_columns.white_rating,\n",
    "        ),\n",
    "        (\n",
    "            \"1-0\",\n",
    "            games_selected_columns.white_rating - games_selected_columns.black_rating,\n",
    "        ),\n",
    "    )\n",
    ").order_by(_.winner_margin)\n",
    "\n",
    "expr\n"
   ]
  },
  {
   "cell_type": "markdown",
   "metadata": {},
   "source": [
    "The deferred operator (`_`) really shines here, since it enables reference to a table object with no name. `\"winner_margin\"` isn't a column in `games_selected_columns`, so we wouldn't have been able to do this in one line of code otherwise."
   ]
  },
  {
   "cell_type": "code",
   "execution_count": 33,
   "metadata": {},
   "outputs": [
    {
     "data": {
      "text/markdown": [
       "```sql\n",
       "SELECT\n",
       "  \"t4\".\"event\",\n",
       "  \"t4\".\"result\",\n",
       "  \"t4\".\"time_control\",\n",
       "  \"t4\".\"termination\",\n",
       "  \"t4\".\"white_title\",\n",
       "  \"t4\".\"black_title\",\n",
       "  \"t4\".\"white_rating\",\n",
       "  \"t4\".\"black_rating\",\n",
       "  CASE \"t4\".\"result\"\n",
       "    WHEN '0-1'\n",
       "    THEN \"t4\".\"black_rating\" - \"t4\".\"white_rating\"\n",
       "    WHEN '1-0'\n",
       "    THEN \"t4\".\"white_rating\" - \"t4\".\"black_rating\"\n",
       "    ELSE NULL\n",
       "  END AS \"winner_margin\"\n",
       "FROM (\n",
       "  SELECT\n",
       "    \"t3\".*\n",
       "    EXCLUDE (\"black_elo\")\n",
       "  FROM (\n",
       "    SELECT\n",
       "      \"t2\".\"event\",\n",
       "      \"t2\".\"result\",\n",
       "      \"t2\".\"black_elo\",\n",
       "      \"t2\".\"time_control\",\n",
       "      \"t2\".\"termination\",\n",
       "      \"t2\".\"white_title\",\n",
       "      \"t2\".\"black_title\",\n",
       "      \"t2\".\"white_rating\",\n",
       "      TRY_CAST(\"t2\".\"black_elo\" AS BIGINT) AS \"black_rating\"\n",
       "    FROM (\n",
       "      SELECT\n",
       "        \"t1\".*\n",
       "        EXCLUDE (\"white_elo\")\n",
       "      FROM (\n",
       "        SELECT\n",
       "          \"t0\".\"event\",\n",
       "          \"t0\".\"result\",\n",
       "          \"t0\".\"white_elo\",\n",
       "          \"t0\".\"black_elo\",\n",
       "          \"t0\".\"time_control\",\n",
       "          \"t0\".\"termination\",\n",
       "          \"t0\".\"white_title\",\n",
       "          \"t0\".\"black_title\",\n",
       "          TRY_CAST(\"t0\".\"white_elo\" AS BIGINT) AS \"white_rating\"\n",
       "        FROM \"ibis_read_parquet_wywsvl3r3zbvpkb5y7f6s7wkdy\" AS \"t0\"\n",
       "      ) AS \"t1\"\n",
       "    ) AS \"t2\"\n",
       "  ) AS \"t3\"\n",
       ") AS \"t4\"\n",
       "ORDER BY\n",
       "  CASE \"t4\".\"result\"\n",
       "    WHEN '0-1'\n",
       "    THEN \"t4\".\"black_rating\" - \"t4\".\"white_rating\"\n",
       "    WHEN '1-0'\n",
       "    THEN \"t4\".\"white_rating\" - \"t4\".\"black_rating\"\n",
       "    ELSE NULL\n",
       "  END ASC\n",
       "```"
      ],
      "text/plain": [
       "\u001b[34mSELECT\u001b[39;49;00m\u001b[37m\u001b[39;49;00m\n",
       "\u001b[37m  \u001b[39;49;00m\u001b[33m\"t4\"\u001b[39;49;00m.\u001b[33m\"event\"\u001b[39;49;00m,\u001b[37m\u001b[39;49;00m\n",
       "\u001b[37m  \u001b[39;49;00m\u001b[33m\"t4\"\u001b[39;49;00m.\u001b[33m\"result\"\u001b[39;49;00m,\u001b[37m\u001b[39;49;00m\n",
       "\u001b[37m  \u001b[39;49;00m\u001b[33m\"t4\"\u001b[39;49;00m.\u001b[33m\"time_control\"\u001b[39;49;00m,\u001b[37m\u001b[39;49;00m\n",
       "\u001b[37m  \u001b[39;49;00m\u001b[33m\"t4\"\u001b[39;49;00m.\u001b[33m\"termination\"\u001b[39;49;00m,\u001b[37m\u001b[39;49;00m\n",
       "\u001b[37m  \u001b[39;49;00m\u001b[33m\"t4\"\u001b[39;49;00m.\u001b[33m\"white_title\"\u001b[39;49;00m,\u001b[37m\u001b[39;49;00m\n",
       "\u001b[37m  \u001b[39;49;00m\u001b[33m\"t4\"\u001b[39;49;00m.\u001b[33m\"black_title\"\u001b[39;49;00m,\u001b[37m\u001b[39;49;00m\n",
       "\u001b[37m  \u001b[39;49;00m\u001b[33m\"t4\"\u001b[39;49;00m.\u001b[33m\"white_rating\"\u001b[39;49;00m,\u001b[37m\u001b[39;49;00m\n",
       "\u001b[37m  \u001b[39;49;00m\u001b[33m\"t4\"\u001b[39;49;00m.\u001b[33m\"black_rating\"\u001b[39;49;00m,\u001b[37m\u001b[39;49;00m\n",
       "\u001b[37m  \u001b[39;49;00m\u001b[34mCASE\u001b[39;49;00m\u001b[37m \u001b[39;49;00m\u001b[33m\"t4\"\u001b[39;49;00m.\u001b[33m\"result\"\u001b[39;49;00m\u001b[37m\u001b[39;49;00m\n",
       "\u001b[37m    \u001b[39;49;00m\u001b[34mWHEN\u001b[39;49;00m\u001b[37m \u001b[39;49;00m\u001b[33m'0-1'\u001b[39;49;00m\u001b[37m\u001b[39;49;00m\n",
       "\u001b[37m    \u001b[39;49;00m\u001b[34mTHEN\u001b[39;49;00m\u001b[37m \u001b[39;49;00m\u001b[33m\"t4\"\u001b[39;49;00m.\u001b[33m\"black_rating\"\u001b[39;49;00m\u001b[37m \u001b[39;49;00m-\u001b[37m \u001b[39;49;00m\u001b[33m\"t4\"\u001b[39;49;00m.\u001b[33m\"white_rating\"\u001b[39;49;00m\u001b[37m\u001b[39;49;00m\n",
       "\u001b[37m    \u001b[39;49;00m\u001b[34mWHEN\u001b[39;49;00m\u001b[37m \u001b[39;49;00m\u001b[33m'1-0'\u001b[39;49;00m\u001b[37m\u001b[39;49;00m\n",
       "\u001b[37m    \u001b[39;49;00m\u001b[34mTHEN\u001b[39;49;00m\u001b[37m \u001b[39;49;00m\u001b[33m\"t4\"\u001b[39;49;00m.\u001b[33m\"white_rating\"\u001b[39;49;00m\u001b[37m \u001b[39;49;00m-\u001b[37m \u001b[39;49;00m\u001b[33m\"t4\"\u001b[39;49;00m.\u001b[33m\"black_rating\"\u001b[39;49;00m\u001b[37m\u001b[39;49;00m\n",
       "\u001b[37m    \u001b[39;49;00m\u001b[34mELSE\u001b[39;49;00m\u001b[37m \u001b[39;49;00m\u001b[34mNULL\u001b[39;49;00m\u001b[37m\u001b[39;49;00m\n",
       "\u001b[37m  \u001b[39;49;00m\u001b[34mEND\u001b[39;49;00m\u001b[37m \u001b[39;49;00m\u001b[34mAS\u001b[39;49;00m\u001b[37m \u001b[39;49;00m\u001b[33m\"winner_margin\"\u001b[39;49;00m\u001b[37m\u001b[39;49;00m\n",
       "\u001b[34mFROM\u001b[39;49;00m\u001b[37m \u001b[39;49;00m(\u001b[37m\u001b[39;49;00m\n",
       "\u001b[37m  \u001b[39;49;00m\u001b[34mSELECT\u001b[39;49;00m\u001b[37m\u001b[39;49;00m\n",
       "\u001b[37m    \u001b[39;49;00m\u001b[33m\"t3\"\u001b[39;49;00m.*\u001b[37m\u001b[39;49;00m\n",
       "\u001b[37m    \u001b[39;49;00mEXCLUDE\u001b[37m \u001b[39;49;00m(\u001b[33m\"black_elo\"\u001b[39;49;00m)\u001b[37m\u001b[39;49;00m\n",
       "\u001b[37m  \u001b[39;49;00m\u001b[34mFROM\u001b[39;49;00m\u001b[37m \u001b[39;49;00m(\u001b[37m\u001b[39;49;00m\n",
       "\u001b[37m    \u001b[39;49;00m\u001b[34mSELECT\u001b[39;49;00m\u001b[37m\u001b[39;49;00m\n",
       "\u001b[37m      \u001b[39;49;00m\u001b[33m\"t2\"\u001b[39;49;00m.\u001b[33m\"event\"\u001b[39;49;00m,\u001b[37m\u001b[39;49;00m\n",
       "\u001b[37m      \u001b[39;49;00m\u001b[33m\"t2\"\u001b[39;49;00m.\u001b[33m\"result\"\u001b[39;49;00m,\u001b[37m\u001b[39;49;00m\n",
       "\u001b[37m      \u001b[39;49;00m\u001b[33m\"t2\"\u001b[39;49;00m.\u001b[33m\"black_elo\"\u001b[39;49;00m,\u001b[37m\u001b[39;49;00m\n",
       "\u001b[37m      \u001b[39;49;00m\u001b[33m\"t2\"\u001b[39;49;00m.\u001b[33m\"time_control\"\u001b[39;49;00m,\u001b[37m\u001b[39;49;00m\n",
       "\u001b[37m      \u001b[39;49;00m\u001b[33m\"t2\"\u001b[39;49;00m.\u001b[33m\"termination\"\u001b[39;49;00m,\u001b[37m\u001b[39;49;00m\n",
       "\u001b[37m      \u001b[39;49;00m\u001b[33m\"t2\"\u001b[39;49;00m.\u001b[33m\"white_title\"\u001b[39;49;00m,\u001b[37m\u001b[39;49;00m\n",
       "\u001b[37m      \u001b[39;49;00m\u001b[33m\"t2\"\u001b[39;49;00m.\u001b[33m\"black_title\"\u001b[39;49;00m,\u001b[37m\u001b[39;49;00m\n",
       "\u001b[37m      \u001b[39;49;00m\u001b[33m\"t2\"\u001b[39;49;00m.\u001b[33m\"white_rating\"\u001b[39;49;00m,\u001b[37m\u001b[39;49;00m\n",
       "\u001b[37m      \u001b[39;49;00mTRY_CAST(\u001b[33m\"t2\"\u001b[39;49;00m.\u001b[33m\"black_elo\"\u001b[39;49;00m\u001b[37m \u001b[39;49;00m\u001b[34mAS\u001b[39;49;00m\u001b[37m \u001b[39;49;00m\u001b[36mBIGINT\u001b[39;49;00m)\u001b[37m \u001b[39;49;00m\u001b[34mAS\u001b[39;49;00m\u001b[37m \u001b[39;49;00m\u001b[33m\"black_rating\"\u001b[39;49;00m\u001b[37m\u001b[39;49;00m\n",
       "\u001b[37m    \u001b[39;49;00m\u001b[34mFROM\u001b[39;49;00m\u001b[37m \u001b[39;49;00m(\u001b[37m\u001b[39;49;00m\n",
       "\u001b[37m      \u001b[39;49;00m\u001b[34mSELECT\u001b[39;49;00m\u001b[37m\u001b[39;49;00m\n",
       "\u001b[37m        \u001b[39;49;00m\u001b[33m\"t1\"\u001b[39;49;00m.*\u001b[37m\u001b[39;49;00m\n",
       "\u001b[37m        \u001b[39;49;00mEXCLUDE\u001b[37m \u001b[39;49;00m(\u001b[33m\"white_elo\"\u001b[39;49;00m)\u001b[37m\u001b[39;49;00m\n",
       "\u001b[37m      \u001b[39;49;00m\u001b[34mFROM\u001b[39;49;00m\u001b[37m \u001b[39;49;00m(\u001b[37m\u001b[39;49;00m\n",
       "\u001b[37m        \u001b[39;49;00m\u001b[34mSELECT\u001b[39;49;00m\u001b[37m\u001b[39;49;00m\n",
       "\u001b[37m          \u001b[39;49;00m\u001b[33m\"t0\"\u001b[39;49;00m.\u001b[33m\"event\"\u001b[39;49;00m,\u001b[37m\u001b[39;49;00m\n",
       "\u001b[37m          \u001b[39;49;00m\u001b[33m\"t0\"\u001b[39;49;00m.\u001b[33m\"result\"\u001b[39;49;00m,\u001b[37m\u001b[39;49;00m\n",
       "\u001b[37m          \u001b[39;49;00m\u001b[33m\"t0\"\u001b[39;49;00m.\u001b[33m\"white_elo\"\u001b[39;49;00m,\u001b[37m\u001b[39;49;00m\n",
       "\u001b[37m          \u001b[39;49;00m\u001b[33m\"t0\"\u001b[39;49;00m.\u001b[33m\"black_elo\"\u001b[39;49;00m,\u001b[37m\u001b[39;49;00m\n",
       "\u001b[37m          \u001b[39;49;00m\u001b[33m\"t0\"\u001b[39;49;00m.\u001b[33m\"time_control\"\u001b[39;49;00m,\u001b[37m\u001b[39;49;00m\n",
       "\u001b[37m          \u001b[39;49;00m\u001b[33m\"t0\"\u001b[39;49;00m.\u001b[33m\"termination\"\u001b[39;49;00m,\u001b[37m\u001b[39;49;00m\n",
       "\u001b[37m          \u001b[39;49;00m\u001b[33m\"t0\"\u001b[39;49;00m.\u001b[33m\"white_title\"\u001b[39;49;00m,\u001b[37m\u001b[39;49;00m\n",
       "\u001b[37m          \u001b[39;49;00m\u001b[33m\"t0\"\u001b[39;49;00m.\u001b[33m\"black_title\"\u001b[39;49;00m,\u001b[37m\u001b[39;49;00m\n",
       "\u001b[37m          \u001b[39;49;00mTRY_CAST(\u001b[33m\"t0\"\u001b[39;49;00m.\u001b[33m\"white_elo\"\u001b[39;49;00m\u001b[37m \u001b[39;49;00m\u001b[34mAS\u001b[39;49;00m\u001b[37m \u001b[39;49;00m\u001b[36mBIGINT\u001b[39;49;00m)\u001b[37m \u001b[39;49;00m\u001b[34mAS\u001b[39;49;00m\u001b[37m \u001b[39;49;00m\u001b[33m\"white_rating\"\u001b[39;49;00m\u001b[37m\u001b[39;49;00m\n",
       "\u001b[37m        \u001b[39;49;00m\u001b[34mFROM\u001b[39;49;00m\u001b[37m \u001b[39;49;00m\u001b[33m\"ibis_read_parquet_wywsvl3r3zbvpkb5y7f6s7wkdy\"\u001b[39;49;00m\u001b[37m \u001b[39;49;00m\u001b[34mAS\u001b[39;49;00m\u001b[37m \u001b[39;49;00m\u001b[33m\"t0\"\u001b[39;49;00m\u001b[37m\u001b[39;49;00m\n",
       "\u001b[37m      \u001b[39;49;00m)\u001b[37m \u001b[39;49;00m\u001b[34mAS\u001b[39;49;00m\u001b[37m \u001b[39;49;00m\u001b[33m\"t1\"\u001b[39;49;00m\u001b[37m\u001b[39;49;00m\n",
       "\u001b[37m    \u001b[39;49;00m)\u001b[37m \u001b[39;49;00m\u001b[34mAS\u001b[39;49;00m\u001b[37m \u001b[39;49;00m\u001b[33m\"t2\"\u001b[39;49;00m\u001b[37m\u001b[39;49;00m\n",
       "\u001b[37m  \u001b[39;49;00m)\u001b[37m \u001b[39;49;00m\u001b[34mAS\u001b[39;49;00m\u001b[37m \u001b[39;49;00m\u001b[33m\"t3\"\u001b[39;49;00m\u001b[37m\u001b[39;49;00m\n",
       ")\u001b[37m \u001b[39;49;00m\u001b[34mAS\u001b[39;49;00m\u001b[37m \u001b[39;49;00m\u001b[33m\"t4\"\u001b[39;49;00m\u001b[37m\u001b[39;49;00m\n",
       "\u001b[34mORDER\u001b[39;49;00m\u001b[37m \u001b[39;49;00m\u001b[34mBY\u001b[39;49;00m\u001b[37m\u001b[39;49;00m\n",
       "\u001b[37m  \u001b[39;49;00m\u001b[34mCASE\u001b[39;49;00m\u001b[37m \u001b[39;49;00m\u001b[33m\"t4\"\u001b[39;49;00m.\u001b[33m\"result\"\u001b[39;49;00m\u001b[37m\u001b[39;49;00m\n",
       "\u001b[37m    \u001b[39;49;00m\u001b[34mWHEN\u001b[39;49;00m\u001b[37m \u001b[39;49;00m\u001b[33m'0-1'\u001b[39;49;00m\u001b[37m\u001b[39;49;00m\n",
       "\u001b[37m    \u001b[39;49;00m\u001b[34mTHEN\u001b[39;49;00m\u001b[37m \u001b[39;49;00m\u001b[33m\"t4\"\u001b[39;49;00m.\u001b[33m\"black_rating\"\u001b[39;49;00m\u001b[37m \u001b[39;49;00m-\u001b[37m \u001b[39;49;00m\u001b[33m\"t4\"\u001b[39;49;00m.\u001b[33m\"white_rating\"\u001b[39;49;00m\u001b[37m\u001b[39;49;00m\n",
       "\u001b[37m    \u001b[39;49;00m\u001b[34mWHEN\u001b[39;49;00m\u001b[37m \u001b[39;49;00m\u001b[33m'1-0'\u001b[39;49;00m\u001b[37m\u001b[39;49;00m\n",
       "\u001b[37m    \u001b[39;49;00m\u001b[34mTHEN\u001b[39;49;00m\u001b[37m \u001b[39;49;00m\u001b[33m\"t4\"\u001b[39;49;00m.\u001b[33m\"white_rating\"\u001b[39;49;00m\u001b[37m \u001b[39;49;00m-\u001b[37m \u001b[39;49;00m\u001b[33m\"t4\"\u001b[39;49;00m.\u001b[33m\"black_rating\"\u001b[39;49;00m\u001b[37m\u001b[39;49;00m\n",
       "\u001b[37m    \u001b[39;49;00m\u001b[34mELSE\u001b[39;49;00m\u001b[37m \u001b[39;49;00m\u001b[34mNULL\u001b[39;49;00m\u001b[37m\u001b[39;49;00m\n",
       "\u001b[37m  \u001b[39;49;00m\u001b[34mEND\u001b[39;49;00m\u001b[37m \u001b[39;49;00m\u001b[34mASC\u001b[39;49;00m\u001b[37m\u001b[39;49;00m"
      ]
     },
     "execution_count": 33,
     "metadata": {},
     "output_type": "execute_result"
    }
   ],
   "source": [
    "ibis.to_sql(expr)"
   ]
  },
  {
   "cell_type": "markdown",
   "metadata": {},
   "source": [
    "If you came up with a different solution, it's possible that the generated SQL (`ibis.to_sql()`) is slightly different. In practice, small differences in the generated SQL don't make a difference. Any modern SQL execution engine will optimize execution of queries containing variations of the same set of operations, and there will be no measurable performance difference.\n",
    "\n",
    "## Aggregate\n",
    "\n",
    "Ibis has several aggregate functions available to help summarize data.  All the old favorites are there: `mean`, `max`, `min`, `count`, `sum`...\n",
    "\n",
    "You can aggregate a column by calling the method on that column:"
   ]
  },
  {
   "cell_type": "code",
   "execution_count": null,
   "metadata": {},
   "outputs": [],
   "source": [
    "games_selected_columns.white_rating.mean()"
   ]
  },
  {
   "cell_type": "markdown",
   "metadata": {},
   "source": [
    "There's also an `aggregate` function (also affectionately known as `agg`). Aggregates really shine when paired with a `group_by`.\n",
    "\n",
    "# Group by\n",
    "\n",
    "`group_by` creates groupings of rows that have the same value for one or more columns. But it doesn't do much on its own; instead, you can pair it an aggregate function to get a result:"
   ]
  },
  {
   "cell_type": "code",
   "execution_count": null,
   "metadata": {},
   "outputs": [],
   "source": [
    "games_selected_columns.group_by(\"white_title\").count().to_pandas()"
   ]
  },
  {
   "cell_type": "markdown",
   "metadata": {},
   "source": [
    "Using just `agg` without any aggregate function specified gives us the distinct values (or pairs or sets of values) of the grouped column(s):"
   ]
  },
  {
   "cell_type": "code",
   "execution_count": null,
   "metadata": {},
   "outputs": [],
   "source": [
    "games_selected_columns.group_by(\"white_title\", \"termination\").agg().to_pandas()"
   ]
  },
  {
   "cell_type": "markdown",
   "metadata": {},
   "source": [
    "Or we can pass an aggregate function to `agg`. This is also compatible with more method chaining after the `agg` call!"
   ]
  },
  {
   "cell_type": "code",
   "execution_count": null,
   "metadata": {},
   "outputs": [],
   "source": [
    "games_selected_columns.group_by(\"white_title\").agg(_.white_rating.mean()).order_by(\n",
    "    ibis.desc(\"Mean(white_rating)\")\n",
    ")"
   ]
  },
  {
   "cell_type": "markdown",
   "metadata": {},
   "source": [
    "With `agg`, we also don't have to stick with the default aggregate data column names:"
   ]
  },
  {
   "cell_type": "code",
   "execution_count": null,
   "metadata": {},
   "outputs": [],
   "source": [
    "games_selected_columns.group_by(\"white_title\").agg(\n",
    "    average_white_rating=_.white_rating.mean()\n",
    ").order_by(ibis.desc(\"average_white_rating\"))"
   ]
  },
  {
   "cell_type": "markdown",
   "metadata": {},
   "source": [
    "### Exercise 4\n",
    "What was the distribution of results in games (number of white wins, black wins, and draws) involving at least one grandmaster (\"GM\")?"
   ]
  },
  {
   "cell_type": "code",
   "execution_count": null,
   "metadata": {},
   "outputs": [],
   "source": [
    "# Write your solution here\n"
   ]
  },
  {
   "cell_type": "markdown",
   "metadata": {},
   "source": [
    "#### Solution"
   ]
  },
  {
   "cell_type": "code",
   "execution_count": null,
   "metadata": {},
   "outputs": [],
   "source": [
    "%load solutions/nb01_ex04.py"
   ]
  },
  {
   "cell_type": "markdown",
   "metadata": {},
   "source": [
    "Let's compare that to games where both players were untitled."
   ]
  },
  {
   "cell_type": "code",
   "execution_count": null,
   "metadata": {},
   "outputs": [],
   "source": [
    "%load solutions/nb01_ex05.py"
   ]
  },
  {
   "cell_type": "markdown",
   "metadata": {},
   "source": [
    "Finally, let's use `group_by` and `agg` to get a better understanding of the `time_control` column."
   ]
  },
  {
   "cell_type": "code",
   "execution_count": null,
   "metadata": {},
   "outputs": [],
   "source": [
    "split_index = games_selected_columns.time_control.find(\"+\")\n",
    "base_time = games_selected_columns.time_control.substr(0, split_index).try_cast(int)\n",
    "increment = games_selected_columns.time_control.substr(split_index + 1).try_cast(int)\n",
    "games_effective_time = games_selected_columns.mutate(\n",
    "    effective_time_control=(base_time + 40 * increment) / 60\n",
    ")"
   ]
  },
  {
   "cell_type": "code",
   "execution_count": null,
   "metadata": {},
   "outputs": [],
   "source": [
    "expr = games_effective_time.filter(\n",
    "    ~(_.event.contains(\"tournament\")), ~(_.event.contains(\"swiss\"))\n",
    ").group_by(\"event\")\n",
    "expr.agg(\n",
    "    min_eff_time=_.effective_time_control.min(),\n",
    "    max_eff_time=_.effective_time_control.max(),\n",
    ").order_by(_.max_eff_time)"
   ]
  },
  {
   "cell_type": "code",
   "execution_count": null,
   "metadata": {},
   "outputs": [],
   "source": []
  },
  {
   "cell_type": "code",
   "execution_count": null,
   "metadata": {},
   "outputs": [],
   "source": [
    "white_counts = games.white.value_counts()\n",
    "white_counts.order_by(_.white_count.desc())"
   ]
  },
  {
   "cell_type": "code",
   "execution_count": null,
   "metadata": {},
   "outputs": [],
   "source": [
    "black_counts = games.black.value_counts()\n",
    "black_counts.order_by(_.black_count.desc())"
   ]
  },
  {
   "cell_type": "code",
   "execution_count": null,
   "metadata": {},
   "outputs": [],
   "source": [
    "joined_counts = white_counts.outer_join(\n",
    "    black_counts, (white_counts.white == black_counts.black)\n",
    ")\n",
    "expr = joined_counts.mutate(\n",
    "    total_games=_.white_count.fill_null(0) + _.black_count.fill_null(0)\n",
    ").order_by(_.total_games.desc())\n",
    "\n",
    "expr"
   ]
  },
  {
   "cell_type": "code",
   "execution_count": null,
   "metadata": {},
   "outputs": [],
   "source": [
    "ibis.to_sql(expr)"
   ]
  }
 ],
 "metadata": {
  "kernelspec": {
   "display_name": ".venv",
   "language": "python",
   "name": "python3"
  },
  "language_info": {
   "codemirror_mode": {
    "name": "ipython",
    "version": 3
   },
   "file_extension": ".py",
   "mimetype": "text/x-python",
   "name": "python",
   "nbconvert_exporter": "python",
   "pygments_lexer": "ipython3",
   "version": "3.12.10"
  }
 },
 "nbformat": 4,
 "nbformat_minor": 4
}
