{
 "cells": [
  {
   "cell_type": "markdown",
   "metadata": {},
   "source": [
    "# Motivation\n",
    "Tools such as pandas assume that you can fit all of your data in RAM on your local machine. But data often lives in data warehouses, so we end up trying to:\n",
    "* Download significant amounts of data onto our local machines and slurp it all up into memory\n",
    "* Experiment with it and develop a proof-of-concept in Python\n",
    "* When we need productionize it, rewrite the code in something more scalable\n",
    "\n",
    "Data warehouses are typically stored on something bigger and more powerful than my laptop, plus the data is already there. They also have SQL backends that are highly optimized/extremely fast. So ideally we'd want to:\n",
    "* Take a small sample of the data and load it using a local database such as DuckDB\n",
    "* Develop in Python, but have it leverage the performance of SQL engines under-the-hood\n",
    "* In production, use the same code to process large amounts data on the data warehouse where it already lives, avoiding a code rewrite\n",
    "* Get to keep all of your code, from data engineering to machine learning, in Python!\n",
    "\n",
    "Ibis enables this by providing a unified dataframe interface to 20+ backends. The syntax is similar to dplyr in R, or Polars in Python (and Polars is also one of the supported backends). "
   ]
  },
  {
   "cell_type": "code",
   "execution_count": null,
   "metadata": {},
   "outputs": [],
   "source": [
    "import ibis\n",
    "from ibis import _\n",
    "\n",
    "ibis.options.interactive = False  # This is the default."
   ]
  },
  {
   "cell_type": "markdown",
   "metadata": {},
   "source": [
    "# Explore game-level data"
   ]
  },
  {
   "cell_type": "code",
   "execution_count": null,
   "metadata": {},
   "outputs": [],
   "source": [
    "games = ibis.read_parquet(\"data/games.parquet\")\n",
    "games"
   ]
  },
  {
   "cell_type": "markdown",
   "metadata": {},
   "source": [
    "By default, you get a printable representation of the table schema, showing the name and data type of each column."
   ]
  },
  {
   "cell_type": "code",
   "execution_count": null,
   "metadata": {},
   "outputs": [],
   "source": [
    "games.count().to_pyarrow().as_py()"
   ]
  },
  {
   "cell_type": "code",
   "execution_count": null,
   "metadata": {},
   "outputs": [],
   "source": [
    "type(games)"
   ]
  },
  {
   "cell_type": "code",
   "execution_count": null,
   "metadata": {},
   "outputs": [],
   "source": [
    "type(games.game_id)"
   ]
  },
  {
   "cell_type": "markdown",
   "metadata": {},
   "source": [
    "If we call the `head` method to peek at the data, you'll notice that we don't actually see any data (yet)."
   ]
  },
  {
   "cell_type": "code",
   "execution_count": null,
   "metadata": {},
   "outputs": [],
   "source": [
    "games.head()"
   ]
  },
  {
   "cell_type": "markdown",
   "metadata": {},
   "source": [
    "So what's going on? Ibis has a deferred execution model. It builds up expressions/queries based on what we ask it to do, and then executes those expressions once actually necessary. It's lazy (or efficient).\n",
    "\n",
    "To just see a few rows of the `games` table, we could ask for the results of `games.head()` as a `pandas.DataFrame`, `pyarrow.Table`, or `polars.DataFrame`:"
   ]
  },
  {
   "cell_type": "code",
   "execution_count": null,
   "metadata": {},
   "outputs": [],
   "source": [
    "games.head().to_pandas()"
   ]
  },
  {
   "cell_type": "markdown",
   "metadata": {},
   "source": [
    "Ibis also has an interactive mode. In this mode, Ibis will eagerly execute as much of the query as it needs to in order to show us 10 rows of the result.\n",
    "\n",
    "(\"Eager\" = not deferred/lazy)"
   ]
  },
  {
   "cell_type": "code",
   "execution_count": null,
   "metadata": {},
   "outputs": [],
   "source": [
    "ibis.options.interactive = True\n",
    "games"
   ]
  },
  {
   "cell_type": "markdown",
   "metadata": {},
   "source": [
    "So now we see a bit of the table itself, instead of a table schema or a query plan.\n",
    "\n",
    "Note that, unlike pandas, databases/Parquet don't necessarily maintain a particular ordering of the rows (they don't have an index). "
   ]
  },
  {
   "cell_type": "markdown",
   "metadata": {},
   "source": [
    "# Ibis \"verbs\"—actions you can do to a table\n",
    "We'll cover `select`, `drop`, `mutate`, `filter`, `order_by`, `aggregate`, and `group_by`. Time to dive in!\n",
    "## Select and drop\n",
    "`select` selects a subset of the columns in the original table. We can use strings of the column names:"
   ]
  },
  {
   "cell_type": "code",
   "execution_count": null,
   "metadata": {},
   "outputs": [],
   "source": [
    "games_selected_columns = games.select(\n",
    "    \"event\",\n",
    "    \"result\",\n",
    "    \"white_elo\",\n",
    "    \"black_elo\",\n",
    "    \"time_control\",\n",
    "    \"termination\",\n",
    "    \"white_title\",\n",
    "    \"black_title\",\n",
    ")\n",
    "games_selected_columns"
   ]
  },
  {
   "cell_type": "markdown",
   "metadata": {},
   "source": [
    "Or explicit references to the `Column` objects:"
   ]
  },
  {
   "cell_type": "code",
   "execution_count": null,
   "metadata": {},
   "outputs": [],
   "source": [
    "games_selected_columns.select(\n",
    "    games_selected_columns.result,\n",
    "    games_selected_columns.white_elo,\n",
    "    games_selected_columns.black_elo,\n",
    ")"
   ]
  },
  {
   "cell_type": "markdown",
   "metadata": {},
   "source": [
    "In this case, tab completion works to save typing \"games_selected_columns\" repeatedly. But Ibis also has a deferred operator `_`, which stands for the last table to the left of the current function call."
   ]
  },
  {
   "cell_type": "code",
   "execution_count": null,
   "metadata": {},
   "outputs": [],
   "source": [
    "games_selected_columns.select(_.result, _.white_elo, _.black_elo)"
   ]
  },
  {
   "cell_type": "code",
   "execution_count": null,
   "metadata": {},
   "outputs": [],
   "source": [
    "ibis.to_sql(games_selected_columns)"
   ]
  },
  {
   "cell_type": "markdown",
   "metadata": {},
   "source": [
    "Currently, we're using a DuckDB backend, but there's also `dialect` keyword parameter to get the same query in other SQL dialects."
   ]
  },
  {
   "cell_type": "code",
   "execution_count": null,
   "metadata": {},
   "outputs": [],
   "source": [
    "import ibis.selectors as s\n",
    "\n",
    "games.select(s.contains(\"white\"))"
   ]
  },
  {
   "cell_type": "markdown",
   "metadata": {},
   "source": [
    "`drop` is similar to `select`, but we specify which columns to _not_ include. \n",
    "\n",
    "### Exercise 1\n",
    "How would you show all of the columns except the day (since this dataset only spans a couple of days) and the site (which seems redundant with `game_id`)?"
   ]
  },
  {
   "cell_type": "code",
   "execution_count": null,
   "metadata": {},
   "outputs": [],
   "source": [
    "# Write your solution here\n"
   ]
  },
  {
   "cell_type": "markdown",
   "metadata": {},
   "source": [
    "#### Solution"
   ]
  },
  {
   "cell_type": "code",
   "execution_count": null,
   "metadata": {},
   "outputs": [],
   "source": [
    "%load solutions/nb01_ex01.py"
   ]
  },
  {
   "cell_type": "markdown",
   "metadata": {},
   "source": [
    "## Mutate\n",
    "While `select` and `drop` subtract columns, `mutate` can add them! We can create a new column as a function of existing column(s).\n",
    "\n",
    "Elo ratings in chess are a metric of the strength of a player, with higher ratings signifying stronger players. For the sake of an example, let's assume that rating is more widely understood than Elo, so we want new columns labelled white/black_rating. And we definitely want it to be of data type int, not string. (`try_cast` is like `cast`, but doesn't fail on NULLs or other bad apples.)"
   ]
  },
  {
   "cell_type": "code",
   "execution_count": null,
   "metadata": {},
   "outputs": [],
   "source": [
    "games_selected_columns = games_selected_columns.mutate(\n",
    "    white_rating=_.white_elo.try_cast(int)\n",
    ")\n",
    "games_selected_columns"
   ]
  },
  {
   "cell_type": "markdown",
   "metadata": {},
   "source": [
    "And then we don't need the old Elo column."
   ]
  },
  {
   "cell_type": "code",
   "execution_count": null,
   "metadata": {},
   "outputs": [],
   "source": [
    "games_selected_columns = games_selected_columns.drop(_.white_elo)"
   ]
  },
  {
   "cell_type": "markdown",
   "metadata": {},
   "source": [
    "### Method Chaining\n",
    "We can build up more complicated queries by chaining together Ibis methods. The output of many Ibis methods is a table, just like the original `games` table. So we can continue calling table methods until we're satisfied (or until we end up with something that _isn't_ a table)."
   ]
  },
  {
   "cell_type": "code",
   "execution_count": null,
   "metadata": {},
   "outputs": [],
   "source": [
    "games_selected_columns = games_selected_columns.mutate(\n",
    "    black_rating=_.black_elo.try_cast(int)\n",
    ").drop(\"black_elo\")\n",
    "games_selected_columns"
   ]
  },
  {
   "cell_type": "markdown",
   "metadata": {},
   "source": [
    "## Filter\n",
    "Back to verbs. `select` selected columns, `drop` dropped columns, and now `filter` filters rows based on some condition.\n",
    "\n",
    "Suppose we're interested only in games where white is a pretty strong player."
   ]
  },
  {
   "cell_type": "code",
   "execution_count": null,
   "metadata": {},
   "outputs": [],
   "source": [
    "games_selected_columns.filter(_.white_rating >= 2200)"
   ]
  },
  {
   "cell_type": "markdown",
   "metadata": {},
   "source": [
    "Turns out this condition is true in nearly 10% of these games:"
   ]
  },
  {
   "cell_type": "code",
   "execution_count": null,
   "metadata": {},
   "outputs": [],
   "source": [
    "games_selected_columns.filter(\n",
    "    _.white_rating >= 2200\n",
    ").count().to_pandas() / games_selected_columns.count().to_pandas()"
   ]
  },
  {
   "cell_type": "markdown",
   "metadata": {},
   "source": [
    "Conditions can be combined using an element-wise logical operator."
   ]
  },
  {
   "cell_type": "code",
   "execution_count": null,
   "metadata": {},
   "outputs": [],
   "source": [
    "strong_games = games_selected_columns.filter(\n",
    "    (_.white_rating >= 2200) & (_.black_rating >= 2200)\n",
    ")"
   ]
  },
  {
   "cell_type": "code",
   "execution_count": null,
   "metadata": {},
   "outputs": [],
   "source": [
    "strong_games.count().to_pandas() / games_selected_columns.count().to_pandas()"
   ]
  },
  {
   "cell_type": "markdown",
   "metadata": {},
   "source": [
    "Or by listing the component conditions as separate arguments (this is still a logical `and`)."
   ]
  },
  {
   "cell_type": "code",
   "execution_count": null,
   "metadata": {},
   "outputs": [],
   "source": [
    "games_selected_columns.filter(_.white_rating >= 2200, _.result == \"0-1\")"
   ]
  },
  {
   "cell_type": "markdown",
   "metadata": {},
   "source": [
    "## Order_by\n",
    "And `order_by`, you guessed it, orders by the specified column (i.e. sorts the rows by the data in that column). Ibis enforces a default ascending order across all backends, even though some backends may have a native default of descending."
   ]
  },
  {
   "cell_type": "code",
   "execution_count": null,
   "metadata": {},
   "outputs": [],
   "source": [
    "games_selected_columns.order_by(_.white_rating)"
   ]
  },
  {
   "cell_type": "code",
   "execution_count": null,
   "metadata": {},
   "outputs": [],
   "source": [
    "games_selected_columns.order_by(_.white_rating.desc())"
   ]
  },
  {
   "cell_type": "markdown",
   "metadata": {},
   "source": [
    "### Exercise 2\n",
    "Show the 10 games with the highest white ratings where white nevertheless lost. "
   ]
  },
  {
   "cell_type": "code",
   "execution_count": null,
   "metadata": {},
   "outputs": [],
   "source": [
    "# Write your solution here\n"
   ]
  },
  {
   "cell_type": "markdown",
   "metadata": {},
   "source": [
    "#### Solution 2"
   ]
  },
  {
   "cell_type": "code",
   "execution_count": null,
   "metadata": {},
   "outputs": [],
   "source": [
    "%load solutions/nb01_ex02.py"
   ]
  },
  {
   "cell_type": "markdown",
   "metadata": {},
   "source": [
    "### Exercise 3\n",
    "Can you combine what you've learned so far with `cases` ( https://ibis-project.org/reference/expression-generic.html#ibis.expr.types.generic.Value.cases ) to show the 10 biggest upsets? By \"upsets\", we mean that the winner's rating is much lower than the loser's rating. Just ignore the games that ended in a draw (1/2-1/2)."
   ]
  },
  {
   "cell_type": "code",
   "execution_count": null,
   "metadata": {},
   "outputs": [],
   "source": [
    "# Write your solution here\n"
   ]
  },
  {
   "cell_type": "markdown",
   "metadata": {},
   "source": [
    "#### Solution 3"
   ]
  },
  {
   "cell_type": "code",
   "execution_count": null,
   "metadata": {},
   "outputs": [],
   "source": [
    "%load solutions/nb01_ex03.py"
   ]
  },
  {
   "cell_type": "markdown",
   "metadata": {},
   "source": [
    "The deferred operator (`_`) really shines here, since it enables reference to a table object with no name. `\"winner_margin\"` isn't a column in `games_selected_columns`, so we wouldn't have been able to do this in one line of code otherwise."
   ]
  },
  {
   "cell_type": "code",
   "execution_count": null,
   "metadata": {},
   "outputs": [],
   "source": [
    "ibis.to_sql(expr)"
   ]
  },
  {
   "cell_type": "markdown",
   "metadata": {},
   "source": [
    "If you came up with a different solution, it's possible that the generated SQL (`ibis.to_sql()`) is slightly different. In practice, small differences in the generated SQL don't make a difference. Any modern SQL execution engine will optimize execution of queries containing variations of the same set of operations, and there will be no measurable performance difference.\n",
    "\n",
    "## Aggregate\n",
    "\n",
    "Ibis has several aggregate functions available to help summarize data.  All the old favorites are there: `mean`, `max`, `min`, `count`, `sum`...\n",
    "\n",
    "You can aggregate a column by calling the method on that column:"
   ]
  },
  {
   "cell_type": "code",
   "execution_count": null,
   "metadata": {},
   "outputs": [],
   "source": [
    "games_selected_columns.white_rating.mean()"
   ]
  },
  {
   "cell_type": "markdown",
   "metadata": {},
   "source": [
    "There's also an `aggregate` function (also affectionately known as `agg`). Aggregates really shine when paired with a `group_by`.\n",
    "\n",
    "# Group by\n",
    "\n",
    "`group_by` creates groupings of rows that have the same value for one or more columns. But it doesn't do much on its own; instead, you can pair it an aggregate function to get a result:"
   ]
  },
  {
   "cell_type": "code",
   "execution_count": null,
   "metadata": {},
   "outputs": [],
   "source": [
    "games_selected_columns.group_by(\"white_title\").count().to_pandas()"
   ]
  },
  {
   "cell_type": "markdown",
   "metadata": {},
   "source": [
    "Using just `agg` without any aggregate function specified gives us the distinct values (or pairs or sets of values) of the grouped column(s):"
   ]
  },
  {
   "cell_type": "code",
   "execution_count": null,
   "metadata": {},
   "outputs": [],
   "source": [
    "games_selected_columns.group_by(\"white_title\", \"termination\").agg().to_pandas()"
   ]
  },
  {
   "cell_type": "markdown",
   "metadata": {},
   "source": [
    "Or we can pass an aggregate function to `agg`. This is also compatible with more method chaining after the `agg` call!"
   ]
  },
  {
   "cell_type": "code",
   "execution_count": null,
   "metadata": {},
   "outputs": [],
   "source": [
    "games_selected_columns.group_by(\"white_title\").agg(_.white_rating.mean()).order_by(\n",
    "    ibis.desc(\"Mean(white_rating)\")\n",
    ")"
   ]
  },
  {
   "cell_type": "markdown",
   "metadata": {},
   "source": [
    "With `agg`, we also don't have to stick with the default aggregate data column names:"
   ]
  },
  {
   "cell_type": "code",
   "execution_count": null,
   "metadata": {},
   "outputs": [],
   "source": [
    "games_selected_columns.group_by(\"white_title\").agg(\n",
    "    average_white_rating=_.white_rating.mean()\n",
    ").order_by(ibis.desc(\"average_white_rating\"))"
   ]
  },
  {
   "cell_type": "markdown",
   "metadata": {},
   "source": [
    "### Exercise 4\n",
    "What was the distribution of results in games (number of white wins, black wins, and draws) involving at least one grandmaster (\"GM\")?"
   ]
  },
  {
   "cell_type": "code",
   "execution_count": null,
   "metadata": {},
   "outputs": [],
   "source": [
    "# Write your solution here\n"
   ]
  },
  {
   "cell_type": "markdown",
   "metadata": {},
   "source": [
    "#### Solution"
   ]
  },
  {
   "cell_type": "code",
   "execution_count": null,
   "metadata": {},
   "outputs": [],
   "source": [
    "%load solutions/nb01_ex04.py"
   ]
  },
  {
   "cell_type": "markdown",
   "metadata": {},
   "source": [
    "Let's compare that to games where both players were untitled."
   ]
  },
  {
   "cell_type": "code",
   "execution_count": null,
   "metadata": {},
   "outputs": [],
   "source": [
    "%load solutions/nb01_ex05.py"
   ]
  },
  {
   "cell_type": "markdown",
   "metadata": {},
   "source": [
    "Finally, let's use `group_by` and `agg` to get a better understanding of the `time_control` column."
   ]
  },
  {
   "cell_type": "code",
   "execution_count": null,
   "metadata": {},
   "outputs": [],
   "source": [
    "split_index = games_selected_columns.time_control.find(\"+\")\n",
    "base_time = games_selected_columns.time_control.substr(0, split_index).try_cast(int)\n",
    "increment = games_selected_columns.time_control.substr(split_index + 1).try_cast(int)\n",
    "games_effective_time = games_selected_columns.mutate(\n",
    "    effective_time_control=(base_time + 40 * increment) / 60\n",
    ")"
   ]
  },
  {
   "cell_type": "code",
   "execution_count": null,
   "metadata": {},
   "outputs": [],
   "source": [
    "expr = games_effective_time.filter(\n",
    "    ~(_.event.contains(\"tournament\")), ~(_.event.contains(\"swiss\"))\n",
    ").group_by(\"event\")\n",
    "expr.agg(\n",
    "    min_eff_time=_.effective_time_control.min(),\n",
    "    max_eff_time=_.effective_time_control.max(),\n",
    ").order_by(_.max_eff_time)"
   ]
  },
  {
   "cell_type": "code",
   "execution_count": null,
   "metadata": {},
   "outputs": [],
   "source": []
  },
  {
   "cell_type": "code",
   "execution_count": null,
   "metadata": {},
   "outputs": [],
   "source": [
    "white_counts = games.white.value_counts()\n",
    "white_counts.order_by(_.white_count.desc())"
   ]
  },
  {
   "cell_type": "code",
   "execution_count": null,
   "metadata": {},
   "outputs": [],
   "source": [
    "black_counts = games.black.value_counts()\n",
    "black_counts.order_by(_.black_count.desc())"
   ]
  },
  {
   "cell_type": "code",
   "execution_count": null,
   "metadata": {},
   "outputs": [],
   "source": [
    "joined_counts = white_counts.outer_join(\n",
    "    black_counts, (white_counts.white == black_counts.black)\n",
    ")\n",
    "expr = joined_counts.mutate(\n",
    "    total_games=_.white_count.fill_null(0) + _.black_count.fill_null(0)\n",
    ").order_by(_.total_games.desc())\n",
    "\n",
    "expr"
   ]
  },
  {
   "cell_type": "code",
   "execution_count": null,
   "metadata": {},
   "outputs": [],
   "source": [
    "ibis.to_sql(expr)"
   ]
  }
 ],
 "metadata": {
  "kernelspec": {
   "display_name": ".venv",
   "language": "python",
   "name": "python3"
  },
  "language_info": {
   "codemirror_mode": {
    "name": "ipython",
    "version": 3
   },
   "file_extension": ".py",
   "mimetype": "text/x-python",
   "name": "python",
   "nbconvert_exporter": "python",
   "pygments_lexer": "ipython3",
   "version": "3.12.9"
  }
 },
 "nbformat": 4,
 "nbformat_minor": 4
}
