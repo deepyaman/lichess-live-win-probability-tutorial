{
 "cells": [
  {
   "cell_type": "markdown",
   "metadata": {},
   "source": [
    "# Welcome to the Ibis and IbisML tutorial!\n",
    "\n",
    "You can either run everything on your local machine using Visual Studio Code or in the cloud using GitHub Codespaces. If you anticipate you won't have reliable internet (e.g. at SciPy 2025), the Visual Studio Code option is the way to go.\n",
    "\n",
    "## Getting started using Visual Studio Code\n",
    "\n",
    "To follow along, [download and install Visual Studio Code for your platform](https://code.visualstudio.com/docs/setup/setup-overview#_set-up-vs-code-for-your-platform) and set up your workspace:\n",
    "\n",
    "1. Clone https://github.com/deepyaman/lichess-live-win-probability-tutorial\n",
    "\n",
    "   ```bash\n",
    "   git clone https://github.com/deepyaman/lichess-live-win-probability-tutorial.git\n",
    "   ```\n",
    "\n",
    "2. [Open the `lichess-live-win-probability-tutorial` folder](https://code.visualstudio.com/docs/getstarted/getting-started#_open-a-folder-in-vs-code)\n",
    "\n",
    "   <img src=\"static/open-folder.png\" alt=\"Open the folder\" width=\"900px\"/>\n",
    "\n",
    "3. Click \"Yes, I trust the authors\" to enable all features\n",
    "\n",
    "   <img src=\"static/trust-authors.png\" alt=\"Trust the authors\" width=\"900px\"/>\n",
    "\n",
    "4. Install the recommended 'Dev Containers' extension from Microsoft for the repository\n",
    "\n",
    "   <img src=\"static/install-dev-containers.png\" alt=\"Install the recommended 'Dev Containers' extension\" width=\"900px\"/>\n",
    "\n",
    "5. Reopen the folder in a container\n",
    "\n",
    "   <img src=\"static/reopen-in-container.png\" alt=\"Reopen the folder in a container\" width=\"900px\"/>\n",
    "\n",
    "6. [Run `git pull` in your terminal](https://code.visualstudio.com/docs/terminal/getting-started#_run-your-first-command-in-the-terminal) to ensure that you have the latest code\n",
    "\n",
    "   <img src=\"static/git-pull-vscode.png\" alt=\"Fetch the latest code from GitHub\" width=\"900px\"/>\n",
    "\n",
    "## Getting started using GitHub Codespaces\n",
    "\n",
    "To follow along, create a GitHub Codespace on https://github.com/deepyaman/lichess-live-win-probability-tutorial:\n",
    "\n",
    "1. After signing in to your GitHub account, create a new codespace on `main`, making sure to choose \"New with options...\"\n",
    "\n",
    "   <img src=\"static/new-codespace.png\" alt=\"Create a new codespace\" width=\"600px\"/>\n",
    "\n",
    "2. Create the codespace in US East (prebuild available) with at least 4 cores\n",
    "\n",
    "   <img src=\"static/configure-options.png\" alt=\"Configure options for your new codespace\" width=\"600px\"/>\n",
    "\n",
    "3. Wait for the codespace to be fully initialized (you should see `(lichess-live-win-probability-tutorial)` at the start of your terminal prompt)\n",
    "\n",
    "   <img src=\"static/environment-activated.png\" alt=\"Wait for the environment to be activated\" width=\"900px\"/>\n",
    "\n",
    "4. Run `git pull` in your terminal to ensure that you have the latest code\n",
    "\n",
    "   <img src=\"static/git-pull.png\" alt=\"Fetch the latest code from GitHub\" width=\"900px\"/>"
   ]
  }
 ],
 "metadata": {
  "kernelspec": {
   "display_name": ".venv",
   "language": "python",
   "name": "python3"
  },
  "language_info": {
   "name": "python",
   "version": "3.12.7"
  }
 },
 "nbformat": 4,
 "nbformat_minor": 2
}
