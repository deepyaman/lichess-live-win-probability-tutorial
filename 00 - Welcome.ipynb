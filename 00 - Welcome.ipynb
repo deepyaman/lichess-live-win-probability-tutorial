{
 "cells": [
  {
   "cell_type": "markdown",
   "metadata": {},
   "source": [
    "# Welcome to the Ibis and IbisML tutorial!\n",
    "\n",
    "## Getting started\n",
    "\n",
    "To follow along, create a GitHub Codespace on https://github.com/deepyaman/lichess-live-win-probability-tutorial:\n",
    "\n",
    "1. Create a new codespace on `main`, making sure to choose \"New with options...\"\n",
    "\n",
    "   <img src=\"static/new-codespace.png\" alt=\"Create a new codespace\" width=\"600px\"/>\n",
    "\n",
    "2. Create the codespace in US East (prebuild available) with at least 4 cores\n",
    "\n",
    "   <img src=\"static/configure-options.png\" alt=\"Configure options for your new codespace\" width=\"600px\"/>\n",
    "\n",
    "3. Wait for the codespace to be fully initialized (you should see `(lichess-live-win-probability-tutorial)` at the start of your terminal prompt)\n",
    "\n",
    "   <img src=\"static/environment-activated.png\" alt=\"Wait for the environment to be activated\" width=\"900px\"/>\n",
    "\n",
    "4. Run `git pull` in your terminal to ensure that you have the latest code\n",
    "\n",
    "   <img src=\"static/git-pull.png\" alt=\"Fetch the latest code from GitHub\" width=\"900px\"/>\n",
    "\n",
    "While it's possible to run everything on your local machine, we will not be able to debug issues outside Codespaces."
   ]
  }
 ],
 "metadata": {
  "kernelspec": {
   "display_name": ".venv",
   "language": "python",
   "name": "python3"
  },
  "language_info": {
   "name": "python",
   "version": "3.12.7"
  }
 },
 "nbformat": 4,
 "nbformat_minor": 2
}
