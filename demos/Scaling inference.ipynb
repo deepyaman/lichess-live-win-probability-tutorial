{
 "cells": [
  {
   "cell_type": "code",
   "execution_count": null,
   "id": "0",
   "metadata": {},
   "outputs": [],
   "source": [
    "import ibis\n",
    "import ibis_ml as ml\n",
    "from ibis import _\n",
    "\n",
    "ibis.options.interactive = True"
   ]
  },
  {
   "cell_type": "code",
   "execution_count": null,
   "id": "1",
   "metadata": {},
   "outputs": [],
   "source": [
    "model_input_table = ibis.read_parquet(\"solutions/small_model_input_table.parquet\")\n",
    "model_input_table"
   ]
  },
  {
   "cell_type": "markdown",
   "id": "2",
   "metadata": {},
   "source": [
    "# Data splitting"
   ]
  },
  {
   "cell_type": "code",
   "execution_count": null,
   "id": "3",
   "metadata": {},
   "outputs": [],
   "source": [
    "# Create data frames for the two sets:\n",
    "train_data, test_data = ml.train_test_split(\n",
    "    model_input_table,\n",
    "    unique_key=\"game_id\",\n",
    "    # Put 3/4 of the data into the training set\n",
    "    test_size=0.25,\n",
    "    num_buckets=4,\n",
    "    # Set the seed to enable reproducible analysis\n",
    "    random_seed=111,\n",
    ")"
   ]
  },
  {
   "cell_type": "markdown",
   "id": "4",
   "metadata": {},
   "source": [
    "# Fit a model with a recipe"
   ]
  },
  {
   "cell_type": "code",
   "execution_count": null,
   "id": "5",
   "metadata": {},
   "outputs": [],
   "source": [
    "import xgboost as xgb\n",
    "from sklearn.pipeline import Pipeline\n",
    "\n",
    "NUM_MOVES = 40\n",
    "\n",
    "X_train = train_data.drop(\"target\")\n",
    "y_train = train_data.target\n",
    "\n",
    "xgb_reg_pipe = Pipeline(\n",
    "    [\n",
    "        (\n",
    "            \"xgb_recipe\",\n",
    "            ml.Recipe(\n",
    "                ml.Mutate(\n",
    "                    relative_clock_diff=(_.white_clock - _.black_clock)\n",
    "                    / (_.base_time + _.increment * NUM_MOVES)\n",
    "                ),\n",
    "                ml.DropZeroVariance(ml.everything()),\n",
    "                ml.Drop(ml.string()),\n",
    "                ml.Cast(ml.everything(), \"float64\"),\n",
    "            ),\n",
    "        ),\n",
    "        (\"xgb_reg\", xgb.XGBRegressor(n_estimators=10)),\n",
    "    ]\n",
    ")\n",
    "xgb_reg_pipe.set_output(transform=\"pandas\")\n",
    "# The regressor seems to overfit much more quickly than the classifier\n",
    "# With the default eta=0.3, try n_estimators=10\n",
    "# With eta=0.1, try n_estimators=20\n",
    "xgb_reg_pipe.fit(X_train, y_train)\n",
    "\n",
    "xgb_reg_pipe[\"xgb_reg\"].save_model(\"solutions/live-win-probability-model.json\")"
   ]
  },
  {
   "cell_type": "markdown",
   "id": "6",
   "metadata": {},
   "source": [
    "# Perform inference using LETSQL"
   ]
  },
  {
   "cell_type": "code",
   "execution_count": null,
   "id": "7",
   "metadata": {},
   "outputs": [],
   "source": [
    "import letsql as ls\n",
    "\n",
    "import ibis.selectors as s\n",
    "from letsql.common.caching import ParquetCacheStorage\n",
    "\n",
    "con = ls.connect()\n",
    "\n",
    "duckdb_con = ls.duckdb.connect()\n",
    "cache = ParquetCacheStorage(source=con, path=\"letsql-tmp\")\n",
    "\n",
    "t = (\n",
    "    duckdb_con.read_parquet(\"solutions/small_model_input_table.parquet\")\n",
    "    .pipe(con.register, \"model_input_table\")\n",
    "    .cache(storage=cache)\n",
    ")\n",
    "model_path = \"solutions/live-win-probability-model.json\"\n",
    "\n",
    "predict_xgb = con.register_xgb_model(\"live_win_probability\", model_path)"
   ]
  },
  {
   "cell_type": "code",
   "execution_count": null,
   "id": "8",
   "metadata": {},
   "outputs": [],
   "source": [
    "t"
   ]
  },
  {
   "cell_type": "code",
   "execution_count": null,
   "id": "9",
   "metadata": {},
   "outputs": [],
   "source": [
    "xgb_reg_pipe[\"xgb_recipe\"].to_ibis(t)"
   ]
  },
  {
   "cell_type": "code",
   "execution_count": null,
   "id": "10",
   "metadata": {},
   "outputs": [],
   "source": [
    "t_pred = (\n",
    "    xgb_reg_pipe[\"xgb_recipe\"]\n",
    "    .to_ibis(t)\n",
    "    .mutate(predicted_live_win_probability=predict_xgb.on_expr)\n",
    ")\n",
    "t_pred"
   ]
  }
 ],
 "metadata": {
  "kernelspec": {
   "display_name": "Python 3 (ipykernel)",
   "language": "python",
   "name": "python3"
  },
  "language_info": {
   "codemirror_mode": {
    "name": "ipython",
    "version": 3
   },
   "file_extension": ".py",
   "mimetype": "text/x-python",
   "name": "python",
   "nbconvert_exporter": "python",
   "pygments_lexer": "ipython3",
   "version": "3.12.7"
  }
 },
 "nbformat": 4,
 "nbformat_minor": 5
}
