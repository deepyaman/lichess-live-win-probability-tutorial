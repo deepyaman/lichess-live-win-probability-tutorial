{
 "cells": [
  {
   "cell_type": "markdown",
   "metadata": {},
   "source": [
    "# Data ingestion with dlt"
   ]
  },
  {
   "cell_type": "code",
   "execution_count": null,
   "metadata": {},
   "outputs": [],
   "source": [
    "import io\n",
    "from itertools import islice\n",
    "\n",
    "import chess.pgn\n",
    "import dlt\n",
    "import pandas as pd\n",
    "import zstandard\n",
    "from alive_progress import alive_bar\n",
    "\n",
    "LICHESS_URL = \"https://lichess.org/\"\n",
    "\n",
    "\n",
    "def get_games_and_moves(path):\n",
    "    with open(path, \"rb\") as fh, alive_bar(87_713_219) as bar:\n",
    "        dctx = zstandard.ZstdDecompressor()\n",
    "        stream_reader = dctx.stream_reader(fh)\n",
    "        text_stream = io.TextIOWrapper(stream_reader, encoding=\"utf-8\")\n",
    "        while (game := chess.pgn.read_game(text_stream)) is not None:\n",
    "            site = game.headers[\"Site\"]\n",
    "            if not site.startswith(LICHESS_URL):\n",
    "                raise ValueError(f\"Site must start with {LICHESS_URL}\")\n",
    "\n",
    "            game_id = site[len(LICHESS_URL) :]\n",
    "            yield {\n",
    "                \"game_id\": game_id,\n",
    "                **game.headers,\n",
    "                \"moves\": [\n",
    "                    {\"game_id\": game_id, \"ply\": ply, \"comment\": move.comment}\n",
    "                    for ply, move in enumerate(game.mainline(), start=1)\n",
    "                ],\n",
    "            }\n",
    "            bar()\n",
    "\n",
    "\n",
    "@dlt.resource\n",
    "def games_and_moves(path):\n",
    "    games_and_moves = get_games_and_moves(path)\n",
    "    while True:\n",
    "        games = []\n",
    "        moves = []\n",
    "        for game in islice(games_and_moves, 100_000):\n",
    "            moves += game.pop(\"moves\")\n",
    "            games.append(game)\n",
    "\n",
    "        if not games:\n",
    "            break\n",
    "\n",
    "        yield dlt.mark.with_table_name(pd.DataFrame.from_records(games), \"games\")\n",
    "        yield dlt.mark.with_table_name(pd.DataFrame.from_records(moves), \"moves\")\n",
    "\n",
    "\n",
    "pipeline = dlt.pipeline(\n",
    "    pipeline_name=\"lichess\",\n",
    "    destination=dlt.destinations.filesystem(\"data\"),\n",
    "    dataset_name=\"lichess\",\n",
    "    progress=dlt.progress.log(600, open(\"logs/lichess_db_standard_rated_2024-09\", \"w\")),\n",
    ")\n",
    "pipeline.run(\n",
    "    games_and_moves(\"data/lichess_db_standard_rated_2024-09.pgn.zst\"),\n",
    "    loader_file_format=\"parquet\",\n",
    ")"
   ]
  }
 ],
 "metadata": {
  "language_info": {
   "name": "python"
  }
 },
 "nbformat": 4,
 "nbformat_minor": 2
}
